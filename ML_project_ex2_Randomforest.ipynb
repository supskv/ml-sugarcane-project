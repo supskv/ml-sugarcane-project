{
 "cells": [
  {
   "cell_type": "code",
   "execution_count": 1,
   "id": "475e82fa-85bb-46c6-8cea-c33a1b29322d",
   "metadata": {},
   "outputs": [],
   "source": [
    "import pandas as pd\n",
    "import numpy as np\n",
    "from copy import copy\n",
    "import torch\n",
    "import matplotlib.pyplot as plt"
   ]
  },
  {
   "cell_type": "code",
   "execution_count": 2,
   "id": "55882e00-0e6c-459b-a80a-c97a756af6b0",
   "metadata": {},
   "outputs": [],
   "source": [
    "dataset_path = 'training_data_1718.csv'"
   ]
  },
  {
   "cell_type": "code",
   "execution_count": 3,
   "id": "8d18b972-8431-49cf-8c97-9b3e240403a5",
   "metadata": {},
   "outputs": [],
   "source": [
    "def file_to_data(filename):\n",
    "    \n",
    "    # read file\n",
    "    raw = pd.read_csv(filename)\n",
    "    \n",
    "    # define columns to be extracted\n",
    "    ndvi_col = ['ndvi_mean'+str(i) for i in range(1, 24+1)] # ndvi_mean1, ..., ndvi_mean24\n",
    "    savi_col = ['ndvi_mean'+str(i) for i in range(1, 24+1)] # ndvi_mean1, ..., savi_mean24\n",
    "    evi_col = ['ndvi_mean'+str(i) for i in range(1, 24+1)] # ndvi_mean1, ..., evi_mean24\n",
    "\n",
    "    # extract each feature\n",
    "    ndvi_timeseries = raw[ndvi_col]\n",
    "    savi_timeseries = raw[savi_col]\n",
    "    evi_timeseries = raw[evi_col]\n",
    "    \n",
    "    # dimension stack\n",
    "    data = np.dstack([ndvi_timeseries, savi_timeseries, evi_timeseries])\n",
    "    \n",
    "    # get only label\n",
    "    label = raw.iloc[:, -1]\n",
    "    \n",
    "    return data, label\n",
    "\n",
    "def data_to_lv1_x_y(data, labels):\n",
    "    \n",
    "    # export all X\n",
    "    # but reclass the plant cane -> 100, ratoon cane -> 200\n",
    "    target = copy(labels)\n",
    "    target[target > 200] = 200\n",
    "    target[(target < 200) & (target > 100)] = 100\n",
    "    \n",
    "    return data, target\n",
    "\n",
    "def data_to_lv2_x_y(data, target):\n",
    "    \n",
    "    # export X plant which labels are 100-200\n",
    "    X_plant = data[(target > 100) & (target <200)]\n",
    "    \n",
    "    # export X ratoon which labels are >200\n",
    "    X_ratoon = data[target > 200]\n",
    "    \n",
    "    # export y plant which labels are 100-200\n",
    "    y_plant = target[(target > 100) & (target < 200)]\n",
    "    \n",
    "    # export y ratoon which labels are >200\n",
    "    y_ratoon = target[target > 200]\n",
    "    \n",
    "    return X_plant, y_plant, X_ratoon, y_ratoon\n",
    "\n",
    "def label_encode(y):\n",
    "    \n",
    "    target = copy(y)\n",
    "    # redefine the cane plantation label to be 1 - 24\n",
    "    new_y = [int(str(label)[1:]) for label in target]\n",
    "    \n",
    "    return np.array(new_y)"
   ]
  },
  {
   "cell_type": "code",
   "execution_count": 4,
   "id": "598462c7-c185-4dcf-acef-7d143a933bd4",
   "metadata": {},
   "outputs": [],
   "source": [
    "data_train, labels_train = file_to_data('training_data_1718.csv')\n",
    "data_test, labels_test = file_to_data('training_data_1819.csv')"
   ]
  },
  {
   "cell_type": "code",
   "execution_count": 5,
   "id": "0a630b33-a4e9-4384-b931-c5ecbc2ae6d2",
   "metadata": {},
   "outputs": [],
   "source": [
    "X_plant_train, y_plant_train, X_ratoon_train, y_ratoon_train = data_to_lv2_x_y(data_train, labels_train)\n",
    "X_plant_test, y_plant_test, X_ratoon_test, y_ratoon_test = data_to_lv2_x_y(data_test, labels_test)"
   ]
  },
  {
   "cell_type": "code",
   "execution_count": 6,
   "id": "93f5c6d2-b045-4013-8a6f-569ca7cc768f",
   "metadata": {},
   "outputs": [],
   "source": [
    "def makelabel(y):\n",
    "    y = y.to_numpy()\n",
    "    for i in range(len(y)):\n",
    "        if y[i] %100 >0 and y[i] %100<=2:\n",
    "              y[i] = 0 \n",
    "        elif y[i] %100>2 and y[i] %100<=4:\n",
    "              y[i] = 1 \n",
    "        elif y[i] %100>4 and y[i] %100<=6:\n",
    "              y[i] = 2 \n",
    "        elif y[i] %100>6 and y[i] %100<=8:\n",
    "              y[i] = 3                 \n",
    "        elif y[i] %100>8 and y[i] %100<=10:\n",
    "              y[i] = 4 \n",
    "        elif y[i] %100>20 and y[i] %100<=22:\n",
    "              y[i] = 10 \n",
    "        elif y[i] %100>22 and y[i] %100<=24:\n",
    "              y[i] = 11           \n",
    "    return y\n",
    "y_plant_train = makelabel(y_plant_train)\n",
    "y_ratoon_train = makelabel(y_ratoon_train)\n",
    "\n",
    "y_plant_test = makelabel(y_plant_test)\n",
    "y_ratoon_test = makelabel(y_ratoon_test)"
   ]
  },
  {
   "cell_type": "code",
   "execution_count": 7,
   "id": "943a9e61-a71a-4a7d-8a4c-968afb673eb6",
   "metadata": {},
   "outputs": [
    {
     "name": "stdout",
     "output_type": "stream",
     "text": [
      "numeric class of y train: [ 0  1  2  3 10 11]\n",
      "numeric class of y test: [ 0  1  2  3 10 11]\n"
     ]
    }
   ],
   "source": [
    "print(f'numeric class of y train: {np.unique(y_plant_train)}')\n",
    "print(f'numeric class of y test: {np.unique(y_plant_test)}')"
   ]
  },
  {
   "cell_type": "code",
   "execution_count": 8,
   "id": "23ef2187-2a3c-4306-ae81-08b29d7ef057",
   "metadata": {},
   "outputs": [],
   "source": [
    "from imblearn.over_sampling import RandomOverSampler\n",
    "from imblearn.under_sampling import RandomUnderSampler\n",
    "from collections import Counter"
   ]
  },
  {
   "cell_type": "code",
   "execution_count": 9,
   "id": "32293638-dbb0-4a13-a3ed-c90aa53a5e78",
   "metadata": {},
   "outputs": [
    {
     "name": "stdout",
     "output_type": "stream",
     "text": [
      "X plant train: (4489, 72)\n",
      "X ratoon train: (7878, 72)\n"
     ]
    }
   ],
   "source": [
    "X_plant_train = X_plant_train.reshape(X_plant_train.shape[0], -1)\n",
    "X_ratoon_train = X_ratoon_train.reshape(X_ratoon_train.shape[0], -1)\n",
    "print(f'X plant train: {X_plant_train.shape}')\n",
    "print(f'X ratoon train: {X_ratoon_train.shape}')"
   ]
  },
  {
   "cell_type": "code",
   "execution_count": 10,
   "id": "19d08cfc-620a-4518-a63e-2f1e0c215dea",
   "metadata": {},
   "outputs": [
    {
     "name": "stdout",
     "output_type": "stream",
     "text": [
      "after oversampled-> X plant shape: (10206, 72)\n",
      "after oversampled-> X ratoon shape: (17650, 72)\n"
     ]
    }
   ],
   "source": [
    "# instantiating the random over sampler \n",
    "ros = RandomOverSampler()\n",
    "# resampling X, y\n",
    "X_plant_train, y_plant_train = ros.fit_resample(X_plant_train, y_plant_train)\n",
    "X_ratoon_train, y_ratoon_train = ros.fit_resample(X_ratoon_train, y_ratoon_train)\n",
    "\n",
    "print(f'after oversampled-> X plant shape: {X_plant_train.shape}')\n",
    "print(f'after oversampled-> X ratoon shape: {X_ratoon_train.shape}')"
   ]
  },
  {
   "cell_type": "code",
   "execution_count": 11,
   "id": "d19665a9-24b6-4f89-9f11-ca4b7cd16774",
   "metadata": {},
   "outputs": [
    {
     "name": "stdout",
     "output_type": "stream",
     "text": [
      "X plant train: (10206, 24, 3)\n",
      "X ratoon train: (17650, 24, 3)\n"
     ]
    }
   ],
   "source": [
    "X_plant_train = X_plant_train.reshape(X_plant_train.shape[0], 24,3)\n",
    "X_ratoon_train = X_ratoon_train.reshape(X_ratoon_train.shape[0], 24,3)\n",
    "\n",
    "print(f'X plant train: {X_plant_train.shape}')\n",
    "print(f'X ratoon train: {X_ratoon_train.shape}')"
   ]
  },
  {
   "cell_type": "code",
   "execution_count": 12,
   "id": "ed9cc1fb-184e-41f4-bd5b-a72f187a8319",
   "metadata": {},
   "outputs": [],
   "source": [
    "X_plant_train = X_plant_train.transpose(0,2,1)\n",
    "X_ratoon_train = X_ratoon_train.transpose(0,2,1)"
   ]
  },
  {
   "cell_type": "code",
   "execution_count": 13,
   "id": "845d7d50-973f-4871-9dfb-8f3400d2b217",
   "metadata": {},
   "outputs": [
    {
     "name": "stdout",
     "output_type": "stream",
     "text": [
      "y plant train: (10206,)\n",
      "y ratoon train: (17650,)\n"
     ]
    }
   ],
   "source": [
    "print(f'y plant train: {y_plant_train.shape}')\n",
    "print(f'y ratoon train: {y_ratoon_train.shape}')"
   ]
  },
  {
   "cell_type": "code",
   "execution_count": 14,
   "id": "e52b3fae-759b-4c9f-a2c0-f16a88e4b44f",
   "metadata": {},
   "outputs": [
    {
     "name": "stdout",
     "output_type": "stream",
     "text": [
      "X plant train: (10206, 3, 14)\n",
      "X ratoon train: (17650, 3, 14)\n"
     ]
    }
   ],
   "source": [
    "X_plant_train = X_plant_train[:,:,:14] # pick only 7 month because It dont plant after april.\n",
    "X_ratoon_train = X_ratoon_train[:,:,:14]\n",
    "print(f'X plant train: {X_plant_train.shape}')\n",
    "print(f'X ratoon train: {X_ratoon_train.shape}')"
   ]
  },
  {
   "cell_type": "code",
   "execution_count": 15,
   "id": "9358de8b-137e-40f0-90e0-7589b1818daa",
   "metadata": {},
   "outputs": [],
   "source": [
    "x_mix = np.concatenate((X_plant_train, X_ratoon_train), axis=0)\n",
    "y_mix = np.concatenate((y_plant_train, y_ratoon_train), axis=0)"
   ]
  },
  {
   "cell_type": "code",
   "execution_count": 16,
   "id": "7c1a03b4-6309-407e-b431-50adb7399fcd",
   "metadata": {},
   "outputs": [],
   "source": [
    "from sklearn.model_selection import train_test_split\n",
    "\n",
    "X_train, X_valid, y_train, y_valid = train_test_split(x_mix, y_mix  , test_size=0.3)"
   ]
  },
  {
   "cell_type": "code",
   "execution_count": 17,
   "id": "639762a8-ba12-4589-ba8c-036b4b54fea0",
   "metadata": {},
   "outputs": [],
   "source": [
    "X_train_ndvi = X_train[:,0,:]\n",
    "X_valid_ndvi = X_valid[:,0,:]\n",
    "X_train_savi = X_train[:,1,:]\n",
    "X_valid_savi = X_valid[:,1,:]\n",
    "X_train_evi = X_train[:,2,:]\n",
    "X_valid_evi = X_valid[:,2,:]"
   ]
  },
  {
   "cell_type": "code",
   "execution_count": 18,
   "id": "95f35ef9-73e7-4d43-8e94-6630c33175ab",
   "metadata": {},
   "outputs": [
    {
     "name": "stdout",
     "output_type": "stream",
     "text": [
      "              precision    recall  f1-score   support\n",
      "\n",
      "           0       0.75      0.95      0.84      1551\n",
      "           1       0.68      0.62      0.65      1614\n",
      "           2       0.72      0.57      0.64      1537\n",
      "           3       0.93      0.96      0.95      1576\n",
      "          10       1.00      1.00      1.00       531\n",
      "          11       0.99      1.00      0.99      1548\n",
      "\n",
      "    accuracy                           0.83      8357\n",
      "   macro avg       0.85      0.85      0.84      8357\n",
      "weighted avg       0.83      0.83      0.82      8357\n",
      "\n"
     ]
    }
   ],
   "source": [
    "#this is the same as RandomForest\n",
    "from sklearn.ensemble import RandomForestClassifier\n",
    "from sklearn.metrics import classification_report\n",
    "\n",
    "model = RandomForestClassifier()\n",
    "\n",
    "model.fit(X_train_ndvi, y_train)\n",
    "\n",
    "yhat = model.predict(X_valid_ndvi)\n",
    "\n",
    "print(classification_report(y_valid, yhat))"
   ]
  },
  {
   "cell_type": "code",
   "execution_count": 19,
   "id": "34f82c2c-8386-474b-946a-aad37d4ac31b",
   "metadata": {},
   "outputs": [
    {
     "name": "stdout",
     "output_type": "stream",
     "text": [
      "              precision    recall  f1-score   support\n",
      "\n",
      "           0       0.76      0.95      0.84      1551\n",
      "           1       0.68      0.61      0.64      1614\n",
      "           2       0.71      0.57      0.63      1537\n",
      "           3       0.93      0.96      0.95      1576\n",
      "          10       1.00      1.00      1.00       531\n",
      "          11       0.99      1.00      0.99      1548\n",
      "\n",
      "    accuracy                           0.83      8357\n",
      "   macro avg       0.84      0.85      0.84      8357\n",
      "weighted avg       0.83      0.83      0.82      8357\n",
      "\n"
     ]
    }
   ],
   "source": [
    "model = RandomForestClassifier()\n",
    "model.fit(X_train_savi, y_train)\n",
    "yhat = model.predict(X_valid_savi)\n",
    "print(classification_report(y_valid, yhat))"
   ]
  },
  {
   "cell_type": "code",
   "execution_count": 20,
   "id": "07539d22-d472-4abe-ae15-a40b2635e07b",
   "metadata": {},
   "outputs": [
    {
     "name": "stdout",
     "output_type": "stream",
     "text": [
      "              precision    recall  f1-score   support\n",
      "\n",
      "           0       0.76      0.95      0.84      1551\n",
      "           1       0.70      0.62      0.66      1614\n",
      "           2       0.72      0.58      0.64      1537\n",
      "           3       0.93      0.96      0.95      1576\n",
      "          10       1.00      1.00      1.00       531\n",
      "          11       0.98      1.00      0.99      1548\n",
      "\n",
      "    accuracy                           0.83      8357\n",
      "   macro avg       0.85      0.85      0.85      8357\n",
      "weighted avg       0.83      0.83      0.83      8357\n",
      "\n"
     ]
    }
   ],
   "source": [
    "model = RandomForestClassifier()\n",
    "model.fit(X_train_evi, y_train)\n",
    "yhat = model.predict(X_valid_evi)\n",
    "print(classification_report(y_valid, yhat))"
   ]
  }
 ],
 "metadata": {
  "kernelspec": {
   "display_name": "Python 3 (ipykernel)",
   "language": "python",
   "name": "python3"
  },
  "language_info": {
   "codemirror_mode": {
    "name": "ipython",
    "version": 3
   },
   "file_extension": ".py",
   "mimetype": "text/x-python",
   "name": "python",
   "nbconvert_exporter": "python",
   "pygments_lexer": "ipython3",
   "version": "3.9.7"
  }
 },
 "nbformat": 4,
 "nbformat_minor": 5
}
