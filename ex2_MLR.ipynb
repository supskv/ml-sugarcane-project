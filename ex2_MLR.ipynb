{
 "cells": [
  {
   "cell_type": "markdown",
   "id": "dfc97171-ac7b-4cbf-a63e-397a6574a260",
   "metadata": {},
   "source": [
    "# Level 2 - Multinomial Logistic Regression"
   ]
  },
  {
   "cell_type": "markdown",
   "id": "3a40b053-9e2e-4187-9dce-c93eb086f520",
   "metadata": {},
   "source": [
    "## 1. Import"
   ]
  },
  {
   "cell_type": "code",
   "execution_count": 1,
   "id": "f9b778b9-d221-439b-95cd-42d70da71dec",
   "metadata": {},
   "outputs": [],
   "source": [
    "import pandas as pd\n",
    "import numpy as np\n",
    "from copy import copy\n",
    "from sklearn.linear_model import LogisticRegression\n",
    "from sklearn.metrics import classification_report\n",
    "\n",
    "import matplotlib.pyplot as plt"
   ]
  },
  {
   "cell_type": "markdown",
   "id": "b6ffbe75-a9d3-41ce-894e-66a46292d131",
   "metadata": {},
   "source": [
    "## 2. Data Prepare"
   ]
  },
  {
   "cell_type": "code",
   "execution_count": 2,
   "id": "ff05e279-50bc-4aa3-8698-da856767a7dc",
   "metadata": {},
   "outputs": [],
   "source": [
    "def file_to_data(filename):\n",
    "    \n",
    "    # read file\n",
    "    raw = pd.read_csv(filename)\n",
    "    \n",
    "    # define columns to be extracted\n",
    "    ndvi_col = ['ndvi_mean'+str(i) for i in range(1, 24+1)] # ndvi_mean1, ..., ndvi_mean24\n",
    "    savi_col = ['ndvi_mean'+str(i) for i in range(1, 24+1)] # ndvi_mean1, ..., savi_mean24\n",
    "    evi_col = ['ndvi_mean'+str(i) for i in range(1, 24+1)] # ndvi_mean1, ..., evi_mean24\n",
    "\n",
    "    # extract each feature\n",
    "    ndvi_timeseries = raw[ndvi_col]\n",
    "    savi_timeseries = raw[savi_col]\n",
    "    evi_timeseries = raw[evi_col]\n",
    "    \n",
    "    # dimension stack\n",
    "    data = np.dstack([ndvi_timeseries, savi_timeseries, evi_timeseries])\n",
    "    \n",
    "    # get only label\n",
    "    label = raw.iloc[:, -1]\n",
    "    \n",
    "    return data, label\n",
    "\n",
    "def data_to_lv1_x_y(data, labels):\n",
    "    \n",
    "    # export all X\n",
    "    # but reclass the plant cane -> 100, ratoon cane -> 200\n",
    "    target = copy(labels)\n",
    "    target[target > 200] = 200\n",
    "    target[(target < 200) & (target > 100)] = 100\n",
    "    \n",
    "    return data, target\n",
    "\n",
    "def data_to_lv2_x_y(data, target):\n",
    "    \n",
    "    # export X plant which labels are 100-200\n",
    "    X_plant = data[(target > 100) & (target <200)]\n",
    "    \n",
    "    # export X ratoon which labels are >200\n",
    "    X_ratoon = data[target > 200]\n",
    "    \n",
    "    # export y plant which labels are 100-200\n",
    "    y_plant = target[(target > 100) & (target < 200)]\n",
    "    \n",
    "    # export y ratoon which labels are >200\n",
    "    y_ratoon = target[target > 200]\n",
    "    \n",
    "    return X_plant, y_plant, X_ratoon, y_ratoon\n",
    "\n",
    "def label_encode(y):\n",
    "    \n",
    "    target = copy(y)\n",
    "    # redefine the cane plantation label to be 1 - 24\n",
    "    new_y = [int(str(label)[1:]) for label in target]\n",
    "    \n",
    "    return np.array(new_y)"
   ]
  },
  {
   "cell_type": "code",
   "execution_count": 3,
   "id": "e861fa23-40e7-4496-96e1-265db7c20145",
   "metadata": {},
   "outputs": [],
   "source": [
    "data_train, labels_train = file_to_data('training_data_1718.csv')\n",
    "data_test, labels_test = file_to_data('training_data_1819.csv')"
   ]
  },
  {
   "cell_type": "code",
   "execution_count": 4,
   "id": "2fc0827f-da5b-4be1-b13f-8743edfbba39",
   "metadata": {},
   "outputs": [],
   "source": [
    "X_plant_train, y_plant_train, X_ratoon_train, y_ratoon_train = data_to_lv2_x_y(data_train, labels_train)\n",
    "X_plant_test, y_plant_test, X_ratoon_test, y_ratoon_test = data_to_lv2_x_y(data_test, labels_test)"
   ]
  },
  {
   "cell_type": "code",
   "execution_count": 5,
   "id": "32181229-9b93-43f3-9b3d-c251ab301b8f",
   "metadata": {},
   "outputs": [
    {
     "data": {
      "text/plain": [
       "array([101, 102, 103, 104, 105, 106, 107, 108, 121, 122, 123, 124],\n",
       "      dtype=int64)"
      ]
     },
     "execution_count": 5,
     "metadata": {},
     "output_type": "execute_result"
    }
   ],
   "source": [
    "y_plant_train.unique()"
   ]
  },
  {
   "cell_type": "code",
   "execution_count": 6,
   "id": "4a0590cd-d5bd-439e-8e5a-e39fcd092afa",
   "metadata": {},
   "outputs": [],
   "source": [
    "def makelabel(y):\n",
    "    y = y.to_numpy()\n",
    "    for i in range(len(y)):\n",
    "        if y[i] %100 >0 and y[i] %100<=2:\n",
    "              y[i] = 0 \n",
    "        elif y[i] %100>2 and y[i] %100<=4:\n",
    "              y[i] = 1 \n",
    "        elif y[i] %100>4 and y[i] %100<=6:\n",
    "              y[i] = 2 \n",
    "        elif y[i] %100>6 and y[i] %100<=8:\n",
    "              y[i] = 3                 \n",
    "        elif y[i] %100>8 and y[i] %100<=10:\n",
    "              y[i] = 4 \n",
    "        elif y[i] %100>20 and y[i] %100<=22:\n",
    "              y[i] = 10 \n",
    "        elif y[i] %100>22 and y[i] %100<=24:\n",
    "              y[i] = 11           \n",
    "    return y\n",
    "y_plant_train = makelabel(y_plant_train)\n",
    "y_ratoon_train = makelabel(y_ratoon_train)\n",
    "\n",
    "y_plant_test = makelabel(y_plant_test)\n",
    "y_ratoon_test = makelabel(y_ratoon_test)"
   ]
  },
  {
   "cell_type": "code",
   "execution_count": 7,
   "id": "e1eb93b2-1b99-4a67-bc07-5f791e07f755",
   "metadata": {},
   "outputs": [
    {
     "name": "stdout",
     "output_type": "stream",
     "text": [
      "numeric class of y train: [ 0  1  2  3 10 11]\n",
      "numeric class of y test: [ 0  1  2  3 10 11]\n"
     ]
    }
   ],
   "source": [
    "print(f'numeric class of y train: {np.unique(y_plant_train)}')\n",
    "print(f'numeric class of y test: {np.unique(y_plant_test)}')"
   ]
  },
  {
   "cell_type": "code",
   "execution_count": 8,
   "id": "945eb399-86ea-46b6-9202-3456294c5e98",
   "metadata": {},
   "outputs": [],
   "source": [
    "from imblearn.over_sampling import RandomOverSampler\n",
    "from imblearn.under_sampling import RandomUnderSampler\n",
    "from collections import Counter"
   ]
  },
  {
   "cell_type": "code",
   "execution_count": 9,
   "id": "c3d30aa4-1953-4e56-957a-04d69bfa2f09",
   "metadata": {},
   "outputs": [
    {
     "name": "stdout",
     "output_type": "stream",
     "text": [
      "X plant train: (4489, 72)\n",
      "X ratoon train: (7878, 72)\n"
     ]
    }
   ],
   "source": [
    "X_plant_train = X_plant_train.reshape(X_plant_train.shape[0], -1)\n",
    "X_ratoon_train = X_ratoon_train.reshape(X_ratoon_train.shape[0], -1)\n",
    "print(f'X plant train: {X_plant_train.shape}')\n",
    "print(f'X ratoon train: {X_ratoon_train.shape}')"
   ]
  },
  {
   "cell_type": "code",
   "execution_count": 10,
   "id": "8a79d822-3b36-4d2a-b567-1027f68b554c",
   "metadata": {},
   "outputs": [
    {
     "name": "stdout",
     "output_type": "stream",
     "text": [
      "after oversampled-> X plant shape: (10206, 72)\n",
      "after oversampled-> X ratoon shape: (17650, 72)\n"
     ]
    }
   ],
   "source": [
    "# instantiating the random over sampler \n",
    "ros = RandomOverSampler()\n",
    "# resampling X, y\n",
    "X_plant_train, y_plant_train = ros.fit_resample(X_plant_train, y_plant_train)\n",
    "X_ratoon_train, y_ratoon_train = ros.fit_resample(X_ratoon_train, y_ratoon_train)\n",
    "\n",
    "print(f'after oversampled-> X plant shape: {X_plant_train.shape}')\n",
    "print(f'after oversampled-> X ratoon shape: {X_ratoon_train.shape}')"
   ]
  },
  {
   "cell_type": "code",
   "execution_count": 11,
   "id": "41d378ff-31d9-4df9-8055-c79e1d230f14",
   "metadata": {},
   "outputs": [],
   "source": [
    "from sklearn.model_selection import train_test_split\n",
    "\n",
    "X_plant_train, X_plant_valid, y_plant_train, y_plant_valid = train_test_split(\n",
    "    X_plant_train,\n",
    "    y_plant_train,\n",
    "    test_size=0.3,\n",
    "    stratify=y_plant_train\n",
    ")\n",
    "\n",
    "X_ratoon_train, X_ratoon_valid, y_ratoon_train, y_ratoon_valid = train_test_split(\n",
    "    X_ratoon_train,\n",
    "    y_ratoon_train,\n",
    "    test_size=0.3,\n",
    "    stratify=y_ratoon_train\n",
    ")"
   ]
  },
  {
   "cell_type": "code",
   "execution_count": 12,
   "id": "7750f291-b889-4912-8116-05ba67e7782a",
   "metadata": {},
   "outputs": [
    {
     "data": {
      "text/plain": [
       "(12355,)"
      ]
     },
     "execution_count": 12,
     "metadata": {},
     "output_type": "execute_result"
    }
   ],
   "source": [
    "y_ratoon_train.shape"
   ]
  },
  {
   "cell_type": "code",
   "execution_count": 13,
   "id": "cc592ce9-1513-45d5-97d5-20ee42f8cf82",
   "metadata": {},
   "outputs": [],
   "source": [
    "xtrain_mix = np.concatenate((X_plant_train, X_ratoon_train), axis=0)\n",
    "ytrain_mix = np.concatenate((y_plant_train, y_ratoon_train), axis=0)\n",
    "\n",
    "xvali_mix = np.concatenate((X_plant_valid, X_ratoon_valid), axis=0)\n",
    "yvali_mix = np.concatenate((y_plant_valid, y_ratoon_valid), axis=0)"
   ]
  },
  {
   "cell_type": "code",
   "execution_count": 14,
   "id": "0b1e0991-83f1-406a-a959-bcd0aa684b79",
   "metadata": {},
   "outputs": [
    {
     "name": "stdout",
     "output_type": "stream",
     "text": [
      "(19499, 72) (19499,)\n"
     ]
    }
   ],
   "source": [
    "print(xtrain_mix.shape, ytrain_mix.shape)"
   ]
  },
  {
   "cell_type": "markdown",
   "id": "725011e2-92c1-411a-8805-c509ca1a7a11",
   "metadata": {},
   "source": [
    "## 3. Model"
   ]
  },
  {
   "cell_type": "code",
   "execution_count": 15,
   "id": "6ea8ed4f-24db-4512-b3aa-21949f376db3",
   "metadata": {},
   "outputs": [
    {
     "data": {
      "text/plain": [
       "LogisticRegression(max_iter=1000, multi_class='multinomial')"
      ]
     },
     "execution_count": 15,
     "metadata": {},
     "output_type": "execute_result"
    }
   ],
   "source": [
    "model = LogisticRegression(multi_class='multinomial', solver='lbfgs', max_iter=1000)\n",
    "model.fit(xtrain_mix, ytrain_mix)"
   ]
  },
  {
   "cell_type": "markdown",
   "id": "71427fc9-6afc-494b-a374-892ecf0a1a67",
   "metadata": {},
   "source": [
    "## 4 Training Evaluate"
   ]
  },
  {
   "cell_type": "code",
   "execution_count": 16,
   "id": "23e7e00e-d183-4800-87f9-5f9234fb8bab",
   "metadata": {},
   "outputs": [
    {
     "name": "stdout",
     "output_type": "stream",
     "text": [
      "=========Classification report=======\n",
      "Report:                precision    recall  f1-score   support\n",
      "\n",
      "           0       0.56      0.63      0.59      1570\n",
      "           1       0.49      0.39      0.43      1569\n",
      "           2       0.48      0.38      0.42      1570\n",
      "           3       0.67      0.70      0.69      1569\n",
      "          10       0.91      0.98      0.94       510\n",
      "          11       0.77      0.94      0.85      1569\n",
      "\n",
      "    accuracy                           0.63      8357\n",
      "   macro avg       0.65      0.67      0.65      8357\n",
      "weighted avg       0.61      0.63      0.62      8357\n",
      "\n"
     ]
    }
   ],
   "source": [
    "yhat = model.predict(xvali_mix)\n",
    "print(\"=========Classification report=======\")\n",
    "print(\"Report: \", classification_report(yvali_mix, yhat))"
   ]
  },
  {
   "cell_type": "markdown",
   "id": "7a38a32d-7ee6-4779-8c0d-cacf6957a526",
   "metadata": {},
   "source": [
    "## 5. Validation Dataset"
   ]
  },
  {
   "cell_type": "code",
   "execution_count": 17,
   "id": "2c9d3569-0be9-45cb-924b-ac0bb2a549ad",
   "metadata": {},
   "outputs": [
    {
     "name": "stdout",
     "output_type": "stream",
     "text": [
      "X plant test: (7144, 72)\n",
      "X ratoon test: (12355, 72)\n"
     ]
    }
   ],
   "source": [
    "X_plant_test = X_plant_test.reshape(X_plant_test.shape[0], -1)\n",
    "X_ratoon_test = X_ratoon_test.reshape(X_ratoon_test.shape[0], -1)\n",
    "print(f'X plant test: {X_plant_train.shape}')\n",
    "print(f'X ratoon test: {X_ratoon_train.shape}')"
   ]
  },
  {
   "cell_type": "code",
   "execution_count": 18,
   "id": "57f6e4e5-206a-4eb0-b8a7-b59b450ef2d5",
   "metadata": {},
   "outputs": [],
   "source": [
    "xtest_mix = np.concatenate((X_plant_test, X_ratoon_test), axis=0)\n",
    "ytest_mix = np.concatenate((y_plant_test, y_ratoon_test), axis=0)"
   ]
  },
  {
   "cell_type": "code",
   "execution_count": 19,
   "id": "31900619-249b-4990-8bb8-7468320a799d",
   "metadata": {},
   "outputs": [
    {
     "name": "stdout",
     "output_type": "stream",
     "text": [
      "(7452, 72)\n",
      "(7452,)\n"
     ]
    }
   ],
   "source": [
    "print(xtest_mix.shape)\n",
    "print(ytest_mix.shape)"
   ]
  },
  {
   "cell_type": "markdown",
   "id": "dda979f6-cfd2-4d2b-9a57-497fa93ead8a",
   "metadata": {},
   "source": [
    "## 6. Validation Evaluate"
   ]
  },
  {
   "cell_type": "code",
   "execution_count": 20,
   "id": "0c58e348-8e18-4cba-9a2d-2615646fb999",
   "metadata": {},
   "outputs": [
    {
     "name": "stdout",
     "output_type": "stream",
     "text": [
      "=========Classification report=======\n",
      "Report:                precision    recall  f1-score   support\n",
      "\n",
      "           0       0.37      0.31      0.34       898\n",
      "           1       0.50      0.44      0.47      2163\n",
      "           2       0.54      0.43      0.48      2410\n",
      "           3       0.62      0.70      0.66      1729\n",
      "          10       0.06      1.00      0.12         3\n",
      "          11       0.23      0.81      0.36       249\n",
      "\n",
      "    accuracy                           0.49      7452\n",
      "   macro avg       0.39      0.62      0.40      7452\n",
      "weighted avg       0.52      0.49      0.50      7452\n",
      "\n"
     ]
    }
   ],
   "source": [
    "yhat = model.predict(xtest_mix)\n",
    "print(\"=========Classification report=======\")\n",
    "print(\"Report: \", classification_report(ytest_mix, yhat))"
   ]
  },
  {
   "cell_type": "code",
   "execution_count": null,
   "id": "3a95e12b-bee4-4279-83f6-9fcb1b3d6a7c",
   "metadata": {},
   "outputs": [],
   "source": []
  }
 ],
 "metadata": {
  "kernelspec": {
   "display_name": "Python 3 (ipykernel)",
   "language": "python",
   "name": "python3"
  },
  "language_info": {
   "codemirror_mode": {
    "name": "ipython",
    "version": 3
   },
   "file_extension": ".py",
   "mimetype": "text/x-python",
   "name": "python",
   "nbconvert_exporter": "python",
   "pygments_lexer": "ipython3",
   "version": "3.8.12"
  }
 },
 "nbformat": 4,
 "nbformat_minor": 5
}
