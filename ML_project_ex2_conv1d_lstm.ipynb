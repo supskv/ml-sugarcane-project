{
 "cells": [
  {
   "cell_type": "code",
   "execution_count": 1,
   "metadata": {
    "id": "8GHaNIcwv05u"
   },
   "outputs": [],
   "source": [
    "import pandas as pd\n",
    "import numpy as np\n",
    "from copy import copy\n",
    "import torch\n",
    "import matplotlib.pyplot as plt"
   ]
  },
  {
   "cell_type": "code",
   "execution_count": 2,
   "metadata": {
    "id": "oAvZPPqEd4iA"
   },
   "outputs": [],
   "source": [
    "dataset_path = 'training_data_1718.csv'"
   ]
  },
  {
   "cell_type": "code",
   "execution_count": 3,
   "metadata": {
    "id": "YRfgCatZeEpY"
   },
   "outputs": [],
   "source": [
    "def file_to_data(filename):\n",
    "    \n",
    "    # read file\n",
    "    raw = pd.read_csv(filename)\n",
    "    \n",
    "    # define columns to be extracted\n",
    "    ndvi_col = ['ndvi_mean'+str(i) for i in range(1, 24+1)] # ndvi_mean1, ..., ndvi_mean24\n",
    "    savi_col = ['ndvi_mean'+str(i) for i in range(1, 24+1)] # ndvi_mean1, ..., savi_mean24\n",
    "    evi_col = ['ndvi_mean'+str(i) for i in range(1, 24+1)] # ndvi_mean1, ..., evi_mean24\n",
    "\n",
    "    # extract each feature\n",
    "    ndvi_timeseries = raw[ndvi_col]\n",
    "    savi_timeseries = raw[savi_col]\n",
    "    evi_timeseries = raw[evi_col]\n",
    "    \n",
    "    # dimension stack\n",
    "    data = np.dstack([ndvi_timeseries, savi_timeseries, evi_timeseries])\n",
    "    \n",
    "    # get only label\n",
    "    label = raw.iloc[:, -1]\n",
    "    \n",
    "    return data, label\n",
    "\n",
    "def data_to_lv1_x_y(data, labels):\n",
    "    \n",
    "    # export all X\n",
    "    # but reclass the plant cane -> 100, ratoon cane -> 200\n",
    "    target = copy(labels)\n",
    "    target[target > 200] = 200\n",
    "    target[(target < 200) & (target > 100)] = 100\n",
    "    \n",
    "    return data, target\n",
    "\n",
    "def data_to_lv2_x_y(data, target):\n",
    "    \n",
    "    # export X plant which labels are 100-200\n",
    "    X_plant = data[(target > 100) & (target <200)]\n",
    "    \n",
    "    # export X ratoon which labels are >200\n",
    "    X_ratoon = data[target > 200]\n",
    "    \n",
    "    # export y plant which labels are 100-200\n",
    "    y_plant = target[(target > 100) & (target < 200)]\n",
    "    \n",
    "    # export y ratoon which labels are >200\n",
    "    y_ratoon = target[target > 200]\n",
    "    \n",
    "    return X_plant, y_plant, X_ratoon, y_ratoon\n",
    "\n",
    "def label_encode(y):\n",
    "    \n",
    "    target = copy(y)\n",
    "    # redefine the cane plantation label to be 1 - 24\n",
    "    new_y = [int(str(label)[1:]) for label in target]\n",
    "    \n",
    "    return np.array(new_y)"
   ]
  },
  {
   "cell_type": "code",
   "execution_count": 4,
   "metadata": {
    "id": "D0wZlo89eFxo"
   },
   "outputs": [],
   "source": [
    "data_train, labels_train = file_to_data('training_data_1718.csv')\n",
    "data_test, labels_test = file_to_data('training_data_1819.csv')"
   ]
  },
  {
   "cell_type": "code",
   "execution_count": 5,
   "metadata": {
    "id": "x_7yMXXAeHdZ"
   },
   "outputs": [],
   "source": [
    "X_plant_train, y_plant_train, X_ratoon_train, y_ratoon_train = data_to_lv2_x_y(data_train, labels_train)\n",
    "X_plant_test, y_plant_test, X_ratoon_test, y_ratoon_test = data_to_lv2_x_y(data_test, labels_test)"
   ]
  },
  {
   "cell_type": "code",
   "execution_count": 6,
   "metadata": {},
   "outputs": [
    {
     "data": {
      "text/plain": [
       "array([101, 102, 103, 104, 105, 106, 107, 108, 121, 122, 123, 124])"
      ]
     },
     "execution_count": 6,
     "metadata": {},
     "output_type": "execute_result"
    }
   ],
   "source": [
    "y_plant_train.unique()"
   ]
  },
  {
   "cell_type": "code",
   "execution_count": 7,
   "metadata": {
    "id": "nBNBAjxCdOa9"
   },
   "outputs": [],
   "source": [
    "def makelabel(y):\n",
    "    y = y.to_numpy()\n",
    "    for i in range(len(y)):\n",
    "        if y[i] %100 >0 and y[i] %100<=2:\n",
    "              y[i] = 0 \n",
    "        elif y[i] %100>2 and y[i] %100<=4:\n",
    "              y[i] = 1 \n",
    "        elif y[i] %100>4 and y[i] %100<=6:\n",
    "              y[i] = 2 \n",
    "        elif y[i] %100>6 and y[i] %100<=8:\n",
    "              y[i] = 3                 \n",
    "        elif y[i] %100>8 and y[i] %100<=10:\n",
    "              y[i] = 4 \n",
    "        elif y[i] %100>20 and y[i] %100<=22:\n",
    "              y[i] = 10 \n",
    "        elif y[i] %100>22 and y[i] %100<=24:\n",
    "              y[i] = 11           \n",
    "    return y\n",
    "y_plant_train = makelabel(y_plant_train)\n",
    "y_ratoon_train = makelabel(y_ratoon_train)\n",
    "\n",
    "y_plant_test = makelabel(y_plant_test)\n",
    "y_ratoon_test = makelabel(y_ratoon_test)"
   ]
  },
  {
   "cell_type": "markdown",
   "metadata": {
    "id": "P21ehAS_BToA"
   },
   "source": [
    "y_plant_train = label_encode(y_plant_train)-1\n",
    "y_ratoon_train = label_encode(y_ratoon_train)-1\n",
    "\n",
    "y_plant_test = label_encode(y_plant_test)-1\n",
    "y_ratoon_test = label_encode(y_ratoon_test)-1"
   ]
  },
  {
   "cell_type": "code",
   "execution_count": 8,
   "metadata": {
    "colab": {
     "base_uri": "https://localhost:8080/"
    },
    "id": "B2B2m0OWfxZn",
    "outputId": "4ccd1085-4921-41e9-bac8-d90a943eec3a"
   },
   "outputs": [
    {
     "name": "stdout",
     "output_type": "stream",
     "text": [
      "numeric class of y train: [ 0  1  2  3 10 11]\n",
      "numeric class of y test: [ 0  1  2  3 10 11]\n"
     ]
    }
   ],
   "source": [
    "print(f'numeric class of y train: {np.unique(y_plant_train)}')\n",
    "print(f'numeric class of y test: {np.unique(y_plant_test)}')"
   ]
  },
  {
   "cell_type": "code",
   "execution_count": 9,
   "metadata": {},
   "outputs": [],
   "source": [
    "from imblearn.over_sampling import RandomOverSampler\n",
    "from imblearn.under_sampling import RandomUnderSampler\n",
    "from collections import Counter"
   ]
  },
  {
   "cell_type": "code",
   "execution_count": 10,
   "metadata": {},
   "outputs": [
    {
     "name": "stdout",
     "output_type": "stream",
     "text": [
      "X plant train: (4489, 72)\n",
      "X ratoon train: (7878, 72)\n"
     ]
    }
   ],
   "source": [
    "X_plant_train = X_plant_train.reshape(X_plant_train.shape[0], -1)\n",
    "X_ratoon_train = X_ratoon_train.reshape(X_ratoon_train.shape[0], -1)\n",
    "print(f'X plant train: {X_plant_train.shape}')\n",
    "print(f'X ratoon train: {X_ratoon_train.shape}')"
   ]
  },
  {
   "cell_type": "code",
   "execution_count": 11,
   "metadata": {},
   "outputs": [
    {
     "name": "stdout",
     "output_type": "stream",
     "text": [
      "after oversampled-> X plant shape: (10206, 72)\n",
      "after oversampled-> X ratoon shape: (17650, 72)\n"
     ]
    }
   ],
   "source": [
    "# instantiating the random over sampler \n",
    "ros = RandomOverSampler()\n",
    "# resampling X, y\n",
    "X_plant_train, y_plant_train = ros.fit_resample(X_plant_train, y_plant_train)\n",
    "X_ratoon_train, y_ratoon_train = ros.fit_resample(X_ratoon_train, y_ratoon_train)\n",
    "\n",
    "print(f'after oversampled-> X plant shape: {X_plant_train.shape}')\n",
    "print(f'after oversampled-> X ratoon shape: {X_ratoon_train.shape}')"
   ]
  },
  {
   "cell_type": "code",
   "execution_count": 12,
   "metadata": {},
   "outputs": [
    {
     "name": "stdout",
     "output_type": "stream",
     "text": [
      "X plant train: (10206, 24, 3)\n",
      "X ratoon train: (17650, 24, 3)\n"
     ]
    }
   ],
   "source": [
    "X_plant_train = X_plant_train.reshape(X_plant_train.shape[0], 24,3)\n",
    "X_ratoon_train = X_ratoon_train.reshape(X_ratoon_train.shape[0], 24,3)\n",
    "\n",
    "print(f'X plant train: {X_plant_train.shape}')\n",
    "print(f'X ratoon train: {X_ratoon_train.shape}')"
   ]
  },
  {
   "cell_type": "code",
   "execution_count": 13,
   "metadata": {
    "id": "j4pjam030iq7"
   },
   "outputs": [],
   "source": [
    "\"\"\"X_plant_train = X_plant_train.transpose(0,2,1)[:, np.newaxis,:,:]\n",
    "X_ratoon_train = X_ratoon_train.transpose(0,2,1)[:, np.newaxis,:,:]\"\"\"\n",
    "\n",
    "X_plant_train = X_plant_train.transpose(0,2,1)[:,:,:14]\n",
    "X_ratoon_train = X_ratoon_train.transpose(0,2,1)[:,:,:14]\n"
   ]
  },
  {
   "cell_type": "code",
   "execution_count": 14,
   "metadata": {},
   "outputs": [
    {
     "name": "stdout",
     "output_type": "stream",
     "text": [
      "(10206, 12)\n",
      "(17650, 12)\n"
     ]
    }
   ],
   "source": [
    "from tensorflow.keras.utils import to_categorical\n",
    "y_plant_train = to_categorical(y_plant_train)\n",
    "y_ratoon_train = to_categorical(y_ratoon_train)\n",
    "print(y_plant_train.shape)\n",
    "print(y_ratoon_train.shape)"
   ]
  },
  {
   "cell_type": "code",
   "execution_count": 15,
   "metadata": {
    "colab": {
     "base_uri": "https://localhost:8080/"
    },
    "id": "HK32areE06xV",
    "outputId": "d2ba3ed6-d0b8-4044-e765-e9958a80aec4"
   },
   "outputs": [
    {
     "name": "stdout",
     "output_type": "stream",
     "text": [
      "X plant train: (10206, 3, 14)\n",
      "X ratoon train: (17650, 3, 14)\n"
     ]
    }
   ],
   "source": [
    "print(f'X plant train: {X_plant_train.shape}')\n",
    "print(f'X ratoon train: {X_ratoon_train.shape}')"
   ]
  },
  {
   "cell_type": "code",
   "execution_count": 16,
   "metadata": {
    "id": "Rom_VvjQgoLv"
   },
   "outputs": [],
   "source": [
    "from torch.utils.data import TensorDataset\n",
    "from torch.utils.data import DataLoader\n",
    "from torch.utils.data.dataset import random_split\n",
    "\n",
    "def Xy_dataloader(X_numpy, y_numpy, batch_size=1000):\n",
    "    \n",
    "    X_tensor = torch.tensor(X_numpy).float()\n",
    "    y_tensor = torch.tensor(y_numpy)\n",
    "    \n",
    "    dataset = TensorDataset(X_tensor, y_tensor)\n",
    "\n",
    "    loader = DataLoader(dataset, batch_size=batch_size,shuffle=True)\n",
    "    \n",
    "    return loader"
   ]
  },
  {
   "cell_type": "code",
   "execution_count": 17,
   "metadata": {
    "id": "C6vcXfNEtjLi"
   },
   "outputs": [],
   "source": [
    "from sklearn.model_selection import train_test_split\n",
    "\n",
    "X_plant_train, X_plant_valid, y_plant_train, y_plant_valid = train_test_split(X_plant_train, y_plant_train  , test_size=0.3, stratify=y_plant_train)\n"
   ]
  },
  {
   "cell_type": "code",
   "execution_count": 18,
   "metadata": {
    "id": "ShpNPH0yuc6P"
   },
   "outputs": [],
   "source": [
    "X_ratoon_train, X_ratoon_valid, y_ratoon_train, y_ratoon_valid = train_test_split(X_ratoon_train, y_ratoon_train, test_size=0.3, stratify=y_ratoon_train)"
   ]
  },
  {
   "cell_type": "code",
   "execution_count": 19,
   "metadata": {
    "id": "TmbOZ_w8gpIO"
   },
   "outputs": [],
   "source": [
    "xtrain_mix = np.concatenate((X_plant_train, X_ratoon_train), axis=0)\n",
    "ytrain_mix = np.concatenate((y_plant_train, y_ratoon_train), axis=0)\n",
    "\n",
    "xvali_mix = np.concatenate((X_plant_valid, X_ratoon_valid), axis=0)\n",
    "yvali_mix = np.concatenate((y_plant_valid, y_ratoon_valid), axis=0)\n",
    "\n",
    "train_loader = Xy_dataloader(xtrain_mix, ytrain_mix, 256)\n",
    "valid_loader = Xy_dataloader(xvali_mix, yvali_mix, 256)\n"
   ]
  },
  {
   "cell_type": "markdown",
   "metadata": {
    "id": "a5qEbbKgJWZQ"
   },
   "source": [
    "# Conv1D -> LSTM"
   ]
  },
  {
   "cell_type": "code",
   "execution_count": 20,
   "metadata": {
    "id": "M1Z8xYvLJZ2R"
   },
   "outputs": [],
   "source": [
    "hidden_dim = 128\n",
    "output_dim = 12 #len(np.unique(y_plant_train))\n",
    "num_layers = 2\n",
    "bidirectional = True\n",
    "dropout = 0.5\n",
    "\n",
    "num_epochs = 100\n",
    "lr = 0.0001\n",
    "cuda = 2"
   ]
  },
  {
   "cell_type": "code",
   "execution_count": 21,
   "metadata": {
    "id": "iLu-alQzRydR"
   },
   "outputs": [],
   "source": [
    "import torch.nn as nn\n",
    "from torch.nn import functional as F\n",
    "class con1dlstm(nn.Module):\n",
    "    def __init__(self):\n",
    "        super().__init__()\n",
    "               \n",
    "        self.layer1 = nn.Sequential(\n",
    "            nn.Conv1d(3,64, 4, stride=2),\n",
    "            nn.ReLU(),\n",
    "            nn.Dropout(p=0.5))      \n",
    "        self.lstm = nn.LSTM(6, hidden_dim, num_layers=num_layers,\n",
    "                    bidirectional=bidirectional, \n",
    "                    dropout=dropout,\n",
    "                    batch_first=True)\n",
    "        self.fc = nn.Linear(hidden_dim*2, output_dim)   \n",
    "        self.fc1 = nn.Linear(15356, output_dim)\n",
    "    \n",
    "    \n",
    "    def attention_net(self, lstm_output, final_state):\n",
    "        hidden = final_state.unsqueeze(2)  # hidden : [batch_size, n_hidden * num_directions(=2), 1(=n_layer)]\n",
    "        attn_weights = torch.bmm(lstm_output, hidden).squeeze(2) # attn_weights : [batch_size, seq_len, 1]\n",
    "        soft_attn_weights = F.softmax(attn_weights, 1)\n",
    "        # [batch_size, n_hidden * num_directions(=2), seq_len] * [batch_size, seq_len, 1] = [batch_size, n_hidden * num_directions(=2), 1]\n",
    "        context = torch.bmm(lstm_output.transpose(1, 2), soft_attn_weights.unsqueeze(2)).squeeze(2)\n",
    "        return context, soft_attn_weights.cpu().data.numpy() # context : [batch_size, n_hidden * num_directions(=2)]\n",
    "    \n",
    "    def forward(self, x):\n",
    "        out0 = self.layer1(x)\n",
    "        out,(hn, cn) = self.lstm(out0)\n",
    "        hn = torch.cat((hn[-2,:,:], hn[-1,:,:]), dim = 1)\n",
    "        \n",
    "        attn_output, attention = self.attention_net(out, hn)\n",
    "        \n",
    "        return self.fc(attn_output)"
   ]
  },
  {
   "cell_type": "code",
   "execution_count": 22,
   "metadata": {
    "id": "S8hqfvy_Td9e"
   },
   "outputs": [],
   "source": [
    "def initialize_weights(m):\n",
    "    if isinstance(m, nn.Linear):\n",
    "        nn.init.xavier_normal_(m.weight)\n",
    "        nn.init.zeros_(m.bias)\n",
    "    elif isinstance(m, nn.RNN):\n",
    "        for name, param in m.named_parameters():\n",
    "            if 'bias' in name:\n",
    "                nn.init.zeros_(param)\n",
    "            elif 'weight' in name:\n",
    "                nn.init.orthogonal_(param) #<---here"
   ]
  },
  {
   "cell_type": "code",
   "execution_count": 23,
   "metadata": {
    "colab": {
     "base_uri": "https://localhost:8080/"
    },
    "id": "Px_3-UQYJZ6s",
    "outputId": "f0ebc25e-14af-445f-a49c-db8c23225a5a"
   },
   "outputs": [
    {
     "data": {
      "text/plain": [
       "con1dlstm(\n",
       "  (layer1): Sequential(\n",
       "    (0): Conv1d(3, 64, kernel_size=(4,), stride=(2,))\n",
       "    (1): ReLU()\n",
       "    (2): Dropout(p=0.5, inplace=False)\n",
       "  )\n",
       "  (lstm): LSTM(6, 128, num_layers=2, batch_first=True, dropout=0.5, bidirectional=True)\n",
       "  (fc): Linear(in_features=256, out_features=12, bias=True)\n",
       "  (fc1): Linear(in_features=15356, out_features=12, bias=True)\n",
       ")"
      ]
     },
     "execution_count": 23,
     "metadata": {},
     "output_type": "execute_result"
    }
   ],
   "source": [
    "model = con1dlstm().cuda(cuda)\n",
    "model.apply(initialize_weights)"
   ]
  },
  {
   "cell_type": "code",
   "execution_count": 24,
   "metadata": {
    "id": "6EejABPsMyNx"
   },
   "outputs": [],
   "source": [
    "import torch.optim as optim\n",
    "\n",
    "optimizer = optim.Adam(model.parameters(), lr=lr) #<----changed to Adam\n",
    "#optimizer = optim.RMSprop(model.parameters(), lr=lr)\n",
    "\n",
    "criterion = nn.BCEWithLogitsLoss() #combine sigmoid with binary cross entropy\n",
    "#criterion = nn.CrossEntropyLoss()\n",
    "#criterion = nn.MSELoss()"
   ]
  },
  {
   "cell_type": "code",
   "execution_count": 25,
   "metadata": {
    "id": "KV4lDWJZTufm"
   },
   "outputs": [],
   "source": [
    "def cnn_acc(preds,y):\n",
    "    rounded_preds = torch.round(torch.softmax(preds.data,dim=1))\n",
    "    correct = (rounded_preds == y).float() #convert into float for division \n",
    "    acc = correct.sum() / len(correct)\n",
    "    return acc/12"
   ]
  },
  {
   "cell_type": "code",
   "execution_count": 26,
   "metadata": {
    "id": "Fq7_uDTxTuhw"
   },
   "outputs": [],
   "source": [
    "def train(model, loader, optimizer, criterion):\n",
    "    epoch_loss = 0\n",
    "    epoch_acc = 0\n",
    "    model.train() #useful for batchnorm and dropout\n",
    "    for i, (features, label) in enumerate(loader): \n",
    "        features   = features.cuda(cuda)\n",
    "        label = label.cuda(cuda)        \n",
    "        #predict\n",
    "        predictions = model(features)\n",
    "        #calculate loss\n",
    "        loss = criterion(predictions, label)\n",
    "        acc = cnn_acc(predictions, label)\n",
    "        \n",
    "        #backprop\n",
    "        optimizer.zero_grad()\n",
    "        loss.backward()\n",
    "        optimizer.step()\n",
    "        \n",
    "        epoch_loss += loss.item()\n",
    "        epoch_acc += acc.item()\n",
    "                \n",
    "    return epoch_loss / len(loader), epoch_acc / len(loader)"
   ]
  },
  {
   "cell_type": "code",
   "execution_count": 27,
   "metadata": {
    "id": "UuM9iVA-TujP"
   },
   "outputs": [],
   "source": [
    "def evaluate(model, loader, criterion):\n",
    "    epoch_loss = 0\n",
    "    epoch_acc = 0\n",
    "    model.eval()\n",
    "    \n",
    "    with torch.no_grad():\n",
    "        for i, (features, label) in enumerate(loader): \n",
    "            features   = features.cuda(cuda)\n",
    "            label = label.cuda(cuda)\n",
    "\n",
    "            predictions = model(features)\n",
    "            \n",
    "            loss = criterion(predictions, label)\n",
    "            acc = cnn_acc(predictions, label)\n",
    "\n",
    "            epoch_loss += loss.item()\n",
    "            epoch_acc += acc.item()\n",
    "        \n",
    "    return epoch_loss / len(loader), epoch_acc / len(loader)"
   ]
  },
  {
   "cell_type": "code",
   "execution_count": 28,
   "metadata": {
    "colab": {
     "base_uri": "https://localhost:8080/"
    },
    "id": "6EUZTW0bUT3W",
    "outputId": "3c073b97-8a4e-4387-fe10-82ffb0199805"
   },
   "outputs": [
    {
     "name": "stdout",
     "output_type": "stream",
     "text": [
      "Epoch: 01 | Train Loss: 0.513 | Train Acc: 91.67%\n",
      "\t Val. Loss: 0.238 |  Val. Acc: 91.67%\n",
      "Epoch: 11 | Train Loss: 0.179 | Train Acc: 91.77%\n",
      "\t Val. Loss: 0.166 |  Val. Acc: 92.25%\n",
      "Epoch: 21 | Train Loss: 0.157 | Train Acc: 92.38%\n",
      "\t Val. Loss: 0.146 |  Val. Acc: 93.04%\n",
      "Epoch: 31 | Train Loss: 0.148 | Train Acc: 92.74%\n",
      "\t Val. Loss: 0.139 |  Val. Acc: 93.22%\n",
      "Epoch: 41 | Train Loss: 0.140 | Train Acc: 93.03%\n",
      "\t Val. Loss: 0.139 |  Val. Acc: 93.10%\n",
      "Epoch: 51 | Train Loss: 0.135 | Train Acc: 93.28%\n",
      "\t Val. Loss: 0.130 |  Val. Acc: 93.70%\n",
      "Epoch: 61 | Train Loss: 0.132 | Train Acc: 93.43%\n",
      "\t Val. Loss: 0.125 |  Val. Acc: 93.81%\n",
      "Epoch: 71 | Train Loss: 0.131 | Train Acc: 93.49%\n",
      "\t Val. Loss: 0.125 |  Val. Acc: 93.90%\n",
      "Epoch: 81 | Train Loss: 0.129 | Train Acc: 93.54%\n",
      "\t Val. Loss: 0.123 |  Val. Acc: 93.90%\n",
      "Epoch: 91 | Train Loss: 0.127 | Train Acc: 93.70%\n",
      "\t Val. Loss: 0.124 |  Val. Acc: 93.95%\n"
     ]
    }
   ],
   "source": [
    "best_valid_loss = float('inf')\n",
    "\n",
    "train_losses = []\n",
    "train_accs = []\n",
    "valid_losses = []\n",
    "valid_accs = []\n",
    "for epoch in range(num_epochs):\n",
    "\n",
    "    train_loss,train_acc = train(model, train_loader, optimizer , criterion)\n",
    "    valid_loss,valid_acc = evaluate(model, valid_loader, criterion)\n",
    "    \n",
    "    #for plotting\n",
    "    train_losses.append(train_loss)\n",
    "    train_accs.append(train_acc)\n",
    "    valid_losses.append(valid_loss)\n",
    "    valid_accs.append(valid_acc)\n",
    "    \n",
    "    if valid_loss < best_valid_loss:\n",
    "        best_valid_loss = valid_loss\n",
    "        torch.save(model.state_dict(),'tensor.pt')\n",
    "    \n",
    "    if epoch%10 == 0:\n",
    "        print(f'Epoch: {epoch+1:02} | Train Loss: {train_loss:.3f} | Train Acc: {train_acc*100:.2f}%')\n",
    "        print(f'\\t Val. Loss: {valid_loss:.3f} |  Val. Acc: {valid_acc*100:.2f}%')"
   ]
  },
  {
   "cell_type": "code",
   "execution_count": 29,
   "metadata": {
    "colab": {
     "base_uri": "https://localhost:8080/",
     "height": 405
    },
    "id": "FsTdjsSGUW3Z",
    "outputId": "7f130bd9-97d2-4469-fdc1-6f950c422919"
   },
   "outputs": [
    {
     "data": {
      "text/plain": [
       "Text(0, 0.5, 'Loss during Trianing')"
      ]
     },
     "execution_count": 29,
     "metadata": {},
     "output_type": "execute_result"
    },
    {
     "data": {
      "image/png": "[encoded data removed]",
      "text/plain": [
       "<Figure size 720x432 with 1 Axes>"
      ]
     },
     "metadata": {
      "needs_background": "light"
     },
     "output_type": "display_data"
    }
   ],
   "source": [
    "import matplotlib.pyplot as plt\n",
    "fig = plt.figure(figsize=(10, 6))\n",
    "ax = fig.add_subplot(1, 1, 1)\n",
    "ax.plot(train_losses, label = 'train loss')\n",
    "ax.plot(valid_losses, label = 'valid loss')\n",
    "plt.legend()\n",
    "ax.set_xlabel('Epoch')\n",
    "ax.set_ylabel('Loss during Trianing')"
   ]
  },
  {
   "cell_type": "code",
   "execution_count": 30,
   "metadata": {
    "colab": {
     "base_uri": "https://localhost:8080/",
     "height": 405
    },
    "id": "QwERJy5rUXYn",
    "outputId": "cf3209c2-efe5-49d6-b36e-82feaca74866"
   },
   "outputs": [
    {
     "data": {
      "text/plain": [
       "Text(0, 0.5, 'Accuracy during Trianing')"
      ]
     },
     "execution_count": 30,
     "metadata": {},
     "output_type": "execute_result"
    },
    {
     "data": {
      "image/png": "[encoded data removed]",
      "text/plain": [
       "<Figure size 720x432 with 1 Axes>"
      ]
     },
     "metadata": {
      "needs_background": "light"
     },
     "output_type": "display_data"
    }
   ],
   "source": [
    "fig = plt.figure(figsize=(10, 6))\n",
    "ax = fig.add_subplot(1, 1, 1)\n",
    "ax.plot(train_accs, label = 'train acc')\n",
    "ax.plot(valid_accs, label = 'valid acc')\n",
    "plt.legend()\n",
    "ax.set_xlabel('Epoch')\n",
    "ax.set_ylabel('Accuracy during Trianing')"
   ]
  },
  {
   "cell_type": "code",
   "execution_count": 31,
   "metadata": {
    "id": "kBYkkU48KGpi"
   },
   "outputs": [],
   "source": [
    "def predict_model(model, X_test):\n",
    "    \n",
    "    model.eval()\n",
    "    \n",
    "    x = torch.tensor(X_test).float()\n",
    "            \n",
    "    out = model(x.cuda(cuda))\n",
    "    rounded_preds = torch.round(torch.softmax(out.data,dim=1))\n",
    "    #print(out)\n",
    "    #print(rounded_preds)\n",
    "    #pred = torch.max(out, 1)[1]\n",
    "    \n",
    "    return rounded_preds.cpu().numpy()"
   ]
  },
  {
   "cell_type": "code",
   "execution_count": 32,
   "metadata": {
    "colab": {
     "base_uri": "https://localhost:8080/"
    },
    "id": "eLWIaYYnKTo_",
    "outputId": "d1217694-da39-466a-a503-3ffcc202d31a"
   },
   "outputs": [],
   "source": [
    "X_plant_test = X_plant_test.transpose(0,2,1)[:,:,:14]\n",
    "X_ratoon_test = X_ratoon_test.transpose(0,2,1)[:,:,:14]\n",
    "y_plant_test = to_categorical(y_plant_test)\n",
    "y_ratoon_test = to_categorical(y_ratoon_test)"
   ]
  },
  {
   "cell_type": "code",
   "execution_count": 33,
   "metadata": {},
   "outputs": [
    {
     "name": "stdout",
     "output_type": "stream",
     "text": [
      "(7452, 3, 14)\n",
      "(7452, 12)\n"
     ]
    }
   ],
   "source": [
    "xtest_mix = np.concatenate((X_plant_test, X_ratoon_test), axis=0)\n",
    "ytest_mix = np.concatenate((y_plant_test, y_ratoon_test), axis=0)\n",
    "\n",
    "print(xtest_mix.shape)\n",
    "print(ytest_mix.shape)"
   ]
  },
  {
   "cell_type": "code",
   "execution_count": 34,
   "metadata": {},
   "outputs": [],
   "source": [
    "y_pred = predict_model(model,xtest_mix)"
   ]
  },
  {
   "cell_type": "code",
   "execution_count": 35,
   "metadata": {},
   "outputs": [],
   "source": [
    "y_pred = np.argmax(y_pred, axis = 1)\n",
    "ytest_mix = np.argmax(ytest_mix, axis = 1)"
   ]
  },
  {
   "cell_type": "code",
   "execution_count": 36,
   "metadata": {},
   "outputs": [
    {
     "name": "stdout",
     "output_type": "stream",
     "text": [
      "              precision    recall  f1-score   support\n",
      "\n",
      "           0       0.15      0.79      0.25       898\n",
      "           1       0.53      0.24      0.33      2163\n",
      "           2       0.71      0.11      0.18      2410\n",
      "           3       0.68      0.40      0.50      1729\n",
      "          10       0.15      1.00      0.26         3\n",
      "          11       0.29      0.49      0.36       249\n",
      "\n",
      "    accuracy                           0.31      7452\n",
      "   macro avg       0.42      0.50      0.32      7452\n",
      "weighted avg       0.57      0.31      0.31      7452\n",
      "\n"
     ]
    }
   ],
   "source": [
    "from sklearn.metrics import classification_report\n",
    "\n",
    "print(classification_report(ytest_mix, y_pred))"
   ]
  },
  {
   "cell_type": "code",
   "execution_count": 37,
   "metadata": {},
   "outputs": [],
   "source": [
    "from sklearn.metrics import confusion_matrix\n",
    "\n",
    "cf_matrix_plant = confusion_matrix(ytest_mix, y_pred)"
   ]
  },
  {
   "cell_type": "code",
   "execution_count": 38,
   "metadata": {},
   "outputs": [
    {
     "data": {
      "text/plain": [
       "<AxesSubplot:>"
      ]
     },
     "execution_count": 38,
     "metadata": {},
     "output_type": "execute_result"
    },
    {
     "data": {
      "image/png": "[encoded data removed]",
      "text/plain": [
       "<Figure size 432x288 with 2 Axes>"
      ]
     },
     "metadata": {
      "needs_background": "light"
     },
     "output_type": "display_data"
    }
   ],
   "source": [
    "import seaborn as sns\n",
    "sns.heatmap(cf_matrix_plant, annot=True)"
   ]
  }
 ],
 "metadata": {
  "accelerator": "GPU",
  "colab": {
   "collapsed_sections": [
    "mdWxRSCxINcN"
   ],
   "name": "ML_project_ex2_conv1d+lstm.ipynb",
   "provenance": []
  },
  "kernelspec": {
   "display_name": "Python 3 (ipykernel)",
   "language": "python",
   "name": "python3"
  },
  "language_info": {
   "codemirror_mode": {
    "name": "ipython",
    "version": 3
   },
   "file_extension": ".py",
   "mimetype": "text/x-python",
   "name": "python",
   "nbconvert_exporter": "python",
   "pygments_lexer": "ipython3",
   "version": "3.9.7"
  }
 },
 "nbformat": 4,
 "nbformat_minor": 4
}
