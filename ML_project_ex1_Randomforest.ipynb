{
 "cells": [
  {
   "cell_type": "code",
   "execution_count": null,
   "id": "475e82fa-85bb-46c6-8cea-c33a1b29322d",
   "metadata": {},
   "outputs": [],
   "source": [
    "import pandas as pd\n",
    "import numpy as np\n",
    "from copy import copy\n",
    "import torch\n",
    "import matplotlib.pyplot as plt"
   ]
  },
  {
   "cell_type": "code",
   "execution_count": null,
   "id": "55882e00-0e6c-459b-a80a-c97a756af6b0",
   "metadata": {},
   "outputs": [],
   "source": [
    "dataset_path = 'training_data_1718.csv'"
   ]
  },
  {
   "cell_type": "code",
   "execution_count": null,
   "id": "8d18b972-8431-49cf-8c97-9b3e240403a5",
   "metadata": {},
   "outputs": [],
   "source": [
    "def file_to_data(filename):\n",
    "    \n",
    "    # read file\n",
    "    raw = pd.read_csv(filename)\n",
    "    \n",
    "    # define columns to be extracted\n",
    "    ndvi_col = ['ndvi_mean'+str(i) for i in range(1, 24+1)] # ndvi_mean1, ..., ndvi_mean24\n",
    "    savi_col = ['ndvi_mean'+str(i) for i in range(1, 24+1)] # ndvi_mean1, ..., savi_mean24\n",
    "    evi_col = ['ndvi_mean'+str(i) for i in range(1, 24+1)] # ndvi_mean1, ..., evi_mean24\n",
    "\n",
    "    # extract each feature\n",
    "    ndvi_timeseries = raw[ndvi_col]\n",
    "    savi_timeseries = raw[savi_col]\n",
    "    evi_timeseries = raw[evi_col]\n",
    "    \n",
    "    # dimension stack\n",
    "    data = np.dstack([ndvi_timeseries, savi_timeseries, evi_timeseries])\n",
    "    \n",
    "    # get only label\n",
    "    label = raw.iloc[:, -1]\n",
    "    \n",
    "    return data, label\n",
    "\n",
    "def data_to_lv1_x_y(data, labels):\n",
    "    \n",
    "    # export all X\n",
    "    # but reclass the plant cane -> 100, ratoon cane -> 200\n",
    "    target = copy(labels)\n",
    "    target[target > 200] = 200\n",
    "    target[(target < 200) & (target > 100)] = 100\n",
    "    \n",
    "    return data, target\n",
    "\n",
    "def data_to_lv2_x_y(data, target):\n",
    "    \n",
    "    # export X plant which labels are 100-200\n",
    "    X_plant = data[(target > 100) & (target <200)]\n",
    "    \n",
    "    # export X ratoon which labels are >200\n",
    "    X_ratoon = data[target > 200]\n",
    "    \n",
    "    # export y plant which labels are 100-200\n",
    "    y_plant = target[(target > 100) & (target < 200)]\n",
    "    \n",
    "    # export y ratoon which labels are >200\n",
    "    y_ratoon = target[target > 200]\n",
    "    \n",
    "    return X_plant, y_plant, X_ratoon, y_ratoon\n",
    "\n",
    "def label_encode(y):\n",
    "    \n",
    "    target = copy(y)\n",
    "    # redefine the cane plantation label to be 1 - 24\n",
    "    new_y = [int(str(label)[1:]) for label in target]\n",
    "    \n",
    "    return np.array(new_y)"
   ]
  },
  {
   "cell_type": "code",
   "execution_count": null,
   "id": "598462c7-c185-4dcf-acef-7d143a933bd4",
   "metadata": {},
   "outputs": [],
   "source": [
    "data_train, labels_train = file_to_data('training_data_1718.csv')\n",
    "data_test, labels_test = file_to_data('training_data_1819.csv')"
   ]
  },
  {
   "cell_type": "code",
   "execution_count": null,
   "id": "0a630b33-a4e9-4384-b931-c5ecbc2ae6d2",
   "metadata": {},
   "outputs": [],
   "source": [
    "X_train, y_train = data_to_lv1_x_y(data_train, labels_train)\n",
    "X_test, y_test = data_to_lv1_x_y(data_test, labels_test)"
   ]
  },
  {
   "cell_type": "code",
   "execution_count": null,
   "id": "68593010-8365-48ef-84c9-fc1ae712d3a5",
   "metadata": {},
   "outputs": [],
   "source": [
    "from sklearn.preprocessing import LabelEncoder\n",
    "\n",
    "lu_encoder = LabelEncoder()\n",
    "\n",
    "y_train = lu_encoder.fit_transform(y_train)\n",
    "y_test = lu_encoder.transform(y_test)"
   ]
  },
  {
   "cell_type": "code",
   "execution_count": null,
   "id": "b9fac3ee-e430-472e-8aba-abedc6160a90",
   "metadata": {},
   "outputs": [
    {
     "name": "stdout",
     "output_type": "stream",
     "text": [
      "numeric class of y train: [ 0  1  2  3  4  5  6  7  8  9 10 11]\n",
      "numeric class of y test: [ 0  1  2  3  4  5  6  7  8  9 10 11]\n"
     ]
    }
   ],
   "source": [
    "print(f'numeric class of y train: {np.unique(y_train)}')\n",
    "print(f'numeric class of y test: {np.unique(y_test)}')"
   ]
  },
  {
   "cell_type": "code",
   "execution_count": null,
   "id": "f8db4f97-9523-46a6-a61d-4df974029ca3",
   "metadata": {},
   "outputs": [],
   "source": [
    "y_train[y_train>9] = 10\n",
    "y_test[y_test > 9] = 10"
   ]
  },
  {
   "cell_type": "code",
   "execution_count": null,
   "id": "757ddd0d-e3c8-43fa-9c3c-e086041a5a44",
   "metadata": {},
   "outputs": [
    {
     "name": "stdout",
     "output_type": "stream",
     "text": [
      "numeric class of y train: [ 0  1  2  3  4  5  6  7  8  9 10]\n",
      "numeric class of y test: [ 0  1  2  3  4  5  6  7  8  9 10]\n"
     ]
    }
   ],
   "source": [
    "print(f'numeric class of y train: {np.unique(y_train)}')\n",
    "print(f'numeric class of y test: {np.unique(y_test)}')"
   ]
  },
  {
   "cell_type": "code",
   "execution_count": null,
   "id": "fa5d4d09-be16-43fc-a772-909590b5e944",
   "metadata": {},
   "outputs": [],
   "source": [
    "from imblearn.over_sampling import RandomOverSampler\n",
    "from imblearn.under_sampling import RandomUnderSampler\n",
    "from collections import Counter"
   ]
  },
  {
   "cell_type": "code",
   "execution_count": null,
   "id": "c1f5d97c-7db2-44f3-824d-d8cd68c0828f",
   "metadata": {},
   "outputs": [
    {
     "name": "stdout",
     "output_type": "stream",
     "text": [
      "Counter({10: 12367, 0: 118, 1: 92, 2: 85, 4: 30, 5: 30, 7: 30, 9: 30, 8: 30, 3: 26, 6: 22})\n"
     ]
    }
   ],
   "source": [
    "shape = X_train.shape\n",
    "print(Counter(y_train))"
   ]
  },
  {
   "cell_type": "code",
   "execution_count": null,
   "id": "d378a983-020c-417d-9602-9e1f59c994b9",
   "metadata": {},
   "outputs": [
    {
     "data": {
      "text/plain": [
       "(12860, 72)"
      ]
     },
     "execution_count": 12,
     "metadata": {},
     "output_type": "execute_result"
    }
   ],
   "source": [
    "X_train = X_train.reshape(X_train.shape[0], -1)\n",
    "X_train.shape"
   ]
  },
  {
   "cell_type": "code",
   "execution_count": null,
   "id": "1b3a4618-0ddf-4154-ac98-bcd32bad12de",
   "metadata": {},
   "outputs": [
    {
     "name": "stdout",
     "output_type": "stream",
     "text": [
      "after oversampled-> X shape: (136037, 72)\n"
     ]
    }
   ],
   "source": [
    "# instantiating the random over sampler \n",
    "ros = RandomOverSampler()\n",
    "# resampling X, y\n",
    "X_train, y_train = ros.fit_resample(X_train, y_train)\n",
    "\n",
    "print(f'after oversampled-> X shape: {X_train.shape}')"
   ]
  },
  {
   "cell_type": "code",
   "execution_count": 15,
   "id": "d2abb46a-de66-486f-8ab5-2dc0d96b0497",
   "metadata": {},
   "outputs": [
    {
     "data": {
      "text/plain": [
       "(136037, 24, 3)"
      ]
     },
     "execution_count": 15,
     "metadata": {},
     "output_type": "execute_result"
    }
   ],
   "source": [
    "X_train = X_train.reshape(X_train.shape[0], 24,3)\n",
    "X_train.shape"
   ]
  },
  {
   "cell_type": "code",
   "execution_count": 16,
   "id": "6a7b4195-2470-4c03-ba99-4a129808d191",
   "metadata": {},
   "outputs": [],
   "source": [
    "from sklearn.model_selection import train_test_split\n",
    "X_train, X_valid, y_train, y_valid = train_test_split(X_train, y_train  , test_size=0.3)"
   ]
  },
  {
   "cell_type": "code",
   "execution_count": 17,
   "id": "639762a8-ba12-4589-ba8c-036b4b54fea0",
   "metadata": {},
   "outputs": [],
   "source": [
    "X_train_ndvi = X_train[:,0,:]\n",
    "X_valid_ndvi = X_valid[:,0,:]\n",
    "X_train_savi = X_train[:,1,:]\n",
    "X_valid_savi = X_valid[:,1,:]\n",
    "X_train_evi = X_train[:,2,:]\n",
    "X_valid_evi = X_valid[:,2,:]"
   ]
  },
  {
   "cell_type": "code",
   "execution_count": 18,
   "id": "95f35ef9-73e7-4d43-8e94-6630c33175ab",
   "metadata": {},
   "outputs": [
    {
     "name": "stdout",
     "output_type": "stream",
     "text": [
      "              precision    recall  f1-score   support\n",
      "\n",
      "           0       1.00      1.00      1.00      3675\n",
      "           1       0.99      1.00      1.00      3814\n",
      "           2       0.99      1.00      1.00      3794\n",
      "           3       1.00      1.00      1.00      3684\n",
      "           4       1.00      1.00      1.00      3666\n",
      "           5       1.00      1.00      1.00      3653\n",
      "           6       1.00      1.00      1.00      3726\n",
      "           7       1.00      1.00      1.00      3724\n",
      "           8       1.00      1.00      1.00      3783\n",
      "           9       1.00      1.00      1.00      3636\n",
      "          10       1.00      0.96      0.98      3657\n",
      "\n",
      "    accuracy                           1.00     40812\n",
      "   macro avg       1.00      1.00      1.00     40812\n",
      "weighted avg       1.00      1.00      1.00     40812\n",
      "\n"
     ]
    }
   ],
   "source": [
    "#this is the same as RandomForest\n",
    "from sklearn.ensemble import RandomForestClassifier\n",
    "from sklearn.metrics import classification_report\n",
    "\n",
    "model = RandomForestClassifier()\n",
    "\n",
    "model.fit(X_train_ndvi, y_train)\n",
    "\n",
    "yhat = model.predict(X_valid_ndvi)\n",
    "\n",
    "print(classification_report(y_valid, yhat))"
   ]
  },
  {
   "cell_type": "code",
   "execution_count": 19,
   "id": "34f82c2c-8386-474b-946a-aad37d4ac31b",
   "metadata": {},
   "outputs": [
    {
     "name": "stdout",
     "output_type": "stream",
     "text": [
      "              precision    recall  f1-score   support\n",
      "\n",
      "           0       1.00      1.00      1.00      3675\n",
      "           1       0.99      1.00      1.00      3814\n",
      "           2       0.99      1.00      1.00      3794\n",
      "           3       1.00      1.00      1.00      3684\n",
      "           4       1.00      1.00      1.00      3666\n",
      "           5       1.00      1.00      1.00      3653\n",
      "           6       1.00      1.00      1.00      3726\n",
      "           7       1.00      1.00      1.00      3724\n",
      "           8       1.00      1.00      1.00      3783\n",
      "           9       1.00      1.00      1.00      3636\n",
      "          10       1.00      0.96      0.98      3657\n",
      "\n",
      "    accuracy                           1.00     40812\n",
      "   macro avg       1.00      1.00      1.00     40812\n",
      "weighted avg       1.00      1.00      1.00     40812\n",
      "\n"
     ]
    }
   ],
   "source": [
    "model = RandomForestClassifier()\n",
    "model.fit(X_train_savi, y_train)\n",
    "yhat = model.predict(X_valid_savi)\n",
    "print(classification_report(y_valid, yhat))"
   ]
  },
  {
   "cell_type": "code",
   "execution_count": 20,
   "id": "07539d22-d472-4abe-ae15-a40b2635e07b",
   "metadata": {},
   "outputs": [
    {
     "name": "stdout",
     "output_type": "stream",
     "text": [
      "              precision    recall  f1-score   support\n",
      "\n",
      "           0       1.00      1.00      1.00      3675\n",
      "           1       0.99      1.00      1.00      3814\n",
      "           2       1.00      1.00      1.00      3794\n",
      "           3       1.00      1.00      1.00      3684\n",
      "           4       1.00      1.00      1.00      3666\n",
      "           5       1.00      1.00      1.00      3653\n",
      "           6       1.00      1.00      1.00      3726\n",
      "           7       1.00      1.00      1.00      3724\n",
      "           8       1.00      1.00      1.00      3783\n",
      "           9       1.00      1.00      1.00      3636\n",
      "          10       1.00      0.97      0.98      3657\n",
      "\n",
      "    accuracy                           1.00     40812\n",
      "   macro avg       1.00      1.00      1.00     40812\n",
      "weighted avg       1.00      1.00      1.00     40812\n",
      "\n"
     ]
    }
   ],
   "source": [
    "model = RandomForestClassifier()\n",
    "model.fit(X_train_evi, y_train)\n",
    "yhat = model.predict(X_valid_evi)\n",
    "print(classification_report(y_valid, yhat))"
   ]
  },
  {
   "cell_type": "code",
   "execution_count": 23,
   "id": "a6b22c76-6b4e-41c1-ab07-c6c4b4791c9a",
   "metadata": {},
   "outputs": [],
   "source": [
    "X_test = X_test.reshape(X_test.shape[0], 24,3)\n",
    "X_test_ndvi = X_test[:,0,:]"
   ]
  },
  {
   "cell_type": "code",
   "execution_count": 25,
   "id": "2ee9617c-c01c-485b-8f20-f5d63746fea1",
   "metadata": {},
   "outputs": [
    {
     "name": "stdout",
     "output_type": "stream",
     "text": [
      "              precision    recall  f1-score   support\n",
      "\n",
      "           0       1.00      0.97      0.99       118\n",
      "           1       0.71      0.29      0.42        92\n",
      "           2       0.16      0.56      0.25        85\n",
      "           3       0.00      0.00      0.00        26\n",
      "           4       0.00      0.00      0.00        30\n",
      "           5       0.06      0.07      0.07        30\n",
      "           6       0.00      0.00      0.00        22\n",
      "           7       0.01      0.03      0.02        30\n",
      "           8       0.00      0.00      0.00        30\n",
      "           9       0.00      0.00      0.00        30\n",
      "          10       0.97      0.93      0.95      7452\n",
      "\n",
      "    accuracy                           0.89      7945\n",
      "   macro avg       0.26      0.26      0.24      7945\n",
      "weighted avg       0.93      0.89      0.91      7945\n",
      "\n"
     ]
    }
   ],
   "source": [
    "y_preds = model.predict(X_test_ndvi)\n",
    "print(classification_report(y_test, y_preds))"
   ]
  }
 ],
 "metadata": {
  "kernelspec": {
   "display_name": "Python 3 (ipykernel)",
   "language": "python",
   "name": "python3"
  },
  "language_info": {
   "codemirror_mode": {
    "name": "ipython",
    "version": 3
   },
   "file_extension": ".py",
   "mimetype": "text/x-python",
   "name": "python",
   "nbconvert_exporter": "python",
   "pygments_lexer": "ipython3",
   "version": "3.9.7"
  }
 },
 "nbformat": 4,
 "nbformat_minor": 5
}
