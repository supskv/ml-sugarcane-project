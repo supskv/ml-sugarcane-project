{
 "cells": [
  {
   "cell_type": "markdown",
   "id": "1db3ebff-af24-40ba-9190-1382df7cec7f",
   "metadata": {},
   "source": [
    "# Ex2 RNN"
   ]
  },
  {
   "cell_type": "markdown",
   "id": "db613541-8037-41cc-91b5-6923e094eb4f",
   "metadata": {},
   "source": [
    "## Step 1 Prepare X, y"
   ]
  },
  {
   "cell_type": "code",
   "execution_count": 1,
   "id": "ce674e7d-70d2-4cad-bda4-c51f18e1d5c9",
   "metadata": {},
   "outputs": [],
   "source": [
    "import pandas as pd\n",
    "import numpy as np\n",
    "from copy import copy\n",
    "import torch"
   ]
  },
  {
   "cell_type": "code",
   "execution_count": 2,
   "id": "7a375bb6-5fc7-478e-b58a-0842f5ea903f",
   "metadata": {},
   "outputs": [],
   "source": [
    "def file_to_data(filename):\n",
    "    \n",
    "    # read file\n",
    "    raw = pd.read_csv(filename)\n",
    "    \n",
    "    # define columns to be extracted\n",
    "    ndvi_col = ['ndvi_mean'+str(i) for i in range(1, 24+1)] # ndvi_mean1, ..., ndvi_mean24\n",
    "    savi_col = ['ndvi_mean'+str(i) for i in range(1, 24+1)] # ndvi_mean1, ..., savi_mean24\n",
    "    evi_col = ['ndvi_mean'+str(i) for i in range(1, 24+1)] # ndvi_mean1, ..., evi_mean24\n",
    "\n",
    "    # extract each feature\n",
    "    ndvi_timeseries = raw[ndvi_col]\n",
    "    savi_timeseries = raw[savi_col]\n",
    "    evi_timeseries = raw[evi_col]\n",
    "    \n",
    "    # dimension stack\n",
    "    data = np.dstack([ndvi_timeseries, savi_timeseries, evi_timeseries])\n",
    "    \n",
    "    # get only label\n",
    "    label = raw.iloc[:, -1]\n",
    "    \n",
    "    return data, label\n",
    "\n",
    "def data_to_lv1_x_y(data, labels):\n",
    "    \n",
    "    # export all X\n",
    "    # but reclass the plant cane -> 100, ratoon cane -> 200\n",
    "    target = copy(labels)\n",
    "    target[target > 200] = 200\n",
    "    target[(target < 200) & (target > 100)] = 100\n",
    "    \n",
    "    return data, target\n",
    "\n",
    "def data_to_lv2_x_y(data, target):\n",
    "    \n",
    "    # export X plant which labels are 100-200\n",
    "    X_plant = data[(target > 100) & (target <200)]\n",
    "    \n",
    "    # export X ratoon which labels are >200\n",
    "    X_ratoon = data[target > 200]\n",
    "    \n",
    "    # export y plant which labels are 100-200\n",
    "    y_plant = target[(target > 100) & (target < 200)]\n",
    "    \n",
    "    # export y ratoon which labels are >200\n",
    "    y_ratoon = target[target > 200]\n",
    "    \n",
    "    return X_plant, y_plant, X_ratoon, y_ratoon\n",
    "\n",
    "def label_encode(y):\n",
    "    \n",
    "    target = copy(y)\n",
    "    # redefine the cane plantation label to be 1 - 24\n",
    "    new_y = [int(str(label)[1:]) for label in target]\n",
    "    \n",
    "    return np.array(new_y)"
   ]
  },
  {
   "cell_type": "code",
   "execution_count": 3,
   "id": "715fb486-294f-4aa3-b49e-abf00186dd38",
   "metadata": {},
   "outputs": [],
   "source": [
    "data, labels = file_to_data('training_data_1718.csv')"
   ]
  },
  {
   "cell_type": "code",
   "execution_count": 4,
   "id": "b1f34fce-8910-41af-bb57-c169713694c3",
   "metadata": {},
   "outputs": [],
   "source": [
    "X, y = data_to_lv1_x_y(data, labels)"
   ]
  },
  {
   "cell_type": "code",
   "execution_count": 5,
   "id": "0aa6501e-fbd4-431d-ad05-e0fe7f3d4223",
   "metadata": {},
   "outputs": [],
   "source": [
    "from sklearn.preprocessing import LabelEncoder\n",
    "\n",
    "lu_encoder = LabelEncoder()\n",
    "\n",
    "y = lu_encoder.fit_transform(y)"
   ]
  },
  {
   "cell_type": "code",
   "execution_count": null,
   "id": "e8f7bdc4-1f1b-4b90-b333-3caa6d1afe83",
   "metadata": {},
   "outputs": [],
   "source": []
  },
  {
   "cell_type": "markdown",
   "id": "c268f016-a71f-4b68-a1a7-ef1d4b3acc3b",
   "metadata": {},
   "source": [
    "### Prepare Dataset and Dataloader"
   ]
  },
  {
   "cell_type": "code",
   "execution_count": 6,
   "id": "8194f1ea-23f4-49af-8737-cb1ff4ef43dd",
   "metadata": {},
   "outputs": [],
   "source": [
    "from torch.utils.data import TensorDataset\n",
    "from torch.utils.data import DataLoader\n",
    "from torch.utils.data.dataset import random_split\n",
    "\n",
    "def Xy_dataloader(X_numpy, y_numpy, batch_size=32):\n",
    "    \n",
    "    X_tensor = torch.tensor(X_numpy).float()\n",
    "    y_tensor = torch.tensor(y_numpy).long()\n",
    "    \n",
    "    dataset = TensorDataset(X_tensor, y_tensor)\n",
    "\n",
    "    loader = DataLoader(dataset, batch_size=batch_size,shuffle=True)\n",
    "    \n",
    "    return loader"
   ]
  },
  {
   "cell_type": "code",
   "execution_count": 7,
   "id": "d3c0ea42-89d0-4c50-bf49-937a6ee04c9a",
   "metadata": {},
   "outputs": [],
   "source": [
    "from sklearn.model_selection import train_test_split\n",
    "\n",
    "X_train, X_test, y_train, y_test = train_test_split(X, y, test_size=0.3, stratify=y)"
   ]
  },
  {
   "cell_type": "code",
   "execution_count": 8,
   "id": "c615c0d0-8d5b-474a-a80f-b9140567eeae",
   "metadata": {},
   "outputs": [],
   "source": [
    "train_loader = Xy_dataloader(X_train, y_train)\n",
    "test_loader = Xy_dataloader(X_test, y_test)"
   ]
  },
  {
   "cell_type": "markdown",
   "id": "48c66b73-e07f-4656-a66d-8d3b2156f60b",
   "metadata": {},
   "source": [
    "# Level 1 Classification"
   ]
  },
  {
   "cell_type": "code",
   "execution_count": 9,
   "id": "b06ce5bb-1ff8-4004-a477-5ada2674096f",
   "metadata": {},
   "outputs": [],
   "source": [
    "import torch\n",
    "from torch import nn"
   ]
  },
  {
   "cell_type": "code",
   "execution_count": 10,
   "id": "cd6c5554-8f76-4113-b40a-39cbda095d83",
   "metadata": {},
   "outputs": [],
   "source": [
    "\n",
    "class RNN_lv1(nn.Module):\n",
    "    \n",
    "    def __init__(self, input_dim, hidden_dim, output_dim):\n",
    "        super().__init__()\n",
    "        \n",
    "        self.rnn = nn.RNN(input_dim, hidden_dim, num_layers=1, batch_first=True)\n",
    "        self.fc = nn.Linear(hidden_dim, output_dim)\n",
    "        \n",
    "    def forward(self, x):\n",
    "     \n",
    "        \n",
    "        #[batch size, seq len, embed dim]\n",
    "        out, hn= self.rnn(x)  #if no h0, all zeroes\n",
    "        \n",
    "        return self.fc(hn.squeeze(0))"
   ]
  },
  {
   "cell_type": "code",
   "execution_count": 11,
   "id": "2173b6c7-49b5-45eb-977b-12c70e6ce16b",
   "metadata": {},
   "outputs": [
    {
     "name": "stdout",
     "output_type": "stream",
     "text": [
      "cuda\n"
     ]
    }
   ],
   "source": [
    "device = torch.device('cuda' if torch.cuda.is_available() else 'cpu')\n",
    "print(device)\n",
    "\n",
    "#make our work comparable if restarted the kernel\n",
    "SEED = 1234\n",
    "torch.manual_seed(SEED)\n",
    "torch.backends.cudnn.deterministic = True"
   ]
  },
  {
   "cell_type": "code",
   "execution_count": 20,
   "id": "fec2c317-dc74-46b2-87ad-92c18355ebe2",
   "metadata": {},
   "outputs": [],
   "source": [
    "model = RNN_lv1(3, 50, len(np.unique(y))).to(device)"
   ]
  },
  {
   "cell_type": "code",
   "execution_count": null,
   "id": "23a22ea8-6190-4a91-9503-a5c8dbc41a54",
   "metadata": {},
   "outputs": [],
   "source": []
  },
  {
   "cell_type": "code",
   "execution_count": 21,
   "id": "4d06cb93-3aba-4824-88e5-36dec39dcbd1",
   "metadata": {},
   "outputs": [],
   "source": [
    "import torch.optim as optim\n",
    "\n",
    "optimizer = optim.Adam(model.parameters(), lr=0.001) #<----changed to Adam\n",
    "criterion = nn.CrossEntropyLoss() #combine sigmoid with binary cross entropy"
   ]
  },
  {
   "cell_type": "code",
   "execution_count": null,
   "id": "631ff289-2966-4c22-a853-25eb9b217c3e",
   "metadata": {},
   "outputs": [],
   "source": []
  },
  {
   "cell_type": "code",
   "execution_count": 22,
   "id": "d1d0e6f0-1164-4721-8fe5-bd786d522a04",
   "metadata": {},
   "outputs": [],
   "source": [
    "def train_model(model, train_dataloader, valid_dataloader, epochs, criterion, optimizer):\n",
    "    \n",
    "    loss_train = []\n",
    "    loss_valid = []\n",
    "    \n",
    "    for i in range(epochs):\n",
    "        \n",
    "        # ===================TRAIN ======================\n",
    "        model.train()\n",
    "        \n",
    "        epoch_loss = 0\n",
    "        \n",
    "        for x, y in train_dataloader:\n",
    "            \n",
    "            x = x.to(device)\n",
    "            y = y.to(device)\n",
    "            \n",
    "            out = model(x).squeeze(1)\n",
    "            \n",
    "            loss = criterion(out, y)\n",
    "            \n",
    "            epoch_loss += loss.item()\n",
    "            \n",
    "            #backprop\n",
    "            optimizer.zero_grad()\n",
    "            loss.backward()\n",
    "            optimizer.step()\n",
    "            \n",
    "        loss_train.append(epoch_loss/len(train_dataloader))\n",
    "        \n",
    "        # ===================VALIDATION =================\n",
    "        model.eval()\n",
    "    \n",
    "        epoch_loss = 0\n",
    "        \n",
    "        for x, y in valid_dataloader:\n",
    "            \n",
    "            x = x.to(device)\n",
    "            y = y.to(device)\n",
    "            \n",
    "            out = model(x).squeeze(1)\n",
    "            \n",
    "            loss = criterion(out, y)\n",
    "            \n",
    "            epoch_loss += loss.item()\n",
    "        \n",
    "        loss_valid.append(epoch_loss/len(valid_dataloader))\n",
    "        \n",
    "        # ================= PRINT ===========================\n",
    "        print(f'epoch {i+1}/{epochs} train loss: {loss_train[-1]} validation loss: {loss_valid[-1]}')\n",
    "    \n",
    "    return loss_train, loss_valid\n",
    "            "
   ]
  },
  {
   "cell_type": "code",
   "execution_count": 23,
   "id": "e96d8de7-aa0b-4508-8dc7-5eaa94cdb14f",
   "metadata": {},
   "outputs": [
    {
     "name": "stdout",
     "output_type": "stream",
     "text": [
      "epoch 1/100 train loss: 0.9713268639348077 validation loss: 0.87510910457816\n",
      "epoch 2/100 train loss: 0.8686202791988427 validation loss: 0.8493289533725454\n",
      "epoch 3/100 train loss: 0.8310829337607039 validation loss: 0.8208314411896319\n",
      "epoch 4/100 train loss: 0.8208098479196535 validation loss: 0.8088877368564448\n",
      "epoch 5/100 train loss: 0.7827566654969614 validation loss: 0.7369300397959623\n",
      "epoch 6/100 train loss: 0.7400611755273021 validation loss: 0.7033549877237683\n",
      "epoch 7/100 train loss: 0.6855704401824492 validation loss: 0.6811657144018441\n",
      "epoch 8/100 train loss: 0.6609732724250631 validation loss: 0.6470689298200213\n",
      "epoch 9/100 train loss: 0.6310610970918168 validation loss: 0.6181725849790022\n",
      "epoch 10/100 train loss: 0.6225286139875439 validation loss: 0.601410455201283\n",
      "epoch 11/100 train loss: 0.5908892050068429 validation loss: 0.5790988366958524\n",
      "epoch 12/100 train loss: 0.5880470520004313 validation loss: 0.6145333310296713\n",
      "epoch 13/100 train loss: 0.5733518319349762 validation loss: 0.5472792066818426\n",
      "epoch 14/100 train loss: 0.5683771395091469 validation loss: 0.5495565070593653\n",
      "epoch 15/100 train loss: 0.5602464749880717 validation loss: 0.6480563443061734\n",
      "epoch 16/100 train loss: 0.5648542080365174 validation loss: 0.5397818898859102\n",
      "epoch 17/100 train loss: 0.5610263561103361 validation loss: 0.657582845323342\n",
      "epoch 18/100 train loss: 0.5553879860445117 validation loss: 0.5707997618135342\n",
      "epoch 19/100 train loss: 0.550281654752738 validation loss: 0.5317735718794105\n",
      "epoch 20/100 train loss: 0.5364659599272917 validation loss: 0.5698113384818243\n",
      "epoch 21/100 train loss: 0.5425947890319722 validation loss: 0.5525082564058382\n",
      "epoch 22/100 train loss: 0.540769840174533 validation loss: 0.5370926233855161\n",
      "epoch 23/100 train loss: 0.5447579806683757 validation loss: 0.5383742161033568\n",
      "epoch 24/100 train loss: 0.544432835693055 validation loss: 0.6058187945322557\n",
      "epoch 25/100 train loss: 0.5410877828691023 validation loss: 0.5283455994010957\n",
      "epoch 26/100 train loss: 0.5468979227944468 validation loss: 0.5452043818048209\n",
      "epoch 27/100 train loss: 0.5391037495318034 validation loss: 0.5511377303560904\n",
      "epoch 28/100 train loss: 0.5354730028209956 validation loss: 0.5438527294919511\n",
      "epoch 29/100 train loss: 0.5321550052216713 validation loss: 0.5289645148210289\n",
      "epoch 30/100 train loss: 0.5296531509317405 validation loss: 0.5137380844305369\n",
      "epoch 31/100 train loss: 0.5306929591911059 validation loss: 0.5436423334701002\n",
      "epoch 32/100 train loss: 0.5295026320303585 validation loss: 0.5221444910222833\n",
      "epoch 33/100 train loss: 0.5237795475949633 validation loss: 0.5264680299384534\n",
      "epoch 34/100 train loss: 0.5323459032579516 validation loss: 0.5737118083090822\n",
      "epoch 35/100 train loss: 0.5298384327626398 validation loss: 0.5477761828209743\n",
      "epoch 36/100 train loss: 0.528041329578305 validation loss: 0.5138308367699631\n",
      "epoch 37/100 train loss: 0.5264360008510292 validation loss: 0.550404024764526\n",
      "epoch 38/100 train loss: 0.5224902548477159 validation loss: 0.5200586146559597\n",
      "epoch 39/100 train loss: 0.5236072193646262 validation loss: 0.5237519285403007\n",
      "epoch 40/100 train loss: 0.5222526106005865 validation loss: 0.5181273534770839\n",
      "epoch 41/100 train loss: 0.5271883539274229 validation loss: 0.5280097375723941\n",
      "epoch 42/100 train loss: 0.524695375973874 validation loss: 0.5269649055871096\n",
      "epoch 43/100 train loss: 0.5203537732785475 validation loss: 0.5365047201144794\n",
      "epoch 44/100 train loss: 0.5193655839625825 validation loss: 0.5284941046198538\n",
      "epoch 45/100 train loss: 0.5261155402301051 validation loss: 0.5143811763071817\n",
      "epoch 46/100 train loss: 0.5236088902497968 validation loss: 0.5479327713655047\n",
      "epoch 47/100 train loss: 0.5208899512992683 validation loss: 0.5192734148384126\n",
      "epoch 48/100 train loss: 0.521012933118969 validation loss: 0.5169509262585443\n",
      "epoch 49/100 train loss: 0.5203711370415721 validation loss: 0.5131128184066331\n",
      "epoch 50/100 train loss: 0.5205435002526493 validation loss: 0.5077108400912325\n",
      "epoch 51/100 train loss: 0.5160700035750443 validation loss: 0.5275527593518091\n",
      "epoch 52/100 train loss: 0.513383392006793 validation loss: 0.5376998362216082\n",
      "epoch 53/100 train loss: 0.5184492148881685 validation loss: 0.5431798247020106\n",
      "epoch 54/100 train loss: 0.5213136662405433 validation loss: 0.5476514524664761\n",
      "epoch 55/100 train loss: 0.5237935287943969 validation loss: 0.5225826154563052\n",
      "epoch 56/100 train loss: 0.5318540455707421 validation loss: 0.5159046308807105\n",
      "epoch 57/100 train loss: 0.514017126450302 validation loss: 0.5371062025304668\n",
      "epoch 58/100 train loss: 0.5136736155296049 validation loss: 0.536393329378002\n",
      "epoch 59/100 train loss: 0.5177673872375319 validation loss: 0.52526622518035\n",
      "epoch 60/100 train loss: 0.5132192751617296 validation loss: 0.527505046572567\n",
      "epoch 61/100 train loss: 0.5061860274232871 validation loss: 0.5188450099022921\n",
      "epoch 62/100 train loss: 0.5153205757234114 validation loss: 0.5557699438707888\n",
      "epoch 63/100 train loss: 0.511105440662685 validation loss: 0.5112715774823812\n",
      "epoch 64/100 train loss: 0.5102268023588133 validation loss: 0.5203035028020212\n",
      "epoch 65/100 train loss: 0.5106978852909507 validation loss: 0.5179664413791057\n",
      "epoch 66/100 train loss: 0.5136719883967799 validation loss: 0.5141833137628461\n",
      "epoch 67/100 train loss: 0.5086743568486356 validation loss: 0.5139930338160066\n",
      "epoch 68/100 train loss: 0.5089361498541866 validation loss: 0.5225185815953026\n",
      "epoch 69/100 train loss: 0.505598506077807 validation loss: 0.5171334945465907\n",
      "epoch 70/100 train loss: 0.5042800275569267 validation loss: 0.5250237795932233\n",
      "epoch 71/100 train loss: 0.503684474696927 validation loss: 0.5156311152641438\n",
      "epoch 72/100 train loss: 0.5026662249303033 validation loss: 0.51080446056098\n",
      "epoch 73/100 train loss: 0.5019709126006627 validation loss: 0.5150018329462729\n",
      "epoch 74/100 train loss: 0.5012693869623732 validation loss: 0.5089654624462128\n",
      "epoch 75/100 train loss: 0.5012810479664633 validation loss: 0.5147814428018145\n",
      "epoch 76/100 train loss: 0.5041796046157255 validation loss: 0.5159279364199678\n",
      "epoch 77/100 train loss: 0.5045363318624226 validation loss: 0.5037396333434365\n",
      "epoch 78/100 train loss: 0.5018791374585307 validation loss: 0.5043507511458121\n",
      "epoch 79/100 train loss: 0.5082714025010454 validation loss: 0.5304353318431161\n",
      "epoch 80/100 train loss: 0.50088465869004 validation loss: 0.5381182956794077\n",
      "epoch 81/100 train loss: 0.5010266846164744 validation loss: 0.5014539792025385\n",
      "epoch 82/100 train loss: 0.5123805318106996 validation loss: 0.5204553217434686\n",
      "epoch 83/100 train loss: 0.4988692359510043 validation loss: 0.554690504369657\n",
      "epoch 84/100 train loss: 0.4931536501286723 validation loss: 0.5032253601580612\n",
      "epoch 85/100 train loss: 0.5007512656615135 validation loss: 0.5152242651655654\n",
      "epoch 86/100 train loss: 0.4939462883886716 validation loss: 0.5208107737962865\n",
      "epoch 87/100 train loss: 0.49108469792714354 validation loss: 0.5356305633202072\n",
      "epoch 88/100 train loss: 0.4872017355886757 validation loss: 0.521309242021939\n",
      "epoch 89/100 train loss: 0.4946754477019851 validation loss: 0.5083508902837423\n",
      "epoch 90/100 train loss: 0.5034762608772474 validation loss: 0.517346662677024\n",
      "epoch 91/100 train loss: 0.4950617621553705 validation loss: 0.5092281829719701\n",
      "epoch 92/100 train loss: 0.4860430209771961 validation loss: 0.5037948952233495\n",
      "epoch 93/100 train loss: 0.4877705382751235 validation loss: 0.5104905556548726\n",
      "epoch 94/100 train loss: 0.49234146239064264 validation loss: 0.4998216076084405\n",
      "epoch 95/100 train loss: 0.4818817894403816 validation loss: 0.5106171039510364\n",
      "epoch 96/100 train loss: 0.4791097853940429 validation loss: 0.5108600811771125\n",
      "epoch 97/100 train loss: 0.4929633723928573 validation loss: 0.5064970449475218\n",
      "epoch 98/100 train loss: 0.4844409721434539 validation loss: 0.5054641769937247\n",
      "epoch 99/100 train loss: 0.48528815187672353 validation loss: 0.508791077851264\n",
      "epoch 100/100 train loss: 0.4850530932981072 validation loss: 0.5104275438164877\n"
     ]
    }
   ],
   "source": [
    "loss_list = train_model(model, train_loader, test_loader, 100, criterion, optimizer)"
   ]
  },
  {
   "cell_type": "code",
   "execution_count": 24,
   "id": "83375cbc-31e6-40cf-9693-969ed949148a",
   "metadata": {},
   "outputs": [
    {
     "data": {
      "text/plain": [
       "[<matplotlib.lines.Line2D at 0x7f1b711ca6a0>]"
      ]
     },
     "execution_count": 24,
     "metadata": {},
     "output_type": "execute_result"
    },
    {
     "data": {
      "image/png": "[encoded data removed]",
      "text/plain": [
       "<Figure size 432x288 with 1 Axes>"
      ]
     },
     "metadata": {
      "needs_background": "light"
     },
     "output_type": "display_data"
    }
   ],
   "source": [
    "import matplotlib.pyplot as plt\n",
    "\n",
    "plt.plot(loss_list[0])\n",
    "plt.plot(loss_list[1])"
   ]
  },
  {
   "cell_type": "code",
   "execution_count": 25,
   "id": "b2ed89c8-60d6-4113-96e6-15a55086885f",
   "metadata": {},
   "outputs": [],
   "source": [
    "def predict_model(model, test_dataloader):\n",
    "    \n",
    "    model.eval()\n",
    "    \n",
    "    pred = []\n",
    "    \n",
    "    for x, y in test_dataloader:\n",
    "            \n",
    "        x = x.to(device)\n",
    "            \n",
    "        out = model(x).squeeze(1).to('cpu')\n",
    "    \n",
    "        pred.append(torch.max(out, 1)[1].numpy())\n",
    "    \n",
    "    return np.concatenate(pred)"
   ]
  },
  {
   "cell_type": "code",
   "execution_count": 26,
   "id": "b28f23ec-830c-461e-952f-cbf8866c73e7",
   "metadata": {},
   "outputs": [],
   "source": [
    "y_pred = predict_model(model, test_loader)"
   ]
  },
  {
   "cell_type": "code",
   "execution_count": 27,
   "id": "ce0ccc2e-1ba0-43ed-b22a-98523d9116f9",
   "metadata": {},
   "outputs": [
    {
     "name": "stdout",
     "output_type": "stream",
     "text": [
      "              precision    recall  f1-score   support\n",
      "\n",
      "           0       0.00      0.00      0.00        35\n",
      "           1       0.00      0.00      0.00        28\n",
      "           2       0.00      0.00      0.00        25\n",
      "           3       0.00      0.00      0.00         8\n",
      "           4       0.00      0.00      0.00         9\n",
      "           5       0.00      0.00      0.00         9\n",
      "           6       0.00      0.00      0.00         7\n",
      "           7       0.00      0.00      0.00         9\n",
      "           8       0.00      0.00      0.00         9\n",
      "           9       0.00      0.00      0.00         9\n",
      "          10       0.35      0.36      0.35      1347\n",
      "          11       0.62      0.62      0.62      2363\n",
      "\n",
      "    accuracy                           0.51      3858\n",
      "   macro avg       0.08      0.08      0.08      3858\n",
      "weighted avg       0.50      0.51      0.50      3858\n",
      "\n"
     ]
    },
    {
     "name": "stderr",
     "output_type": "stream",
     "text": [
      "/opt/conda/lib/python3.9/site-packages/sklearn/metrics/_classification.py:1308: UndefinedMetricWarning: Precision and F-score are ill-defined and being set to 0.0 in labels with no predicted samples. Use `zero_division` parameter to control this behavior.\n",
      "  _warn_prf(average, modifier, msg_start, len(result))\n",
      "/opt/conda/lib/python3.9/site-packages/sklearn/metrics/_classification.py:1308: UndefinedMetricWarning: Precision and F-score are ill-defined and being set to 0.0 in labels with no predicted samples. Use `zero_division` parameter to control this behavior.\n",
      "  _warn_prf(average, modifier, msg_start, len(result))\n",
      "/opt/conda/lib/python3.9/site-packages/sklearn/metrics/_classification.py:1308: UndefinedMetricWarning: Precision and F-score are ill-defined and being set to 0.0 in labels with no predicted samples. Use `zero_division` parameter to control this behavior.\n",
      "  _warn_prf(average, modifier, msg_start, len(result))\n"
     ]
    }
   ],
   "source": [
    "from sklearn.metrics import classification_report\n",
    "\n",
    "print(classification_report(y_test, y_pred))"
   ]
  },
  {
   "cell_type": "code",
   "execution_count": null,
   "id": "cc45085c-735d-4487-8144-ab824dad927f",
   "metadata": {},
   "outputs": [],
   "source": []
  },
  {
   "cell_type": "code",
   "execution_count": null,
   "id": "3985e151-30cb-43b7-a56b-9aa29758929a",
   "metadata": {},
   "outputs": [],
   "source": []
  }
 ],
 "metadata": {
  "kernelspec": {
   "display_name": "Python 3 (ipykernel)",
   "language": "python",
   "name": "python3"
  },
  "language_info": {
   "codemirror_mode": {
    "name": "ipython",
    "version": 3
   },
   "file_extension": ".py",
   "mimetype": "text/x-python",
   "name": "python",
   "nbconvert_exporter": "python",
   "pygments_lexer": "ipython3",
   "version": "3.9.7"
  }
 },
 "nbformat": 4,
 "nbformat_minor": 5
}
