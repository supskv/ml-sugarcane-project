{
  "nbformat": 4,
  "nbformat_minor": 0,
  "metadata": {
    "colab": {
      "name": "ML_project_ex2_conv1d->lstm.ipynb",
      "provenance": [],
      "collapsed_sections": [
        "mdWxRSCxINcN"
      ],
      "include_colab_link": true
    },
    "kernelspec": {
      "name": "python3",
      "display_name": "Python 3"
    },
    "language_info": {
      "name": "python"
    },
    "accelerator": "GPU"
  },
  "cells": [
    {
      "cell_type": "markdown",
      "metadata": {
        "id": "view-in-github",
        "colab_type": "text"
      },
      "source": [
        "<a href=\"https://colab.research.google.com/github/supskv/ml-sugarcane-project/blob/master/ML_project_ex2_conv1d_%3Elstm.ipynb\" target=\"_parent\"><img src=\"https://colab.research.google.com/assets/colab-badge.svg\" alt=\"Open In Colab\"/></a>"
      ]
    },
    {
      "cell_type": "code",
      "metadata": {
        "id": "8GHaNIcwv05u"
      },
      "source": [
        "import pandas as pd\n",
        "import numpy as np\n",
        "from copy import copy\n",
        "import torch\n",
        "import matplotlib.pyplot as plt\n",
        "\n",
        "from google.colab import drive\n",
        "from IPython.display import clear_output"
      ],
      "execution_count": 1,
      "outputs": []
    },
    {
      "cell_type": "code",
      "metadata": {
        "id": "bzlMW8NWv_Xa",
        "colab": {
          "base_uri": "https://localhost:8080/"
        },
        "outputId": "65f86ece-9aa7-46c2-9e00-abdff0e4b3aa"
      },
      "source": [
        "drive.mount('/content/drive')"
      ],
      "execution_count": 2,
      "outputs": [
        {
          "output_type": "stream",
          "name": "stdout",
          "text": [
            "Mounted at /content/drive\n"
          ]
        }
      ]
    },
    {
      "cell_type": "code",
      "metadata": {
        "id": "oAvZPPqEd4iA"
      },
      "source": [
        "dataset_path = '/content/drive/MyDrive/AIT/ML'"
      ],
      "execution_count": 3,
      "outputs": []
    },
    {
      "cell_type": "code",
      "metadata": {
        "id": "YRfgCatZeEpY"
      },
      "source": [
        "def file_to_data(filename):\n",
        "    \n",
        "    # read file\n",
        "    raw = pd.read_csv(filename)\n",
        "    \n",
        "    # define columns to be extracted\n",
        "    ndvi_col = ['ndvi_mean'+str(i) for i in range(1, 24+1)] # ndvi_mean1, ..., ndvi_mean24\n",
        "    savi_col = ['ndvi_mean'+str(i) for i in range(1, 24+1)] # ndvi_mean1, ..., savi_mean24\n",
        "    evi_col = ['ndvi_mean'+str(i) for i in range(1, 24+1)] # ndvi_mean1, ..., evi_mean24\n",
        "\n",
        "    # extract each feature\n",
        "    ndvi_timeseries = raw[ndvi_col]\n",
        "    savi_timeseries = raw[savi_col]\n",
        "    evi_timeseries = raw[evi_col]\n",
        "    \n",
        "    # dimension stack\n",
        "    data = np.dstack([ndvi_timeseries, savi_timeseries, evi_timeseries])\n",
        "    \n",
        "    # get only label\n",
        "    label = raw.iloc[:, -1]\n",
        "    \n",
        "    return data, label\n",
        "\n",
        "def data_to_lv1_x_y(data, labels):\n",
        "    \n",
        "    # export all X\n",
        "    # but reclass the plant cane -> 100, ratoon cane -> 200\n",
        "    target = copy(labels)\n",
        "    target[target > 200] = 200\n",
        "    target[(target < 200) & (target > 100)] = 100\n",
        "    \n",
        "    return data, target\n",
        "\n",
        "def data_to_lv2_x_y(data, target):\n",
        "    \n",
        "    # export X plant which labels are 100-200\n",
        "    X_plant = data[(target > 100) & (target <200)]\n",
        "    \n",
        "    # export X ratoon which labels are >200\n",
        "    X_ratoon = data[target > 200]\n",
        "    \n",
        "    # export y plant which labels are 100-200\n",
        "    y_plant = target[(target > 100) & (target < 200)]\n",
        "    \n",
        "    # export y ratoon which labels are >200\n",
        "    y_ratoon = target[target > 200]\n",
        "    \n",
        "    return X_plant, y_plant, X_ratoon, y_ratoon\n",
        "\n",
        "def label_encode(y):\n",
        "    \n",
        "    target = copy(y)\n",
        "    # redefine the cane plantation label to be 1 - 24\n",
        "    new_y = [int(str(label)[1:]) for label in target]\n",
        "    \n",
        "    return np.array(new_y)"
      ],
      "execution_count": 4,
      "outputs": []
    },
    {
      "cell_type": "code",
      "metadata": {
        "id": "D0wZlo89eFxo"
      },
      "source": [
        "data_train, labels_train = file_to_data('/content/drive/MyDrive/AIT/ML/training_data_1718.csv')\n",
        "data_test, labels_test = file_to_data('/content/drive/MyDrive/AIT/ML/training_data_1819.csv')"
      ],
      "execution_count": 5,
      "outputs": []
    },
    {
      "cell_type": "code",
      "metadata": {
        "id": "x_7yMXXAeHdZ"
      },
      "source": [
        "X_plant_train, y_plant_train, X_ratoon_train, y_ratoon_train = data_to_lv2_x_y(data_train, labels_train)\n",
        "X_plant_test, y_plant_test, X_ratoon_test, y_ratoon_test = data_to_lv2_x_y(data_test, labels_test)"
      ],
      "execution_count": 11,
      "outputs": []
    },
    {
      "cell_type": "code",
      "metadata": {
        "id": "nBNBAjxCdOa9"
      },
      "source": [
        "def makelabel(y):\n",
        "  y = y.to_numpy()\n",
        "  for i in range(len(y)):\n",
        "    if y[i] %100 >0 and y[i] %100<=4:\n",
        "      y[i] = 0 \n",
        "    elif y[i] %100>4 and y[i] %100<=8:\n",
        "      y[i] = 1 \n",
        "    elif y[i]%100>8 :\n",
        "      y[i] = 2 \n",
        "  return y\n",
        "y_plant_train = makelabel(y_plant_train)\n",
        "y_ratoon_train = makelabel(y_ratoon_train)\n",
        "\n",
        "y_plant_test = makelabel(y_plant_test)\n",
        "y_ratoon_test = makelabel(y_ratoon_test)"
      ],
      "execution_count": 12,
      "outputs": []
    },
    {
      "cell_type": "code",
      "metadata": {
        "colab": {
          "base_uri": "https://localhost:8080/"
        },
        "id": "B2B2m0OWfxZn",
        "outputId": "f13cc032-bb5f-4ad0-eda1-3583b69387fe"
      },
      "source": [
        "print(f'numeric class of y train: {np.unique(y_plant_train)}')\n",
        "print(f'numeric class of y test: {np.unique(y_plant_test)}')"
      ],
      "execution_count": 13,
      "outputs": [
        {
          "output_type": "stream",
          "name": "stdout",
          "text": [
            "numeric class of y train: [0 1 2]\n",
            "numeric class of y test: [0 1 2]\n"
          ]
        }
      ]
    },
    {
      "cell_type": "markdown",
      "metadata": {
        "id": "Kfmb5m4QqdaC"
      },
      "source": [
        ""
      ]
    },
    {
      "cell_type": "code",
      "metadata": {
        "id": "k2bQ5MW1f92v"
      },
      "source": [
        "from imblearn.over_sampling import RandomOverSampler\n",
        "from imblearn.under_sampling import RandomUnderSampler\n",
        "from collections import Counter"
      ],
      "execution_count": 15,
      "outputs": []
    },
    {
      "cell_type": "code",
      "metadata": {
        "colab": {
          "base_uri": "https://localhost:8080/"
        },
        "id": "7XLlUTyLgCw2",
        "outputId": "485988d8-d5c3-45f1-a475-c3f081b0ff70"
      },
      "source": [
        "shape_plant = X_plant_train.shape\n",
        "shape_ratoon = X_ratoon_train.shape\n",
        "print(Counter(y_plant_train))\n",
        "print(Counter(y_ratoon_train))"
      ],
      "execution_count": 16,
      "outputs": [
        {
          "output_type": "stream",
          "name": "stdout",
          "text": [
            "Counter({0: 2392, 1: 1912, 2: 185})\n",
            "Counter({1: 4395, 0: 3467, 2: 16})\n"
          ]
        }
      ]
    },
    {
      "cell_type": "code",
      "metadata": {
        "colab": {
          "base_uri": "https://localhost:8080/"
        },
        "id": "ZGMTTaA8gII2",
        "outputId": "12337cba-9e97-4549-8b4c-cb99f821d5c2"
      },
      "source": [
        "X_plant_train = X_plant_train.reshape(X_plant_train.shape[0], -1)\n",
        "X_ratoon_train = X_ratoon_train.reshape(X_ratoon_train.shape[0], -1)\n",
        "print(f'X plant train: {X_plant_train.shape}')\n",
        "print(f'X ratoon train: {X_ratoon_train.shape}')"
      ],
      "execution_count": 17,
      "outputs": [
        {
          "output_type": "stream",
          "name": "stdout",
          "text": [
            "X plant train: (4489, 72)\n",
            "X ratoon train: (7878, 72)\n"
          ]
        }
      ]
    },
    {
      "cell_type": "code",
      "metadata": {
        "colab": {
          "base_uri": "https://localhost:8080/"
        },
        "id": "uC74_yN1gOlu",
        "outputId": "f1736ba3-7f8f-4d44-f449-dca2e2a74398"
      },
      "source": [
        "# instantiating the random over sampler \n",
        "ros = RandomOverSampler()\n",
        "# resampling X, y\n",
        "X_plant_train, y_plant_train = ros.fit_resample(X_plant_train, y_plant_train)\n",
        "X_ratoon_train, y_ratoon_train = ros.fit_resample(X_ratoon_train, y_ratoon_train)\n",
        "\n",
        "print(f'after oversampled-> X plant shape: {X_plant_train.shape}')\n",
        "print(f'after oversampled-> X ratoon shape: {X_ratoon_train.shape}')"
      ],
      "execution_count": 18,
      "outputs": [
        {
          "output_type": "stream",
          "name": "stdout",
          "text": [
            "after oversampled-> X plant shape: (7176, 72)\n",
            "after oversampled-> X ratoon shape: (13185, 72)\n"
          ]
        }
      ]
    },
    {
      "cell_type": "code",
      "metadata": {
        "colab": {
          "base_uri": "https://localhost:8080/"
        },
        "id": "27XA9sgKgbXm",
        "outputId": "d2b9f688-8d39-400a-ad34-f56ffd14414f"
      },
      "source": [
        "X_plant_train = X_plant_train.reshape(X_plant_train.shape[0], 24,3)\n",
        "X_ratoon_train = X_ratoon_train.reshape(X_ratoon_train.shape[0], 24,3)\n",
        "\n",
        "print(f'X plant train: {X_plant_train.shape}')\n",
        "print(f'X ratoon train: {X_ratoon_train.shape}')"
      ],
      "execution_count": 19,
      "outputs": [
        {
          "output_type": "stream",
          "name": "stdout",
          "text": [
            "X plant train: (7176, 24, 3)\n",
            "X ratoon train: (13185, 24, 3)\n"
          ]
        }
      ]
    },
    {
      "cell_type": "code",
      "metadata": {
        "colab": {
          "base_uri": "https://localhost:8080/"
        },
        "id": "PaFFQu39gkI-",
        "outputId": "99e7f5f9-573e-4052-95ab-ab1b4e494137"
      },
      "source": [
        "print(Counter(y_plant_train))\n",
        "print(Counter(y_ratoon_train))"
      ],
      "execution_count": 20,
      "outputs": [
        {
          "output_type": "stream",
          "name": "stdout",
          "text": [
            "Counter({0: 2392, 1: 2392, 2: 2392})\n",
            "Counter({0: 4395, 1: 4395, 2: 4395})\n"
          ]
        }
      ]
    },
    {
      "cell_type": "code",
      "metadata": {
        "id": "j4pjam030iq7"
      },
      "source": [
        "\"\"\"X_plant_train = X_plant_train.transpose(0,2,1)[:, np.newaxis,:,:]\n",
        "X_ratoon_train = X_ratoon_train.transpose(0,2,1)[:, np.newaxis,:,:]\"\"\"\n",
        "\n",
        "X_plant_train = X_plant_train.transpose(0,2,1)[:,:,:18]\n",
        "X_ratoon_train = X_ratoon_train.transpose(0,2,1)[:,:,:18]"
      ],
      "execution_count": 21,
      "outputs": []
    },
    {
      "cell_type": "code",
      "metadata": {
        "colab": {
          "base_uri": "https://localhost:8080/"
        },
        "id": "HK32areE06xV",
        "outputId": "071a998d-435f-4477-aa64-94eec60e382b"
      },
      "source": [
        "print(f'X plant train: {X_plant_train.shape}')\n",
        "print(f'X ratoon train: {X_ratoon_train.shape}')"
      ],
      "execution_count": 22,
      "outputs": [
        {
          "output_type": "stream",
          "name": "stdout",
          "text": [
            "X plant train: (7176, 3, 18)\n",
            "X ratoon train: (13185, 3, 18)\n"
          ]
        }
      ]
    },
    {
      "cell_type": "code",
      "metadata": {
        "id": "Rom_VvjQgoLv"
      },
      "source": [
        "from torch.utils.data import TensorDataset\n",
        "from torch.utils.data import DataLoader\n",
        "from torch.utils.data.dataset import random_split\n",
        "\n",
        "def Xy_dataloader(X_numpy, y_numpy, batch_size=32):\n",
        "    \n",
        "    X_tensor = torch.tensor(X_numpy).float()\n",
        "    y_tensor = torch.tensor(y_numpy).long()\n",
        "    \n",
        "    dataset = TensorDataset(X_tensor, y_tensor)\n",
        "\n",
        "    loader = DataLoader(dataset, batch_size=batch_size,shuffle=True)\n",
        "    \n",
        "    return loader"
      ],
      "execution_count": 23,
      "outputs": []
    },
    {
      "cell_type": "code",
      "metadata": {
        "id": "C6vcXfNEtjLi"
      },
      "source": [
        "from sklearn.model_selection import train_test_split\n",
        "\n",
        "X_plant_train, X_plant_valid, y_plant_train, y_plant_valid = train_test_split(X_plant_train, y_plant_train  , test_size=0.3, stratify=y_plant_train)\n"
      ],
      "execution_count": 51,
      "outputs": []
    },
    {
      "cell_type": "code",
      "metadata": {
        "id": "ShpNPH0yuc6P"
      },
      "source": [
        "X_ratoon_train, X_ratoon_valid, y_ratoon_train, y_ratoon_valid = train_test_split(X_ratoon_train, y_ratoon_train, test_size=0.3, stratify=y_ratoon_train)"
      ],
      "execution_count": 52,
      "outputs": []
    },
    {
      "cell_type": "code",
      "metadata": {
        "id": "TmbOZ_w8gpIO"
      },
      "source": [
        "xtrain_mix = np.concatenate((X_plant_train, X_ratoon_train), axis=0)\n",
        "ytrain_mix = np.concatenate((y_plant_train, y_ratoon_train), axis=0)\n",
        "\n",
        "xvali_mix = np.concatenate((X_plant_valid, X_ratoon_valid), axis=0)\n",
        "yvali_mix = np.concatenate((y_plant_valid, y_ratoon_valid), axis=0)\n",
        "\n",
        "train_loader = Xy_dataloader(xtrain_mix, ytrain_mix, 256)\n",
        "valid_loader = Xy_dataloader(xvali_mix, yvali_mix, 256)\n"
      ],
      "execution_count": 78,
      "outputs": []
    },
    {
      "cell_type": "markdown",
      "metadata": {
        "id": "mdWxRSCxINcN"
      },
      "source": [
        "# original"
      ]
    },
    {
      "cell_type": "code",
      "metadata": {
        "id": "AIfel-xig1s3"
      },
      "source": [
        "import torch\n",
        "from torch import nn"
      ],
      "execution_count": null,
      "outputs": []
    },
    {
      "cell_type": "code",
      "metadata": {
        "id": "SiH5M8JIg2e1"
      },
      "source": [
        "\n",
        "class RNN_lv1(nn.Module):\n",
        "    \n",
        "    def __init__(self, input_dim, hidden_dim, output_dim):\n",
        "        super().__init__()\n",
        "        \n",
        "        self.rnn = nn.LSTM(input_dim, hidden_dim, num_layers=1, batch_first=True)\n",
        "        self.dropout = nn.Dropout(0.5)\n",
        "        self.fc = nn.Linear(hidden_dim, output_dim)\n",
        "        \n",
        "    def forward(self, x):\n",
        "     \n",
        "        \n",
        "        #[batch size, seq len, embed dim]\n",
        "        out, (hn, cn) = self.rnn(x)\n",
        "        x = self.dropout(hn.squeeze(0))\n",
        "        x = self.fc(x)\n",
        "        \n",
        "        return x"
      ],
      "execution_count": null,
      "outputs": []
    },
    {
      "cell_type": "code",
      "metadata": {
        "id": "EpWHXTS70M6F"
      },
      "source": [
        "\n",
        "class CNN_lv2(nn.Module):\n",
        "    \n",
        "    def __init__(self, output_dim):\n",
        "        super().__init__()\n",
        "        \n",
        "        self.conv1 = nn.Sequential(nn.Conv2d(1, 16, (1,3), stride=1, padding='valid'),\n",
        "                                  nn.BatchNorm2d(16),\n",
        "                                  nn.ReLU())\n",
        "        \n",
        "        self.conv2 = nn.Sequential(nn.Conv2d(16, 32, (1,3), stride=1, padding='valid'),\n",
        "                                  nn.BatchNorm2d(32),\n",
        "                                  nn.ReLU(),\n",
        "                                  nn.MaxPool2d(2,2))\n",
        "        \n",
        "        \n",
        "        self.dropout = nn.Dropout(0.5)\n",
        "\n",
        "\n",
        "        self.fc1 = nn.Linear(32*1*10, 1024)\n",
        "        self.fc2 = nn.Linear(1024, output_dim)\n",
        "        \n",
        "    def forward(self, x):\n",
        "     \n",
        "        \n",
        "        #[batch size, seq len, embed dim]\n",
        "        x = self.conv1(x)\n",
        "        x = self.dropout(x)\n",
        "        x = self.conv2(x)\n",
        "        x = self.dropout(x)\n",
        "        # print(x.shape)\n",
        "        x = x.reshape(x.size(0),-1)\n",
        "        x = self.fc1(x)\n",
        "        x = self.fc2(x)\n",
        "\n",
        "        \n",
        "        return x"
      ],
      "execution_count": null,
      "outputs": []
    },
    {
      "cell_type": "code",
      "metadata": {
        "colab": {
          "base_uri": "https://localhost:8080/"
        },
        "id": "641jiCOQg4A-",
        "outputId": "b8a205ac-726a-4611-8513-704d11d928a6"
      },
      "source": [
        "device = torch.device('cuda' if torch.cuda.is_available() else 'cpu')\n",
        "print(device)\n",
        "\n",
        "#make our work comparable if restarted the kernel\n",
        "SEED = 1234\n",
        "torch.manual_seed(SEED)\n",
        "torch.backends.cudnn.deterministic = True"
      ],
      "execution_count": null,
      "outputs": [
        {
          "output_type": "stream",
          "name": "stdout",
          "text": [
            "cuda\n"
          ]
        }
      ]
    },
    {
      "cell_type": "code",
      "metadata": {
        "id": "7T5tfRRWg50O"
      },
      "source": [
        "model_plant = RNN_lv1(3, 512, 24).to(device)\n",
        "model_ratoon = RNN_lv1(3, 512, 24).to(device)"
      ],
      "execution_count": null,
      "outputs": []
    },
    {
      "cell_type": "code",
      "metadata": {
        "id": "6uRhoHdD2x3s"
      },
      "source": [
        "model_plant = CNN_lv2(24).to(device)\n",
        "model_ratoon = CNN_lv2(24).to(device)"
      ],
      "execution_count": null,
      "outputs": []
    },
    {
      "cell_type": "code",
      "metadata": {
        "id": "NukFokYHg6xd"
      },
      "source": [
        "import torch.optim as optim\n",
        "\n",
        "optimizer_plant = optim.Adam(model_plant.parameters(), lr=0.001) #<----changed to Adam\n",
        "criterion_plant = nn.CrossEntropyLoss() #combine sigmoid with binary cross entropy\n",
        "\n",
        "optimizer_ratoon = optim.Adam(model_ratoon.parameters(), lr=0.001) #<----changed to Adam\n",
        "criterion_ratoon = nn.CrossEntropyLoss() #combine sigmoid with binary cross entropy"
      ],
      "execution_count": null,
      "outputs": []
    },
    {
      "cell_type": "code",
      "metadata": {
        "id": "v4wi3Lxyg-Y2"
      },
      "source": [
        "def train_model(model, train_dataloader, valid_dataloader, \n",
        "                epochs, criterion, optimizer, print_epoch=1000):\n",
        "    \n",
        "    loss_train = []\n",
        "    loss_valid = []\n",
        "    acc_train = []\n",
        "    acc_valid = []\n",
        "    \n",
        "    for i in range(1, epochs+1):\n",
        "        \n",
        "        # ===================TRAIN ======================\n",
        "        model.train()\n",
        "        \n",
        "        epoch_loss = 0\n",
        "        correct = 0\n",
        "        \n",
        "        for x, y in train_dataloader:\n",
        "            \n",
        "            x = x.to(device)\n",
        "            y = y.to(device)\n",
        "            \n",
        "            out = model(x)\n",
        "            \n",
        "            loss = criterion(out, y)\n",
        "            \n",
        "            _,pred = torch.max(out, 1)\n",
        "            \n",
        "            correct += (pred == y).to('cpu').float().sum()\n",
        "            \n",
        "            epoch_loss += loss.item()\n",
        "            \n",
        "            #backprop\n",
        "            optimizer.zero_grad()\n",
        "            loss.backward()\n",
        "            optimizer.step()\n",
        "        \n",
        "        acc_train.append(100 * correct / len(train_dataloader.dataset))\n",
        "        loss_train.append(epoch_loss/len(train_dataloader))\n",
        "        # loss_train.append(epoch_loss)\n",
        "        \n",
        "        # ===================VALIDATION =================\n",
        "        model.eval()\n",
        "    \n",
        "        epoch_loss = 0\n",
        "        correct = 0\n",
        "        \n",
        "        for x, y in valid_dataloader:\n",
        "            \n",
        "            x = x.to(device)\n",
        "            y = y.to(device)\n",
        "            \n",
        "            out = model(x)\n",
        "            \n",
        "            loss = criterion(out, y)\n",
        "            \n",
        "            _,pred = torch.max(out, 1)\n",
        "            \n",
        "            correct += (pred == y).to('cpu').float().sum()\n",
        "            \n",
        "            epoch_loss += loss.item()\n",
        "        \n",
        "        acc_valid.append(100 * correct / len(valid_dataloader.dataset))\n",
        "        loss_valid.append(epoch_loss/len(valid_dataloader))\n",
        "        # loss_valid.append(epoch_loss)\n",
        "        \n",
        "        # ================= PRINT ===========================\n",
        "        if i % print_epoch == 0 :\n",
        "            clear_output(wait=True)\n",
        "            print(f'epoch {i}/{epochs} train loss: {np.round(loss_train[-1],5)} train acc: {np.round(acc_train[-1],5)} validation loss: {np.round(loss_valid[-1],5)} validation acc: {np.round(acc_valid[-1],5)}')\n",
        "            plt.plot(loss_train, label='train')\n",
        "            plt.plot(loss_valid, label='test')\n",
        "            plt.title('Loss during Training')\n",
        "            plt.xlabel('epoch')\n",
        "            plt.ylabel('loss')\n",
        "            plt.legend()\n",
        "            plt.show()\n",
        "\n",
        "            plt.plot(acc_train, label='train')\n",
        "            plt.plot(acc_valid, label='test')\n",
        "            plt.title('Accuracy during Training')\n",
        "            plt.xlabel('epoch')\n",
        "            plt.ylabel('accuracy')\n",
        "            plt.legend()\n",
        "            plt.show()    \n",
        "            \n",
        "    return model, loss_train, loss_valid, acc_train, acc_valid\n",
        "            "
      ],
      "execution_count": null,
      "outputs": []
    },
    {
      "cell_type": "code",
      "metadata": {
        "colab": {
          "base_uri": "https://localhost:8080/",
          "height": 610
        },
        "id": "5Ah2JwhFhBum",
        "outputId": "2d5f7daf-fff8-41ff-ee25-2f91bdf93f88"
      },
      "source": [
        "model_plant, loss_train_plant, loss_valid_plant, acc_train_plant, acc_valid_plant = train_model(model_plant, plant_train_loader, plant_valid_loader, 200, criterion_plant, optimizer_plant, 1)"
      ],
      "execution_count": null,
      "outputs": [
        {
          "output_type": "stream",
          "name": "stdout",
          "text": [
            "epoch 200/200 train loss: 1.13984 train acc: 54.68901824951172 validation loss: 1.18687 validation acc: 52.806121826171875\n"
          ]
        },
        {
          "output_type": "display_data",
          "data": {
            "image/png": "[encoded data removed]",
            "text/plain": [
              "<Figure size 432x288 with 1 Axes>"
            ]
          },
          "metadata": {
            "needs_background": "light"
          }
        },
        {
          "output_type": "display_data",
          "data": {
            "image/png": "[encoded data removed]",
            "text/plain": [
              "<Figure size 432x288 with 1 Axes>"
            ]
          },
          "metadata": {
            "needs_background": "light"
          }
        }
      ]
    },
    {
      "cell_type": "code",
      "metadata": {
        "colab": {
          "base_uri": "https://localhost:8080/",
          "height": 610
        },
        "id": "WOGHKTAewhuX",
        "outputId": "3dbc9762-a6d9-41bb-b22a-3ff279a591a9"
      },
      "source": [
        "model_ratoon, loss_train_ratoon, loss_valid_ratoon, acc_train_ratoon, acc_valid_ratoon = train_model(model_ratoon, ratoon_train_loader, ratoon_valid_loader, 200, criterion_ratoon, optimizer_ratoon, 1)"
      ],
      "execution_count": null,
      "outputs": [
        {
          "output_type": "stream",
          "name": "stdout",
          "text": [
            "epoch 200/200 train loss: 1.17309 train acc: 50.0041618347168 validation loss: 1.16544 validation acc: 50.369361877441406\n"
          ]
        },
        {
          "output_type": "display_data",
          "data": {
            "image/png": "[encoded data removed]",
            "text/plain": [
              "<Figure size 432x288 with 1 Axes>"
            ]
          },
          "metadata": {
            "needs_background": "light"
          }
        },
        {
          "output_type": "display_data",
          "data": {
            "image/png": "[encoded data removed]",
            "text/plain": [
              "<Figure size 432x288 with 1 Axes>"
            ]
          },
          "metadata": {
            "needs_background": "light"
          }
        }
      ]
    },
    {
      "cell_type": "code",
      "metadata": {
        "id": "KpIiF6RVvpDA"
      },
      "source": [
        ""
      ],
      "execution_count": null,
      "outputs": []
    },
    {
      "cell_type": "code",
      "metadata": {
        "id": "nBiwzxf_hGa2"
      },
      "source": [
        "def predict_model(model, X_test):\n",
        "    \n",
        "    model.eval()\n",
        "    \n",
        "    x = torch.tensor(X_test).float()\n",
        "    \n",
        "    x = x.to(device)\n",
        "            \n",
        "    out = model(x).to('cpu')\n",
        "    \n",
        "    pred = torch.max(out, 1)[1].numpy()\n",
        "    \n",
        "    return pred"
      ],
      "execution_count": null,
      "outputs": []
    },
    {
      "cell_type": "code",
      "metadata": {
        "id": "FtYp2Eg3i1nm"
      },
      "source": [
        "y_pred_plant = predict_model(model_plant, X_plant_valid)\n",
        "y_pred_ratoon = predict_model(model_ratoon, X_ratoon_valid)"
      ],
      "execution_count": null,
      "outputs": []
    },
    {
      "cell_type": "code",
      "metadata": {
        "colab": {
          "base_uri": "https://localhost:8080/"
        },
        "id": "0HcOktZ4i3HO",
        "outputId": "59d7f960-05ca-42ca-8390-75cb2108fe03"
      },
      "source": [
        "from sklearn.metrics import classification_report\n",
        "\n",
        "print(classification_report(y_ratoon_valid, y_pred_ratoon))\n",
        "print(classification_report(y_plant_valid, y_pred_plant))"
      ],
      "execution_count": null,
      "outputs": [
        {
          "output_type": "stream",
          "name": "stdout",
          "text": [
            "              precision    recall  f1-score   support\n",
            "\n",
            "           0       0.52      0.75      0.61       571\n",
            "           1       0.37      0.58      0.45       571\n",
            "           2       0.42      0.35      0.38       572\n",
            "           3       0.55      0.05      0.09       572\n",
            "           4       0.34      0.32      0.33       571\n",
            "           5       0.36      0.26      0.30       572\n",
            "           6       0.67      0.24      0.35       571\n",
            "           7       0.62      1.00      0.76       572\n",
            "          23       0.70      1.00      0.82       572\n",
            "\n",
            "    accuracy                           0.50      5144\n",
            "   macro avg       0.50      0.50      0.45      5144\n",
            "weighted avg       0.50      0.50      0.45      5144\n",
            "\n",
            "              precision    recall  f1-score   support\n",
            "\n",
            "           0       0.39      0.50      0.44       294\n",
            "           1       0.33      0.49      0.39       294\n",
            "           2       0.25      0.11      0.15       294\n",
            "           3       0.21      0.17      0.19       294\n",
            "           4       0.45      0.03      0.06       294\n",
            "           5       0.31      0.20      0.24       294\n",
            "           6       0.58      0.27      0.37       294\n",
            "           7       0.49      1.00      0.66       294\n",
            "          20       0.98      1.00      0.99       294\n",
            "          21       0.93      0.98      0.96       294\n",
            "          22       0.60      0.98      0.75       294\n",
            "          23       0.56      0.61      0.58       294\n",
            "\n",
            "    accuracy                           0.53      3528\n",
            "   macro avg       0.51      0.53      0.48      3528\n",
            "weighted avg       0.51      0.53      0.48      3528\n",
            "\n"
          ]
        }
      ]
    },
    {
      "cell_type": "code",
      "metadata": {
        "id": "YPz0ENHTi6Hn"
      },
      "source": [
        "from sklearn.metrics import confusion_matrix\n",
        "\n",
        "cf_matrix_plant = confusion_matrix(y_plant_valid, y_pred_plant)\n",
        "cf_matrix_ratoon = confusion_matrix(y_ratoon_valid, y_pred_ratoon)"
      ],
      "execution_count": null,
      "outputs": []
    },
    {
      "cell_type": "code",
      "metadata": {
        "colab": {
          "base_uri": "https://localhost:8080/",
          "height": 282
        },
        "id": "ASwPUp2lyqb0",
        "outputId": "091fbb52-ce0c-46af-878b-a54d2a79e650"
      },
      "source": [
        "import seaborn as sns\n",
        "sns.heatmap(cf_matrix_plant, annot=True)\n"
      ],
      "execution_count": null,
      "outputs": [
        {
          "output_type": "execute_result",
          "data": {
            "text/plain": [
              "<matplotlib.axes._subplots.AxesSubplot at 0x7f74dd9c9910>"
            ]
          },
          "metadata": {},
          "execution_count": 171
        },
        {
          "output_type": "display_data",
          "data": {
            "image/png": "[encoded data removed]",
            "text/plain": [
              "<Figure size 432x288 with 2 Axes>"
            ]
          },
          "metadata": {
            "needs_background": "light"
          }
        }
      ]
    },
    {
      "cell_type": "code",
      "metadata": {
        "colab": {
          "base_uri": "https://localhost:8080/",
          "height": 282
        },
        "id": "QzglZc9JywLb",
        "outputId": "dba6956f-0d38-42bc-b7c5-313bf80346a1"
      },
      "source": [
        "sns.heatmap(cf_matrix_ratoon, annot=True)"
      ],
      "execution_count": null,
      "outputs": [
        {
          "output_type": "execute_result",
          "data": {
            "text/plain": [
              "<matplotlib.axes._subplots.AxesSubplot at 0x7f74de3365d0>"
            ]
          },
          "metadata": {},
          "execution_count": 172
        },
        {
          "output_type": "display_data",
          "data": {
            "image/png": "[encoded data removed]",
            "text/plain": [
              "<Figure size 432x288 with 2 Axes>"
            ]
          },
          "metadata": {
            "needs_background": "light"
          }
        }
      ]
    },
    {
      "cell_type": "code",
      "metadata": {
        "id": "oSUHwU9Hyya8"
      },
      "source": [
        "drive.flush_and_unmount()"
      ],
      "execution_count": null,
      "outputs": []
    },
    {
      "cell_type": "code",
      "metadata": {
        "id": "0UnOfvbbA4HS"
      },
      "source": [
        ""
      ],
      "execution_count": null,
      "outputs": []
    },
    {
      "cell_type": "markdown",
      "metadata": {
        "id": "a5qEbbKgJWZQ"
      },
      "source": [
        "# Conv1D -> LSTM"
      ]
    },
    {
      "cell_type": "code",
      "metadata": {
        "id": "M1Z8xYvLJZ2R"
      },
      "source": [
        "hidden_dim = 18\n",
        "embed_dim = 8\n",
        "output_dim = 3 #len(np.unique(y_plant_train))\n",
        "num_layers = 1\n",
        "bidirectional = True\n",
        "dropout = 0.5\n",
        "\n",
        "num_epochs = 500\n",
        "lr = 0.0001"
      ],
      "execution_count": 79,
      "outputs": []
    },
    {
      "cell_type": "code",
      "metadata": {
        "id": "iLu-alQzRydR"
      },
      "source": [
        "import torch\n",
        "from torch import nn\n",
        "class con1dlstm(nn.Module):\n",
        "    def __init__(self):\n",
        "        super().__init__()\n",
        "               \n",
        "        self.layer1 = nn.Sequential(\n",
        "            nn.Conv1d(3, 9, 3, stride=2),\n",
        "            nn.ReLU(),\n",
        "            nn.Dropout(p=0.1))      \n",
        "        self.lstm = nn.LSTM(embed_dim, hidden_dim, num_layers=num_layers,\n",
        "                    bidirectional=bidirectional, \n",
        "                    dropout=dropout,\n",
        "                    batch_first=True)\n",
        "        self.fc = nn.Linear(hidden_dim*2, output_dim)   \n",
        "    \n",
        "    \n",
        "    def forward(self, x):\n",
        "        out0 = self.layer1(x)    \n",
        "        out,(hn, cn) = self.lstm(out0)\n",
        "        hn = torch.cat((hn[-2,:,:], hn[-1,:,:]), dim = 1)\n",
        "        \n",
        "        return self.fc(hn)"
      ],
      "execution_count": 80,
      "outputs": []
    },
    {
      "cell_type": "code",
      "metadata": {
        "id": "S8hqfvy_Td9e"
      },
      "source": [
        "def initialize_weights(m):\n",
        "    if isinstance(m, nn.Linear):\n",
        "        nn.init.xavier_normal_(m.weight)\n",
        "        nn.init.zeros_(m.bias)\n",
        "    elif isinstance(m, nn.RNN):\n",
        "        for name, param in m.named_parameters():\n",
        "            if 'bias' in name:\n",
        "                nn.init.zeros_(param)\n",
        "            elif 'weight' in name:\n",
        "                nn.init.orthogonal_(param) #<---here"
      ],
      "execution_count": 81,
      "outputs": []
    },
    {
      "cell_type": "code",
      "metadata": {
        "colab": {
          "base_uri": "https://localhost:8080/"
        },
        "id": "Px_3-UQYJZ6s",
        "outputId": "2238e7e5-ebb2-4df9-9aec-308d2c3b9d83"
      },
      "source": [
        "model = con1dlstm().float()\n",
        "model.apply(initialize_weights)"
      ],
      "execution_count": 82,
      "outputs": [
        {
          "output_type": "stream",
          "name": "stderr",
          "text": [
            "/usr/local/lib/python3.7/dist-packages/torch/nn/modules/rnn.py:65: UserWarning: dropout option adds dropout after all but last recurrent layer, so non-zero dropout expects num_layers greater than 1, but got dropout=0.5 and num_layers=1\n",
            "  \"num_layers={}\".format(dropout, num_layers))\n"
          ]
        },
        {
          "output_type": "execute_result",
          "data": {
            "text/plain": [
              "con1dlstm(\n",
              "  (layer1): Sequential(\n",
              "    (0): Conv1d(3, 9, kernel_size=(3,), stride=(2,))\n",
              "    (1): ReLU()\n",
              "    (2): Dropout(p=0.1, inplace=False)\n",
              "  )\n",
              "  (lstm): LSTM(8, 18, batch_first=True, dropout=0.5, bidirectional=True)\n",
              "  (fc): Linear(in_features=36, out_features=3, bias=True)\n",
              ")"
            ]
          },
          "metadata": {},
          "execution_count": 82
        }
      ]
    },
    {
      "cell_type": "code",
      "metadata": {
        "id": "6EejABPsMyNx"
      },
      "source": [
        "import torch.optim as optim\n",
        "\n",
        "optimizer = optim.Adam(model.parameters(), lr=lr) #<----changed to Adam\n",
        "#optimizer = optim.RMSprop(model.parameters(), lr=lr)\n",
        "\n",
        "#criterion = nn.BCEWithLogitsLoss() #combine sigmoid with binary cross entropy\n",
        "criterion = nn.CrossEntropyLoss()\n",
        "#criterion = nn.MSELoss()"
      ],
      "execution_count": 83,
      "outputs": []
    },
    {
      "cell_type": "code",
      "metadata": {
        "id": "KV4lDWJZTufm"
      },
      "source": [
        "def cnn_acc(preds,y):\n",
        "    _, predicted = torch.max(preds.data, 1)\n",
        "    correct = (predicted == y).float().sum()\n",
        "    acc = correct / y.size(0)\n",
        "    return acc"
      ],
      "execution_count": 84,
      "outputs": []
    },
    {
      "cell_type": "code",
      "metadata": {
        "id": "Fq7_uDTxTuhw"
      },
      "source": [
        "def train(model, loader, optimizer, criterion):\n",
        "    epoch_loss = 0\n",
        "    epoch_acc = 0\n",
        "    model.train() #useful for batchnorm and dropout\n",
        "    for i, (features, label) in enumerate(loader): \n",
        "                \n",
        "        #predict\n",
        "        predictions = model(features)\n",
        "        #calculate loss\n",
        "        loss = criterion(predictions, label)\n",
        "        acc = cnn_acc(predictions, label)\n",
        "        \n",
        "        #backprop\n",
        "        optimizer.zero_grad()\n",
        "        loss.backward()\n",
        "        optimizer.step()\n",
        "        \n",
        "        epoch_loss += loss.item()\n",
        "        epoch_acc += acc.item()\n",
        "                \n",
        "    return epoch_loss / len(loader), epoch_acc / len(loader)"
      ],
      "execution_count": 85,
      "outputs": []
    },
    {
      "cell_type": "code",
      "metadata": {
        "id": "UuM9iVA-TujP"
      },
      "source": [
        "def evaluate(model, loader, criterion):\n",
        "    epoch_loss = 0\n",
        "    epoch_acc = 0\n",
        "    model.eval()\n",
        "    \n",
        "    with torch.no_grad():\n",
        "        for i, (features, label) in enumerate(loader): \n",
        "\n",
        "\n",
        "            predictions = model(features)\n",
        "            \n",
        "            loss = criterion(predictions, label)\n",
        "            acc = cnn_acc(predictions, label)\n",
        "\n",
        "            epoch_loss += loss.item()\n",
        "            epoch_acc += acc.item()\n",
        "        \n",
        "    return epoch_loss / len(loader), epoch_acc / len(loader)"
      ],
      "execution_count": 86,
      "outputs": []
    },
    {
      "cell_type": "code",
      "metadata": {
        "colab": {
          "base_uri": "https://localhost:8080/"
        },
        "id": "6EUZTW0bUT3W",
        "outputId": "f86dbe73-8741-45f6-cba2-a2b0559e1d41"
      },
      "source": [
        "best_valid_loss = float('inf')\n",
        "\n",
        "train_losses = []\n",
        "train_accs = []\n",
        "valid_losses = []\n",
        "valid_accs = []\n",
        "for epoch in range(num_epochs):\n",
        "\n",
        "    train_loss,train_acc = train(model, plant_train_loader, optimizer , criterion)\n",
        "    valid_loss,valid_acc = evaluate(model, plant_valid_loader, criterion)\n",
        "    \n",
        "    #for plotting\n",
        "    train_losses.append(train_loss)\n",
        "    train_accs.append(train_acc)\n",
        "    valid_losses.append(valid_loss)\n",
        "    valid_accs.append(valid_acc)\n",
        "    \n",
        "    if valid_loss < best_valid_loss:\n",
        "        best_valid_loss = valid_loss\n",
        "        torch.save(model.state_dict(),'tensor.pt')\n",
        "    \n",
        "    if epoch%50 == 0:\n",
        "        print(f'Epoch: {epoch+1:02} | Train Loss: {train_loss:.3f} | Train Acc: {train_acc*100:.2f}%')\n",
        "        print(f'\\t Val. Loss: {valid_loss:.3f} |  Val. Acc: {valid_acc*100:.2f}%')"
      ],
      "execution_count": 87,
      "outputs": [
        {
          "output_type": "stream",
          "name": "stdout",
          "text": [
            "Epoch: 01 | Train Loss: 1.101 | Train Acc: 27.15%\n",
            "\t Val. Loss: 1.098 |  Val. Acc: 27.13%\n",
            "Epoch: 51 | Train Loss: 0.535 | Train Acc: 74.75%\n",
            "\t Val. Loss: 0.507 |  Val. Acc: 76.52%\n",
            "Epoch: 101 | Train Loss: 0.496 | Train Acc: 76.77%\n",
            "\t Val. Loss: 0.478 |  Val. Acc: 77.91%\n",
            "Epoch: 151 | Train Loss: 0.473 | Train Acc: 78.00%\n",
            "\t Val. Loss: 0.464 |  Val. Acc: 77.84%\n",
            "Epoch: 201 | Train Loss: 0.458 | Train Acc: 78.24%\n",
            "\t Val. Loss: 0.453 |  Val. Acc: 78.33%\n",
            "Epoch: 251 | Train Loss: 0.455 | Train Acc: 78.75%\n",
            "\t Val. Loss: 0.448 |  Val. Acc: 79.63%\n",
            "Epoch: 301 | Train Loss: 0.452 | Train Acc: 78.49%\n",
            "\t Val. Loss: 0.443 |  Val. Acc: 79.38%\n",
            "Epoch: 351 | Train Loss: 0.446 | Train Acc: 79.01%\n",
            "\t Val. Loss: 0.441 |  Val. Acc: 79.57%\n",
            "Epoch: 401 | Train Loss: 0.446 | Train Acc: 78.81%\n",
            "\t Val. Loss: 0.446 |  Val. Acc: 79.10%\n",
            "Epoch: 451 | Train Loss: 0.442 | Train Acc: 79.26%\n",
            "\t Val. Loss: 0.439 |  Val. Acc: 79.82%\n"
          ]
        }
      ]
    },
    {
      "cell_type": "code",
      "metadata": {
        "colab": {
          "base_uri": "https://localhost:8080/",
          "height": 406
        },
        "id": "FsTdjsSGUW3Z",
        "outputId": "222fc69b-6664-48c0-ae64-7fda9d603e43"
      },
      "source": [
        "import matplotlib.pyplot as plt\n",
        "fig = plt.figure(figsize=(10, 6))\n",
        "ax = fig.add_subplot(1, 1, 1)\n",
        "ax.plot(train_losses, label = 'train loss')\n",
        "ax.plot(valid_losses, label = 'valid loss')\n",
        "plt.legend()\n",
        "ax.set_xlabel('updates')\n",
        "ax.set_ylabel('loss')"
      ],
      "execution_count": 88,
      "outputs": [
        {
          "output_type": "execute_result",
          "data": {
            "text/plain": [
              "Text(0, 0.5, 'loss')"
            ]
          },
          "metadata": {},
          "execution_count": 88
        },
        {
          "output_type": "display_data",
          "data": {
            "image/png": "[encoded data removed]",
            "text/plain": [
              "<Figure size 720x432 with 1 Axes>"
            ]
          },
          "metadata": {
            "needs_background": "light"
          }
        }
      ]
    },
    {
      "cell_type": "code",
      "metadata": {
        "colab": {
          "base_uri": "https://localhost:8080/",
          "height": 406
        },
        "id": "QwERJy5rUXYn",
        "outputId": "eee11711-69a2-4861-b175-fb03d49a54ab"
      },
      "source": [
        "fig = plt.figure(figsize=(10, 6))\n",
        "ax = fig.add_subplot(1, 1, 1)\n",
        "ax.plot(train_accs, label = 'train acc')\n",
        "ax.plot(valid_accs, label = 'valid acc')\n",
        "plt.legend()\n",
        "ax.set_xlabel('updates')\n",
        "ax.set_ylabel('acc')"
      ],
      "execution_count": 89,
      "outputs": [
        {
          "output_type": "execute_result",
          "data": {
            "text/plain": [
              "Text(0, 0.5, 'acc')"
            ]
          },
          "metadata": {},
          "execution_count": 89
        },
        {
          "output_type": "display_data",
          "data": {
            "image/png": "[encoded data removed]",
            "text/plain": [
              "<Figure size 720x432 with 1 Axes>"
            ]
          },
          "metadata": {
            "needs_background": "light"
          }
        }
      ]
    }
  ]
}