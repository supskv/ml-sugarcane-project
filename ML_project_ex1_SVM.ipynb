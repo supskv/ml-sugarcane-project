{
  "cells": [
    {
      "cell_type": "code",
      "execution_count": 1,
      "id": "475e82fa-85bb-46c6-8cea-c33a1b29322d",
      "metadata": {
        "colab": {
          "base_uri": "https://localhost:8080/"
        },
        "id": "475e82fa-85bb-46c6-8cea-c33a1b29322d",
        "outputId": "f5475a1f-c28a-4a0b-fa23-46889c29edbf"
      },
      "outputs": [
        {
          "output_type": "stream",
          "name": "stdout",
          "text": [
            "Drive already mounted at /content/drive; to attempt to forcibly remount, call drive.mount(\"/content/drive\", force_remount=True).\n"
          ]
        }
      ],
      "source": [
        "import pandas as pd\n",
        "import numpy as np\n",
        "from copy import copy\n",
        "import torch\n",
        "import matplotlib.pyplot as plt\n",
        "from google.colab import drive\n",
        "from IPython.display import clear_output\n",
        "drive.mount('/content/drive')"
      ]
    },
    {
      "cell_type": "code",
      "execution_count": 2,
      "id": "8d18b972-8431-49cf-8c97-9b3e240403a5",
      "metadata": {
        "id": "8d18b972-8431-49cf-8c97-9b3e240403a5"
      },
      "outputs": [],
      "source": [
        "def file_to_data(filename):\n",
        "    \n",
        "    # read file\n",
        "    raw = pd.read_csv(filename)\n",
        "    \n",
        "    # define columns to be extracted\n",
        "    ndvi_col = ['ndvi_mean'+str(i) for i in range(1, 24+1)] # ndvi_mean1, ..., ndvi_mean24\n",
        "    savi_col = ['ndvi_mean'+str(i) for i in range(1, 24+1)] # ndvi_mean1, ..., savi_mean24\n",
        "    evi_col = ['ndvi_mean'+str(i) for i in range(1, 24+1)] # ndvi_mean1, ..., evi_mean24\n",
        "\n",
        "    # extract each feature\n",
        "    ndvi_timeseries = raw[ndvi_col]\n",
        "    savi_timeseries = raw[savi_col]\n",
        "    evi_timeseries = raw[evi_col]\n",
        "    \n",
        "    # dimension stack\n",
        "    data = np.dstack([ndvi_timeseries, savi_timeseries, evi_timeseries])\n",
        "    \n",
        "    # get only label\n",
        "    label = raw.iloc[:, -1]\n",
        "    \n",
        "    return data, label\n",
        "\n",
        "def data_to_lv1_x_y(data, labels):\n",
        "    \n",
        "    # export all X\n",
        "    # but reclass the plant cane -> 100, ratoon cane -> 200\n",
        "    target = copy(labels)\n",
        "    target[target > 200] = 200\n",
        "    target[(target < 200) & (target > 100)] = 100\n",
        "    \n",
        "    return data, target\n",
        "\n",
        "def data_to_lv2_x_y(data, target):\n",
        "    \n",
        "    # export X plant which labels are 100-200\n",
        "    X_plant = data[(target > 100) & (target <200)]\n",
        "    \n",
        "    # export X ratoon which labels are >200\n",
        "    X_ratoon = data[target > 200]\n",
        "    \n",
        "    # export y plant which labels are 100-200\n",
        "    y_plant = target[(target > 100) & (target < 200)]\n",
        "    \n",
        "    # export y ratoon which labels are >200\n",
        "    y_ratoon = target[target > 200]\n",
        "    \n",
        "    return X_plant, y_plant, X_ratoon, y_ratoon\n",
        "\n",
        "def label_encode(y):\n",
        "    \n",
        "    target = copy(y)\n",
        "    # redefine the cane plantation label to be 1 - 24\n",
        "    new_y = [int(str(label)[1:]) for label in target]\n",
        "    \n",
        "    return np.array(new_y)"
      ]
    },
    {
      "cell_type": "code",
      "execution_count": 3,
      "id": "598462c7-c185-4dcf-acef-7d143a933bd4",
      "metadata": {
        "id": "598462c7-c185-4dcf-acef-7d143a933bd4"
      },
      "outputs": [],
      "source": [
        "data_train, labels_train = file_to_data('/content/drive/MyDrive/AIT/ML/training_data_1718.csv')\n",
        "data_test, labels_test = file_to_data('/content/drive/MyDrive/AIT/ML/training_data_1819.csv')"
      ]
    },
    {
      "cell_type": "code",
      "execution_count": 4,
      "id": "0a630b33-a4e9-4384-b931-c5ecbc2ae6d2",
      "metadata": {
        "id": "0a630b33-a4e9-4384-b931-c5ecbc2ae6d2"
      },
      "outputs": [],
      "source": [
        "X_train, y_train = data_to_lv1_x_y(data_train, labels_train)\n",
        "X_test, y_test = data_to_lv1_x_y(data_test, labels_test)"
      ]
    },
    {
      "cell_type": "code",
      "execution_count": 5,
      "id": "68593010-8365-48ef-84c9-fc1ae712d3a5",
      "metadata": {
        "id": "68593010-8365-48ef-84c9-fc1ae712d3a5"
      },
      "outputs": [],
      "source": [
        "from sklearn.preprocessing import LabelEncoder\n",
        "\n",
        "lu_encoder = LabelEncoder()\n",
        "\n",
        "y_train = lu_encoder.fit_transform(y_train)\n",
        "y_test = lu_encoder.transform(y_test)"
      ]
    },
    {
      "cell_type": "code",
      "execution_count": 6,
      "id": "b9fac3ee-e430-472e-8aba-abedc6160a90",
      "metadata": {
        "colab": {
          "base_uri": "https://localhost:8080/"
        },
        "id": "b9fac3ee-e430-472e-8aba-abedc6160a90",
        "outputId": "d9f7a5f1-64e8-4d3f-b1e8-20822a02ff8c"
      },
      "outputs": [
        {
          "output_type": "stream",
          "name": "stdout",
          "text": [
            "numeric class of y train: [ 0  1  2  3  4  5  6  7  8  9 10 11]\n",
            "numeric class of y test: [ 0  1  2  3  4  5  6  7  8  9 10 11]\n"
          ]
        }
      ],
      "source": [
        "print(f'numeric class of y train: {np.unique(y_train)}')\n",
        "print(f'numeric class of y test: {np.unique(y_test)}')"
      ]
    },
    {
      "cell_type": "code",
      "execution_count": 7,
      "id": "f8db4f97-9523-46a6-a61d-4df974029ca3",
      "metadata": {
        "id": "f8db4f97-9523-46a6-a61d-4df974029ca3"
      },
      "outputs": [],
      "source": [
        "y_train[y_train>9] = 10\n",
        "y_test[y_test > 9] = 10"
      ]
    },
    {
      "cell_type": "code",
      "execution_count": 8,
      "id": "757ddd0d-e3c8-43fa-9c3c-e086041a5a44",
      "metadata": {
        "colab": {
          "base_uri": "https://localhost:8080/"
        },
        "id": "757ddd0d-e3c8-43fa-9c3c-e086041a5a44",
        "outputId": "d4189a51-dc54-4ccb-cc61-d8b33409d923"
      },
      "outputs": [
        {
          "output_type": "stream",
          "name": "stdout",
          "text": [
            "numeric class of y train: [ 0  1  2  3  4  5  6  7  8  9 10]\n",
            "numeric class of y test: [ 0  1  2  3  4  5  6  7  8  9 10]\n"
          ]
        }
      ],
      "source": [
        "print(f'numeric class of y train: {np.unique(y_train)}')\n",
        "print(f'numeric class of y test: {np.unique(y_test)}')"
      ]
    },
    {
      "cell_type": "code",
      "execution_count": 9,
      "id": "fa5d4d09-be16-43fc-a772-909590b5e944",
      "metadata": {
        "id": "fa5d4d09-be16-43fc-a772-909590b5e944"
      },
      "outputs": [],
      "source": [
        "from imblearn.over_sampling import RandomOverSampler\n",
        "from imblearn.under_sampling import RandomUnderSampler\n",
        "from collections import Counter"
      ]
    },
    {
      "cell_type": "code",
      "execution_count": 10,
      "id": "c1f5d97c-7db2-44f3-824d-d8cd68c0828f",
      "metadata": {
        "colab": {
          "base_uri": "https://localhost:8080/"
        },
        "id": "c1f5d97c-7db2-44f3-824d-d8cd68c0828f",
        "outputId": "985b5f8c-c5ef-4bbb-ce35-838de8a812c1"
      },
      "outputs": [
        {
          "output_type": "stream",
          "name": "stdout",
          "text": [
            "Counter({10: 12367, 0: 118, 1: 92, 2: 85, 4: 30, 5: 30, 7: 30, 9: 30, 8: 30, 3: 26, 6: 22})\n"
          ]
        }
      ],
      "source": [
        "shape = X_train.shape\n",
        "print(Counter(y_train))"
      ]
    },
    {
      "cell_type": "code",
      "execution_count": 11,
      "id": "d378a983-020c-417d-9602-9e1f59c994b9",
      "metadata": {
        "colab": {
          "base_uri": "https://localhost:8080/"
        },
        "id": "d378a983-020c-417d-9602-9e1f59c994b9",
        "outputId": "6f712e0a-32b7-4196-abc6-d373fdad4f87"
      },
      "outputs": [
        {
          "output_type": "execute_result",
          "data": {
            "text/plain": [
              "(12860, 72)"
            ]
          },
          "metadata": {},
          "execution_count": 11
        }
      ],
      "source": [
        "X_train = X_train.reshape(X_train.shape[0], -1)\n",
        "X_train.shape"
      ]
    },
    {
      "cell_type": "code",
      "execution_count": 12,
      "id": "1b3a4618-0ddf-4154-ac98-bcd32bad12de",
      "metadata": {
        "colab": {
          "base_uri": "https://localhost:8080/"
        },
        "id": "1b3a4618-0ddf-4154-ac98-bcd32bad12de",
        "outputId": "ffdff915-1899-4cd8-aa9d-6d98c3cc0f90"
      },
      "outputs": [
        {
          "output_type": "stream",
          "name": "stdout",
          "text": [
            "after oversampled-> X shape: (136037, 72)\n"
          ]
        }
      ],
      "source": [
        "# instantiating the random over sampler \n",
        "ros = RandomOverSampler()\n",
        "# resampling X, y\n",
        "X_train, y_train = ros.fit_resample(X_train, y_train)\n",
        "\n",
        "print(f'after oversampled-> X shape: {X_train.shape}')"
      ]
    },
    {
      "cell_type": "code",
      "execution_count": 13,
      "id": "d2abb46a-de66-486f-8ab5-2dc0d96b0497",
      "metadata": {
        "colab": {
          "base_uri": "https://localhost:8080/"
        },
        "id": "d2abb46a-de66-486f-8ab5-2dc0d96b0497",
        "outputId": "ea09c27f-e2f2-4c70-ec63-0ca1365a1030"
      },
      "outputs": [
        {
          "output_type": "execute_result",
          "data": {
            "text/plain": [
              "(136037, 24, 3)"
            ]
          },
          "metadata": {},
          "execution_count": 13
        }
      ],
      "source": [
        "X_train = X_train.reshape(X_train.shape[0], 24,3)\n",
        "X_train.shape"
      ]
    },
    {
      "cell_type": "code",
      "execution_count": 14,
      "id": "6a7b4195-2470-4c03-ba99-4a129808d191",
      "metadata": {
        "id": "6a7b4195-2470-4c03-ba99-4a129808d191"
      },
      "outputs": [],
      "source": [
        "from sklearn.model_selection import train_test_split\n",
        "X_train, X_valid, y_train, y_valid = train_test_split(X_train, y_train  , test_size=0.3)"
      ]
    },
    {
      "cell_type": "code",
      "execution_count": 15,
      "id": "639762a8-ba12-4589-ba8c-036b4b54fea0",
      "metadata": {
        "id": "639762a8-ba12-4589-ba8c-036b4b54fea0"
      },
      "outputs": [],
      "source": [
        "X_train_ndvi = X_train[:,0,:]\n",
        "X_valid_ndvi = X_valid[:,0,:]\n",
        "X_train_savi = X_train[:,1,:]\n",
        "X_valid_savi = X_valid[:,1,:]\n",
        "X_train_evi = X_train[:,2,:]\n",
        "X_valid_evi = X_valid[:,2,:]"
      ]
    },
    {
      "cell_type": "code",
      "execution_count": 16,
      "id": "95f35ef9-73e7-4d43-8e94-6630c33175ab",
      "metadata": {
        "colab": {
          "base_uri": "https://localhost:8080/"
        },
        "id": "95f35ef9-73e7-4d43-8e94-6630c33175ab",
        "outputId": "ef792f42-8519-4f97-db0f-25f436c67a38"
      },
      "outputs": [
        {
          "output_type": "stream",
          "name": "stderr",
          "text": [
            "/usr/local/lib/python3.7/dist-packages/sklearn/svm/_base.py:289: ConvergenceWarning: Solver terminated early (max_iter=1000).  Consider pre-processing your data with StandardScaler or MinMaxScaler.\n",
            "  ConvergenceWarning,\n"
          ]
        },
        {
          "output_type": "stream",
          "name": "stdout",
          "text": [
            "=========Classification report=======\n",
            "Report:                precision    recall  f1-score   support\n",
            "\n",
            "           0       0.96      1.00      0.98      3751\n",
            "           1       0.00      0.00      0.00      3682\n",
            "           2       0.00      0.00      0.00      3636\n",
            "           3       0.00      0.00      0.00      3758\n",
            "           4       0.00      0.00      0.00      3733\n",
            "           5       0.00      0.00      0.00      3755\n",
            "           6       1.00      0.05      0.09      3782\n",
            "           7       0.27      0.27      0.27      3744\n",
            "           8       0.05      0.06      0.06      3639\n",
            "           9       0.00      0.00      0.00      3671\n",
            "          10       0.08      0.59      0.14      3661\n",
            "\n",
            "    accuracy                           0.18     40812\n",
            "   macro avg       0.21      0.18      0.14     40812\n",
            "weighted avg       0.22      0.18      0.14     40812\n",
            "\n"
          ]
        },
        {
          "output_type": "stream",
          "name": "stderr",
          "text": [
            "/usr/local/lib/python3.7/dist-packages/sklearn/metrics/_classification.py:1308: UndefinedMetricWarning: Precision and F-score are ill-defined and being set to 0.0 in labels with no predicted samples. Use `zero_division` parameter to control this behavior.\n",
            "  _warn_prf(average, modifier, msg_start, len(result))\n",
            "/usr/local/lib/python3.7/dist-packages/sklearn/metrics/_classification.py:1308: UndefinedMetricWarning: Precision and F-score are ill-defined and being set to 0.0 in labels with no predicted samples. Use `zero_division` parameter to control this behavior.\n",
            "  _warn_prf(average, modifier, msg_start, len(result))\n",
            "/usr/local/lib/python3.7/dist-packages/sklearn/metrics/_classification.py:1308: UndefinedMetricWarning: Precision and F-score are ill-defined and being set to 0.0 in labels with no predicted samples. Use `zero_division` parameter to control this behavior.\n",
            "  _warn_prf(average, modifier, msg_start, len(result))\n"
          ]
        }
      ],
      "source": [
        "from sklearn.svm import SVC # \"Support vector classifier\"\n",
        "from sklearn.model_selection import GridSearchCV\n",
        "from sklearn.model_selection import StratifiedShuffleSplit\n",
        "from sklearn.model_selection import train_test_split\n",
        "\n",
        "model = SVC(gamma='auto',max_iter = 1000)\n",
        "\n",
        "model.fit(X_train_ndvi, y_train)\n",
        "yhat = model.predict(X_valid_ndvi) #svm use this instead\n",
        "\n",
        "#plot precision recall curve\n",
        "from sklearn.metrics import average_precision_score, classification_report, confusion_matrix\n",
        "print(\"=========Classification report=======\")\n",
        "print(\"Report: \", classification_report(y_valid, yhat))"
      ]
    },
    {
      "cell_type": "code",
      "execution_count": 18,
      "id": "a6b22c76-6b4e-41c1-ab07-c6c4b4791c9a",
      "metadata": {
        "id": "a6b22c76-6b4e-41c1-ab07-c6c4b4791c9a"
      },
      "outputs": [],
      "source": [
        "X_test = X_test.reshape(X_test.shape[0], 24,3)\n",
        "X_test_ndvi = X_test[:,0,:]"
      ]
    },
    {
      "cell_type": "code",
      "execution_count": 19,
      "id": "2ee9617c-c01c-485b-8f20-f5d63746fea1",
      "metadata": {
        "colab": {
          "base_uri": "https://localhost:8080/"
        },
        "id": "2ee9617c-c01c-485b-8f20-f5d63746fea1",
        "outputId": "51d07021-3c3e-4f08-a517-4e5f55a1850d"
      },
      "outputs": [
        {
          "output_type": "stream",
          "name": "stdout",
          "text": [
            "              precision    recall  f1-score   support\n",
            "\n",
            "           0       0.98      1.00      0.99       118\n",
            "           1       0.00      0.00      0.00        92\n",
            "           2       0.00      0.00      0.00        85\n",
            "           3       0.00      0.00      0.00        26\n",
            "           4       0.00      0.00      0.00        30\n",
            "           5       0.00      0.00      0.00        30\n",
            "           6       1.00      0.05      0.09        22\n",
            "           7       0.01      0.27      0.02        30\n",
            "           8       0.00      0.07      0.00        30\n",
            "           9       0.00      0.00      0.00        30\n",
            "          10       0.93      0.48      0.63      7452\n",
            "\n",
            "    accuracy                           0.47      7945\n",
            "   macro avg       0.27      0.17      0.16      7945\n",
            "weighted avg       0.89      0.47      0.61      7945\n",
            "\n"
          ]
        },
        {
          "output_type": "stream",
          "name": "stderr",
          "text": [
            "/usr/local/lib/python3.7/dist-packages/sklearn/metrics/_classification.py:1308: UndefinedMetricWarning: Precision and F-score are ill-defined and being set to 0.0 in labels with no predicted samples. Use `zero_division` parameter to control this behavior.\n",
            "  _warn_prf(average, modifier, msg_start, len(result))\n",
            "/usr/local/lib/python3.7/dist-packages/sklearn/metrics/_classification.py:1308: UndefinedMetricWarning: Precision and F-score are ill-defined and being set to 0.0 in labels with no predicted samples. Use `zero_division` parameter to control this behavior.\n",
            "  _warn_prf(average, modifier, msg_start, len(result))\n",
            "/usr/local/lib/python3.7/dist-packages/sklearn/metrics/_classification.py:1308: UndefinedMetricWarning: Precision and F-score are ill-defined and being set to 0.0 in labels with no predicted samples. Use `zero_division` parameter to control this behavior.\n",
            "  _warn_prf(average, modifier, msg_start, len(result))\n"
          ]
        }
      ],
      "source": [
        "y_preds = model.predict(X_test_ndvi)\n",
        "print(classification_report(y_test, y_preds))"
      ]
    },
    {
      "cell_type": "code",
      "source": [
        "from sklearn.metrics import confusion_matrix\n",
        "import seaborn as sns\n",
        "cf_matrix_plant = confusion_matrix(y_test, y_preds)\n",
        "xticklabels = [\"Water\", \"Urban\", \"Forest\", \"Rice\", \"Casava\", \"Corn\", \"Para Rubber\", \"Mango\", \"Oil Palm\", \"Natural grass\", \"Sugarcane\"]\n",
        "yticklabels = [\"Water\", \"Urban\", \"Forest\", \"Rice\", \"Casava\", \"Corn\", \"Para Rubber\", \"Mango\", \"Oil Palm\", \"Natural grass\", \"Sugarcane\"]\n",
        "\n",
        "sns.heatmap(cf_matrix_plant, fmt=\"d\",vmax=100 ,annot=True,xticklabels=xticklabels, yticklabels=yticklabels)\n",
        "plt.xlabel('true')\n",
        "plt.ylabel('predicted')"
      ],
      "metadata": {
        "colab": {
          "base_uri": "https://localhost:8080/",
          "height": 358
        },
        "id": "6wB7OHB8hgO_",
        "outputId": "5cd69766-504c-4d40-eb3d-dee8855300f4"
      },
      "id": "6wB7OHB8hgO_",
      "execution_count": 20,
      "outputs": [
        {
          "output_type": "execute_result",
          "data": {
            "text/plain": [
              "Text(33.0, 0.5, 'predicted')"
            ]
          },
          "metadata": {},
          "execution_count": 20
        },
        {
          "output_type": "display_data",
          "data": {
            "image/png": "[encoded data removed]",
            "text/plain": [
              "<Figure size 432x288 with 2 Axes>"
            ]
          },
          "metadata": {
            "needs_background": "light"
          }
        }
      ]
    }
  ],
  "metadata": {
    "kernelspec": {
      "display_name": "Python 3 (ipykernel)",
      "language": "python",
      "name": "python3"
    },
    "language_info": {
      "codemirror_mode": {
        "name": "ipython",
        "version": 3
      },
      "file_extension": ".py",
      "mimetype": "text/x-python",
      "name": "python",
      "nbconvert_exporter": "python",
      "pygments_lexer": "ipython3",
      "version": "3.9.7"
    },
    "colab": {
      "name": "ML_project_ex1_SVM.ipynb",
      "provenance": []
    }
  },
  "nbformat": 4,
  "nbformat_minor": 5
}
