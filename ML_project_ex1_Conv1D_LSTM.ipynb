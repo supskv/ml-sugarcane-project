{
 "cells": [
  {
   "cell_type": "code",
   "execution_count": 1,
   "id": "475e82fa-85bb-46c6-8cea-c33a1b29322d",
   "metadata": {},
   "outputs": [],
   "source": [
    "import pandas as pd\n",
    "import numpy as np\n",
    "from copy import copy\n",
    "import torch\n",
    "import matplotlib.pyplot as plt"
   ]
  },
  {
   "cell_type": "code",
   "execution_count": 2,
   "id": "55882e00-0e6c-459b-a80a-c97a756af6b0",
   "metadata": {},
   "outputs": [],
   "source": [
    "dataset_path = 'training_data_1718.csv'"
   ]
  },
  {
   "cell_type": "code",
   "execution_count": 3,
   "id": "8d18b972-8431-49cf-8c97-9b3e240403a5",
   "metadata": {},
   "outputs": [],
   "source": [
    "def file_to_data(filename):\n",
    "    \n",
    "    # read file\n",
    "    raw = pd.read_csv(filename)\n",
    "    \n",
    "    # define columns to be extracted\n",
    "    ndvi_col = ['ndvi_mean'+str(i) for i in range(1, 24+1)] # ndvi_mean1, ..., ndvi_mean24\n",
    "    savi_col = ['ndvi_mean'+str(i) for i in range(1, 24+1)] # ndvi_mean1, ..., savi_mean24\n",
    "    evi_col = ['ndvi_mean'+str(i) for i in range(1, 24+1)] # ndvi_mean1, ..., evi_mean24\n",
    "\n",
    "    # extract each feature\n",
    "    ndvi_timeseries = raw[ndvi_col]\n",
    "    savi_timeseries = raw[savi_col]\n",
    "    evi_timeseries = raw[evi_col]\n",
    "    \n",
    "    # dimension stack\n",
    "    data = np.dstack([ndvi_timeseries, savi_timeseries, evi_timeseries])\n",
    "    \n",
    "    # get only label\n",
    "    label = raw.iloc[:, -1]\n",
    "    \n",
    "    return data, label\n",
    "\n",
    "def data_to_lv1_x_y(data, labels):\n",
    "    \n",
    "    # export all X\n",
    "    # but reclass the plant cane -> 100, ratoon cane -> 200\n",
    "    target = copy(labels)\n",
    "    target[target > 200] = 200\n",
    "    target[(target < 200) & (target > 100)] = 100\n",
    "    \n",
    "    return data, target\n",
    "\n",
    "def data_to_lv2_x_y(data, target):\n",
    "    \n",
    "    # export X plant which labels are 100-200\n",
    "    X_plant = data[(target > 100) & (target <200)]\n",
    "    \n",
    "    # export X ratoon which labels are >200\n",
    "    X_ratoon = data[target > 200]\n",
    "    \n",
    "    # export y plant which labels are 100-200\n",
    "    y_plant = target[(target > 100) & (target < 200)]\n",
    "    \n",
    "    # export y ratoon which labels are >200\n",
    "    y_ratoon = target[target > 200]\n",
    "    \n",
    "    return X_plant, y_plant, X_ratoon, y_ratoon\n",
    "\n",
    "def label_encode(y):\n",
    "    \n",
    "    target = copy(y)\n",
    "    # redefine the cane plantation label to be 1 - 24\n",
    "    new_y = [int(str(label)[1:]) for label in target]\n",
    "    \n",
    "    return np.array(new_y)"
   ]
  },
  {
   "cell_type": "code",
   "execution_count": 4,
   "id": "598462c7-c185-4dcf-acef-7d143a933bd4",
   "metadata": {},
   "outputs": [],
   "source": [
    "data_train, labels_train = file_to_data('training_data_1718.csv')\n",
    "data_test, labels_test = file_to_data('training_data_1819.csv')"
   ]
  },
  {
   "cell_type": "code",
   "execution_count": 5,
   "id": "0a630b33-a4e9-4384-b931-c5ecbc2ae6d2",
   "metadata": {},
   "outputs": [],
   "source": [
    "X_train, y_train = data_to_lv1_x_y(data_train, labels_train)\n",
    "X_test, y_test = data_to_lv1_x_y(data_test, labels_test)"
   ]
  },
  {
   "cell_type": "code",
   "execution_count": 6,
   "id": "68593010-8365-48ef-84c9-fc1ae712d3a5",
   "metadata": {},
   "outputs": [],
   "source": [
    "from sklearn.preprocessing import LabelEncoder\n",
    "\n",
    "lu_encoder = LabelEncoder()\n",
    "\n",
    "y_train = lu_encoder.fit_transform(y_train)\n",
    "y_test = lu_encoder.transform(y_test)"
   ]
  },
  {
   "cell_type": "code",
   "execution_count": 7,
   "id": "b9fac3ee-e430-472e-8aba-abedc6160a90",
   "metadata": {},
   "outputs": [
    {
     "name": "stdout",
     "output_type": "stream",
     "text": [
      "numeric class of y train: [ 0  1  2  3  4  5  6  7  8  9 10 11]\n",
      "numeric class of y test: [ 0  1  2  3  4  5  6  7  8  9 10 11]\n"
     ]
    }
   ],
   "source": [
    "print(f'numeric class of y train: {np.unique(y_train)}')\n",
    "print(f'numeric class of y test: {np.unique(y_test)}')"
   ]
  },
  {
   "cell_type": "code",
   "execution_count": 8,
   "id": "f8db4f97-9523-46a6-a61d-4df974029ca3",
   "metadata": {},
   "outputs": [],
   "source": [
    "y_train[y_train>9] = 10\n",
    "y_test[y_test > 9] = 10"
   ]
  },
  {
   "cell_type": "code",
   "execution_count": 9,
   "id": "757ddd0d-e3c8-43fa-9c3c-e086041a5a44",
   "metadata": {},
   "outputs": [
    {
     "name": "stdout",
     "output_type": "stream",
     "text": [
      "numeric class of y train: [ 0  1  2  3  4  5  6  7  8  9 10]\n",
      "numeric class of y test: [ 0  1  2  3  4  5  6  7  8  9 10]\n"
     ]
    }
   ],
   "source": [
    "print(f'numeric class of y train: {np.unique(y_train)}')\n",
    "print(f'numeric class of y test: {np.unique(y_test)}')"
   ]
  },
  {
   "cell_type": "code",
   "execution_count": 10,
   "id": "fa5d4d09-be16-43fc-a772-909590b5e944",
   "metadata": {},
   "outputs": [],
   "source": [
    "from imblearn.over_sampling import RandomOverSampler\n",
    "from imblearn.under_sampling import RandomUnderSampler\n",
    "from collections import Counter"
   ]
  },
  {
   "cell_type": "code",
   "execution_count": 11,
   "id": "c1f5d97c-7db2-44f3-824d-d8cd68c0828f",
   "metadata": {},
   "outputs": [
    {
     "name": "stdout",
     "output_type": "stream",
     "text": [
      "Counter({10: 12367, 0: 118, 1: 92, 2: 85, 4: 30, 5: 30, 7: 30, 9: 30, 8: 30, 3: 26, 6: 22})\n"
     ]
    }
   ],
   "source": [
    "shape = X_train.shape\n",
    "print(Counter(y_train))"
   ]
  },
  {
   "cell_type": "code",
   "execution_count": 12,
   "id": "d378a983-020c-417d-9602-9e1f59c994b9",
   "metadata": {},
   "outputs": [
    {
     "data": {
      "text/plain": [
       "(12860, 72)"
      ]
     },
     "execution_count": 12,
     "metadata": {},
     "output_type": "execute_result"
    }
   ],
   "source": [
    "X_train = X_train.reshape(X_train.shape[0], -1)\n",
    "X_train.shape"
   ]
  },
  {
   "cell_type": "code",
   "execution_count": 13,
   "id": "1b3a4618-0ddf-4154-ac98-bcd32bad12de",
   "metadata": {},
   "outputs": [
    {
     "name": "stdout",
     "output_type": "stream",
     "text": [
      "after oversampled-> X shape: (136037, 72)\n"
     ]
    }
   ],
   "source": [
    "# instantiating the random over sampler \n",
    "ros = RandomOverSampler()\n",
    "# resampling X, y\n",
    "X_train, y_train = ros.fit_resample(X_train, y_train)\n",
    "\n",
    "print(f'after oversampled-> X shape: {X_train.shape}')"
   ]
  },
  {
   "cell_type": "code",
   "execution_count": 14,
   "id": "d2abb46a-de66-486f-8ab5-2dc0d96b0497",
   "metadata": {},
   "outputs": [
    {
     "data": {
      "text/plain": [
       "(136037, 3, 24)"
      ]
     },
     "execution_count": 14,
     "metadata": {},
     "output_type": "execute_result"
    }
   ],
   "source": [
    "X_train = X_train.reshape(X_train.shape[0], 24,3).transpose(0,2,1)\n",
    "X_train.shape"
   ]
  },
  {
   "cell_type": "code",
   "execution_count": 15,
   "id": "6a7b4195-2470-4c03-ba99-4a129808d191",
   "metadata": {},
   "outputs": [],
   "source": [
    "from sklearn.model_selection import train_test_split\n",
    "X_train, X_valid, y_train, y_valid = train_test_split(X_train, y_train  , test_size=0.3)"
   ]
  },
  {
   "cell_type": "code",
   "execution_count": 16,
   "id": "3851dd8f-662c-475a-98b2-b208f2155cbf",
   "metadata": {},
   "outputs": [],
   "source": [
    "from torch.utils.data import TensorDataset\n",
    "from torch.utils.data import DataLoader\n",
    "from torch.utils.data.dataset import random_split\n",
    "\n",
    "def Xy_dataloader(X_numpy, y_numpy, batch_size=1000):\n",
    "    \n",
    "    X_tensor = torch.tensor(X_numpy).float()\n",
    "    y_tensor = torch.tensor(y_numpy)\n",
    "    \n",
    "    dataset = TensorDataset(X_tensor, y_tensor)\n",
    "\n",
    "    loader = DataLoader(dataset, batch_size=batch_size,shuffle=True)\n",
    "    \n",
    "    return loader"
   ]
  },
  {
   "cell_type": "code",
   "execution_count": 17,
   "id": "0b97c852-07dc-4418-9e47-02a8a30167a9",
   "metadata": {},
   "outputs": [],
   "source": [
    "train_loader = Xy_dataloader(X_train, y_train, 1000)\n",
    "valid_loader = Xy_dataloader(X_valid, y_valid, 1000)"
   ]
  },
  {
   "cell_type": "code",
   "execution_count": 18,
   "id": "2ef1e68f-e9cb-44fd-994b-6165a8ad1e78",
   "metadata": {},
   "outputs": [],
   "source": [
    "hidden_dim = 128\n",
    "output_dim = 12 #len(np.unique(y_plant_train))\n",
    "num_layers = 2\n",
    "bidirectional = True\n",
    "dropout = 0.5\n",
    "\n",
    "num_epochs = 100\n",
    "lr = 0.0001\n",
    "cuda = 1"
   ]
  },
  {
   "cell_type": "code",
   "execution_count": 19,
   "id": "f64633af-c1c7-47ac-8966-dd8849cfd767",
   "metadata": {},
   "outputs": [],
   "source": [
    "import torch.nn as nn\n",
    "from torch.nn import functional as F\n",
    "class con1dlstm(nn.Module):\n",
    "    def __init__(self):\n",
    "        super().__init__()\n",
    "               \n",
    "        self.layer1 = nn.Sequential(\n",
    "            nn.Conv1d(3,64, 4, stride=2),\n",
    "            nn.ReLU(),\n",
    "            nn.Dropout(p=0.5))      \n",
    "        self.lstm = nn.LSTM(11, hidden_dim, num_layers=num_layers,\n",
    "                    bidirectional=bidirectional, \n",
    "                    dropout=dropout,\n",
    "                    batch_first=True)\n",
    "        self.fc = nn.Linear(hidden_dim*2, output_dim)   \n",
    "        self.fc1 = nn.Linear(15356, output_dim)\n",
    "    \n",
    "    \n",
    "    def attention_net(self, lstm_output, final_state):\n",
    "        hidden = final_state.unsqueeze(2)  # hidden : [batch_size, n_hidden * num_directions(=2), 1(=n_layer)]\n",
    "        attn_weights = torch.bmm(lstm_output, hidden).squeeze(2) # attn_weights : [batch_size, seq_len, 1]\n",
    "        soft_attn_weights = F.softmax(attn_weights, 1)\n",
    "        # [batch_size, n_hidden * num_directions(=2), seq_len] * [batch_size, seq_len, 1] = [batch_size, n_hidden * num_directions(=2), 1]\n",
    "        context = torch.bmm(lstm_output.transpose(1, 2), soft_attn_weights.unsqueeze(2)).squeeze(2)\n",
    "        return context, soft_attn_weights.cpu().data.numpy() # context : [batch_size, n_hidden * num_directions(=2)]\n",
    "    \n",
    "    def forward(self, x):\n",
    "        out0 = self.layer1(x)\n",
    "        out,(hn, cn) = self.lstm(out0)\n",
    "        hn = torch.cat((hn[-2,:,:], hn[-1,:,:]), dim = 1)\n",
    "        \n",
    "        attn_output, attention = self.attention_net(out, hn)\n",
    "        \n",
    "        return self.fc(attn_output)"
   ]
  },
  {
   "cell_type": "code",
   "execution_count": 20,
   "id": "cfbd7daf-504c-4690-8ae2-32d3033677aa",
   "metadata": {},
   "outputs": [],
   "source": [
    "def initialize_weights(m):\n",
    "    if isinstance(m, nn.Linear):\n",
    "        nn.init.xavier_normal_(m.weight)\n",
    "        nn.init.zeros_(m.bias)\n",
    "    elif isinstance(m, nn.RNN):\n",
    "        for name, param in m.named_parameters():\n",
    "            if 'bias' in name:\n",
    "                nn.init.zeros_(param)\n",
    "            elif 'weight' in name:\n",
    "                nn.init.orthogonal_(param) #<---here"
   ]
  },
  {
   "cell_type": "code",
   "execution_count": 21,
   "id": "1887eda6-f55c-40d6-8c95-46fa15cf3b4b",
   "metadata": {},
   "outputs": [
    {
     "data": {
      "text/plain": [
       "con1dlstm(\n",
       "  (layer1): Sequential(\n",
       "    (0): Conv1d(3, 64, kernel_size=(4,), stride=(2,))\n",
       "    (1): ReLU()\n",
       "    (2): Dropout(p=0.5, inplace=False)\n",
       "  )\n",
       "  (lstm): LSTM(11, 128, num_layers=2, batch_first=True, dropout=0.5, bidirectional=True)\n",
       "  (fc): Linear(in_features=256, out_features=12, bias=True)\n",
       "  (fc1): Linear(in_features=15356, out_features=12, bias=True)\n",
       ")"
      ]
     },
     "execution_count": 21,
     "metadata": {},
     "output_type": "execute_result"
    }
   ],
   "source": [
    "model = con1dlstm().cuda(cuda)\n",
    "model.apply(initialize_weights)"
   ]
  },
  {
   "cell_type": "code",
   "execution_count": 22,
   "id": "0ac3cc79-a704-44d4-b901-9ac437e18866",
   "metadata": {},
   "outputs": [],
   "source": [
    "import torch.optim as optim\n",
    "\n",
    "optimizer = optim.Adam(model.parameters(), lr=lr) #<----changed to Adam\n",
    "#optimizer = optim.RMSprop(model.parameters(), lr=lr)\n",
    "\n",
    "#criterion = nn.BCEWithLogitsLoss() #combine sigmoid with binary cross entropy\n",
    "criterion = nn.CrossEntropyLoss()\n",
    "#criterion = nn.MSELoss()"
   ]
  },
  {
   "cell_type": "code",
   "execution_count": 23,
   "id": "bdec82d2-4ec7-4155-9a0c-e65b64d7a5e7",
   "metadata": {},
   "outputs": [],
   "source": [
    "def cnn_acc(preds,y):\n",
    "    preds = torch.max(preds, 1)[1]\n",
    "    correct = (preds == y).float() #convert into float for division \n",
    "    acc = correct.sum() / len(correct)\n",
    "    return acc"
   ]
  },
  {
   "cell_type": "code",
   "execution_count": 24,
   "id": "b0d2fefd-beaf-49d1-ab46-09af2676d680",
   "metadata": {},
   "outputs": [],
   "source": [
    "def train(model, loader, optimizer, criterion):\n",
    "    epoch_loss = 0\n",
    "    epoch_acc = 0\n",
    "    model.train() #useful for batchnorm and dropout\n",
    "    for i, (features, label) in enumerate(loader): \n",
    "        features   = features.cuda(cuda)\n",
    "        label = label.cuda(cuda)        \n",
    "        #predict\n",
    "        predictions = model(features)\n",
    "        #calculate loss\n",
    "        loss = criterion(predictions, label)\n",
    "        acc = cnn_acc(predictions, label)\n",
    "        \n",
    "        #backprop\n",
    "        optimizer.zero_grad()\n",
    "        loss.backward()\n",
    "        optimizer.step()\n",
    "        \n",
    "        epoch_loss += loss.item()\n",
    "        epoch_acc += acc.item()\n",
    "                \n",
    "    return epoch_loss / len(loader), epoch_acc / len(loader)"
   ]
  },
  {
   "cell_type": "code",
   "execution_count": 25,
   "id": "c63e5daa-afea-48c4-b121-557a5664cfd2",
   "metadata": {},
   "outputs": [],
   "source": [
    "def evaluate(model, loader, criterion):\n",
    "    epoch_loss = 0\n",
    "    epoch_acc = 0\n",
    "    model.eval()\n",
    "    \n",
    "    with torch.no_grad():\n",
    "        for i, (features, label) in enumerate(loader): \n",
    "            features   = features.cuda(cuda)\n",
    "            label = label.cuda(cuda)\n",
    "\n",
    "            predictions = model(features)\n",
    "            \n",
    "            loss = criterion(predictions, label)\n",
    "            acc = cnn_acc(predictions, label)\n",
    "\n",
    "            epoch_loss += loss.item()\n",
    "            epoch_acc += acc.item()\n",
    "        \n",
    "    return epoch_loss / len(loader), epoch_acc / len(loader)"
   ]
  },
  {
   "cell_type": "code",
   "execution_count": 26,
   "id": "d44be058-fce3-4394-969a-6b513255ec55",
   "metadata": {},
   "outputs": [
    {
     "name": "stdout",
     "output_type": "stream",
     "text": [
      "Epoch: 01 | Train Loss: 2.338 | Train Acc: 13.45%\n",
      "\t Val. Loss: 1.713 |  Val. Acc: 33.57%\n",
      "Epoch: 21 | Train Loss: 0.696 | Train Acc: 72.41%\n",
      "\t Val. Loss: 0.471 |  Val. Acc: 83.65%\n",
      "Epoch: 41 | Train Loss: 0.356 | Train Acc: 86.14%\n",
      "\t Val. Loss: 0.218 |  Val. Acc: 92.41%\n",
      "Epoch: 61 | Train Loss: 0.191 | Train Acc: 92.96%\n",
      "\t Val. Loss: 0.108 |  Val. Acc: 96.32%\n",
      "Epoch: 81 | Train Loss: 0.130 | Train Acc: 95.32%\n",
      "\t Val. Loss: 0.079 |  Val. Acc: 97.15%\n"
     ]
    }
   ],
   "source": [
    "best_valid_loss = float('inf')\n",
    "\n",
    "train_losses = []\n",
    "train_accs = []\n",
    "valid_losses = []\n",
    "valid_accs = []\n",
    "for epoch in range(num_epochs):\n",
    "\n",
    "    train_loss,train_acc = train(model, train_loader, optimizer , criterion)\n",
    "    valid_loss,valid_acc = evaluate(model, valid_loader, criterion)\n",
    "    \n",
    "    #for plotting\n",
    "    train_losses.append(train_loss)\n",
    "    train_accs.append(train_acc)\n",
    "    valid_losses.append(valid_loss)\n",
    "    valid_accs.append(valid_acc)\n",
    "    \n",
    "    if valid_loss < best_valid_loss:\n",
    "        best_valid_loss = valid_loss\n",
    "        torch.save(model.state_dict(),'tensor.pt')\n",
    "    \n",
    "    if epoch%20 == 0:\n",
    "        print(f'Epoch: {epoch+1:02} | Train Loss: {train_loss:.3f} | Train Acc: {train_acc*100:.2f}%')\n",
    "        print(f'\\t Val. Loss: {valid_loss:.3f} |  Val. Acc: {valid_acc*100:.2f}%')"
   ]
  },
  {
   "cell_type": "code",
   "execution_count": 27,
   "id": "44dc424d-a575-4120-97d4-b9c7be7030ff",
   "metadata": {},
   "outputs": [
    {
     "data": {
      "text/plain": [
       "Text(0, 0.5, 'Loss during Trianing')"
      ]
     },
     "execution_count": 27,
     "metadata": {},
     "output_type": "execute_result"
    },
    {
     "data": {
      "image/png": "[encoded data removed]",
      "text/plain": [
       "<Figure size 720x432 with 1 Axes>"
      ]
     },
     "metadata": {
      "needs_background": "light"
     },
     "output_type": "display_data"
    }
   ],
   "source": [
    "import matplotlib.pyplot as plt\n",
    "fig = plt.figure(figsize=(10, 6))\n",
    "ax = fig.add_subplot(1, 1, 1)\n",
    "ax.plot(train_losses, label = 'train loss')\n",
    "ax.plot(valid_losses, label = 'valid loss')\n",
    "plt.legend()\n",
    "ax.set_xlabel('Epoch')\n",
    "ax.set_ylabel('Loss during Trianing')"
   ]
  },
  {
   "cell_type": "code",
   "execution_count": 28,
   "id": "ddef9b9a-f93e-4921-88f8-4db5b2c7ecc0",
   "metadata": {},
   "outputs": [
    {
     "data": {
      "text/plain": [
       "Text(0, 0.5, 'Accuracy during Trianing')"
      ]
     },
     "execution_count": 28,
     "metadata": {},
     "output_type": "execute_result"
    },
    {
     "data": {
      "image/png": "[encoded data removed]",
      "text/plain": [
       "<Figure size 720x432 with 1 Axes>"
      ]
     },
     "metadata": {
      "needs_background": "light"
     },
     "output_type": "display_data"
    }
   ],
   "source": [
    "fig = plt.figure(figsize=(10, 6))\n",
    "ax = fig.add_subplot(1, 1, 1)\n",
    "ax.plot(train_accs, label = 'train acc')\n",
    "ax.plot(valid_accs, label = 'valid acc')\n",
    "plt.legend()\n",
    "ax.set_xlabel('Epoch')\n",
    "ax.set_ylabel('Accuracy during Trianing')"
   ]
  },
  {
   "cell_type": "code",
   "execution_count": 29,
   "id": "90c3274b-d1d7-48b8-93c9-9fe8db78e0da",
   "metadata": {},
   "outputs": [],
   "source": [
    "def predict_model(model, X_test):\n",
    "    \n",
    "    model.eval()\n",
    "    \n",
    "    x = torch.tensor(X_test).float()\n",
    "            \n",
    "    out = model(x.cuda(cuda))\n",
    "    pred = torch.max(out, 1)[1]\n",
    "    \n",
    "    return pred.cpu().numpy()"
   ]
  },
  {
   "cell_type": "code",
   "execution_count": 30,
   "id": "1db7d2b4-cd2e-4f53-8927-d4a1b49ad5a9",
   "metadata": {},
   "outputs": [],
   "source": [
    "X_test = X_test.transpose(0,2,1)\n",
    "y_pred = predict_model(model,X_test)"
   ]
  },
  {
   "cell_type": "code",
   "execution_count": 31,
   "id": "6a32ad1d-f9cb-49a3-9bf4-de8ea4fc7429",
   "metadata": {},
   "outputs": [
    {
     "name": "stdout",
     "output_type": "stream",
     "text": [
      "              precision    recall  f1-score   support\n",
      "\n",
      "           0       1.00      1.00      1.00       118\n",
      "           1       0.98      1.00      0.99        92\n",
      "           2       0.85      1.00      0.92        85\n",
      "           3       0.03      1.00      0.07        26\n",
      "           4       0.32      1.00      0.49        30\n",
      "           5       0.01      1.00      0.03        30\n",
      "           6       0.88      1.00      0.94        22\n",
      "           7       0.48      1.00      0.65        30\n",
      "           8       0.73      1.00      0.85        30\n",
      "           9       0.08      1.00      0.14        30\n",
      "          10       1.00      0.53      0.70      7452\n",
      "\n",
      "    accuracy                           0.56      7945\n",
      "   macro avg       0.58      0.96      0.61      7945\n",
      "weighted avg       0.98      0.56      0.70      7945\n",
      "\n"
     ]
    }
   ],
   "source": [
    "from sklearn.metrics import classification_report\n",
    "print(classification_report(y_test, y_pred))"
   ]
  },
  {
   "cell_type": "code",
   "execution_count": 33,
   "id": "29986216-a7e5-4593-8c10-da4277fae83b",
   "metadata": {},
   "outputs": [
    {
     "data": {
      "text/plain": [
       "Text(33.0, 0.5, 'predicted')"
      ]
     },
     "execution_count": 33,
     "metadata": {},
     "output_type": "execute_result"
    },
    {
     "data": {
      "image/png": "[encoded data removed]",
      "text/plain": [
       "<Figure size 432x288 with 2 Axes>"
      ]
     },
     "metadata": {
      "needs_background": "light"
     },
     "output_type": "display_data"
    }
   ],
   "source": [
    "from sklearn.metrics import confusion_matrix\n",
    "import seaborn as sns\n",
    "cf_matrix_plant = confusion_matrix(y_test, y_pred)\n",
    "xticklabels = [\"Water\", \"Urban\", \"Forest\", \"Rice\", \"Casava\", \"Corn\", \"Para Rubber\", \"Mango\", \"Oil Palm\", \"Natural grass\", \"Sugarcane\"]\n",
    "yticklabels = [\"Water\", \"Urban\", \"Forest\", \"Rice\", \"Casava\", \"Corn\", \"Para Rubber\", \"Mango\", \"Oil Palm\", \"Natural grass\", \"Sugarcane\"]\n",
    "\n",
    "sns.heatmap(cf_matrix_plant, fmt=\"d\",vmax=100 ,annot=True,xticklabels=xticklabels, yticklabels=yticklabels)\n",
    "plt.xlabel('true')\n",
    "plt.ylabel('predicted')"
   ]
  }
 ],
 "metadata": {
  "kernelspec": {
   "display_name": "Python 3 (ipykernel)",
   "language": "python",
   "name": "python3"
  },
  "language_info": {
   "codemirror_mode": {
    "name": "ipython",
    "version": 3
   },
   "file_extension": ".py",
   "mimetype": "text/x-python",
   "name": "python",
   "nbconvert_exporter": "python",
   "pygments_lexer": "ipython3",
   "version": "3.9.7"
  }
 },
 "nbformat": 4,
 "nbformat_minor": 5
}
