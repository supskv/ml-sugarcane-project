{
  "nbformat": 4,
  "nbformat_minor": 0,
  "metadata": {
    "colab": {
      "name": "ML_project_ex2.ipynb",
      "provenance": [],
      "collapsed_sections": []
    },
    "kernelspec": {
      "name": "python3",
      "display_name": "Python 3"
    },
    "language_info": {
      "name": "python"
    },
    "accelerator": "GPU"
  },
  "cells": [
    {
      "cell_type": "code",
      "metadata": {
        "id": "8GHaNIcwv05u"
      },
      "source": [
        "import pandas as pd\n",
        "import numpy as np\n",
        "from copy import copy\n",
        "import torch\n",
        "import matplotlib.pyplot as plt\n",
        "\n",
        "from google.colab import drive\n",
        "from IPython.display import clear_output"
      ],
      "execution_count": null,
      "outputs": []
    },
    {
      "cell_type": "code",
      "metadata": {
        "id": "hMwrY87teLgJ"
      },
      "source": [
        ""
      ],
      "execution_count": null,
      "outputs": []
    },
    {
      "cell_type": "code",
      "metadata": {
        "id": "bzlMW8NWv_Xa",
        "colab": {
          "base_uri": "https://localhost:8080/"
        },
        "outputId": "b6cc6e31-dd8a-45fc-ab3c-8a30ba1bc509"
      },
      "source": [
        "drive.mount('/content/drive')"
      ],
      "execution_count": null,
      "outputs": [
        {
          "output_type": "stream",
          "name": "stdout",
          "text": [
            "Mounted at /content/drive\n"
          ]
        }
      ]
    },
    {
      "cell_type": "code",
      "metadata": {
        "id": "oAvZPPqEd4iA"
      },
      "source": [
        "dataset_path = '/content/drive/MyDrive/CourseWork Resource/ML/'"
      ],
      "execution_count": null,
      "outputs": []
    },
    {
      "cell_type": "code",
      "metadata": {
        "id": "YRfgCatZeEpY"
      },
      "source": [
        "def file_to_data(filename):\n",
        "    \n",
        "    # read file\n",
        "    raw = pd.read_csv(filename)\n",
        "    \n",
        "    # define columns to be extracted\n",
        "    ndvi_col = ['ndvi_mean'+str(i) for i in range(1, 24+1)] # ndvi_mean1, ..., ndvi_mean24\n",
        "    savi_col = ['ndvi_mean'+str(i) for i in range(1, 24+1)] # ndvi_mean1, ..., savi_mean24\n",
        "    evi_col = ['ndvi_mean'+str(i) for i in range(1, 24+1)] # ndvi_mean1, ..., evi_mean24\n",
        "\n",
        "    # extract each feature\n",
        "    ndvi_timeseries = raw[ndvi_col]\n",
        "    savi_timeseries = raw[savi_col]\n",
        "    evi_timeseries = raw[evi_col]\n",
        "    \n",
        "    # dimension stack\n",
        "    data = np.dstack([ndvi_timeseries, savi_timeseries, evi_timeseries])\n",
        "    \n",
        "    # get only label\n",
        "    label = raw.iloc[:, -1]\n",
        "    \n",
        "    return data, label\n",
        "\n",
        "def data_to_lv1_x_y(data, labels):\n",
        "    \n",
        "    # export all X\n",
        "    # but reclass the plant cane -> 100, ratoon cane -> 200\n",
        "    target = copy(labels)\n",
        "    target[target > 200] = 200\n",
        "    target[(target < 200) & (target > 100)] = 100\n",
        "    \n",
        "    return data, target\n",
        "\n",
        "def data_to_lv2_x_y(data, target):\n",
        "    \n",
        "    # export X plant which labels are 100-200\n",
        "    X_plant = data[(target > 100) & (target <200)]\n",
        "    \n",
        "    # export X ratoon which labels are >200\n",
        "    X_ratoon = data[target > 200]\n",
        "    \n",
        "    # export y plant which labels are 100-200\n",
        "    y_plant = target[(target > 100) & (target < 200)]\n",
        "    \n",
        "    # export y ratoon which labels are >200\n",
        "    y_ratoon = target[target > 200]\n",
        "    \n",
        "    return X_plant, y_plant, X_ratoon, y_ratoon\n",
        "\n",
        "def label_encode(y):\n",
        "    \n",
        "    target = copy(y)\n",
        "    # redefine the cane plantation label to be 1 - 24\n",
        "    new_y = [int(str(label)[1:]) for label in target]\n",
        "    \n",
        "    return np.array(new_y)"
      ],
      "execution_count": null,
      "outputs": []
    },
    {
      "cell_type": "code",
      "metadata": {
        "id": "D0wZlo89eFxo"
      },
      "source": [
        "data_train, labels_train = file_to_data('/content/drive/MyDrive/CourseWork Resource/ML/training_data_1718.csv')\n",
        "data_test, labels_test = file_to_data('/content/drive/MyDrive/CourseWork Resource/ML/training_data_1819.csv')"
      ],
      "execution_count": null,
      "outputs": []
    },
    {
      "cell_type": "code",
      "metadata": {
        "id": "x_7yMXXAeHdZ"
      },
      "source": [
        "X_plant_train, y_plant_train, X_ratoon_train, y_ratoon_train = data_to_lv2_x_y(data_train, labels_train)\n",
        "X_plant_test, y_plant_test, X_ratoon_test, y_ratoon_test = data_to_lv2_x_y(data_test, labels_test)"
      ],
      "execution_count": null,
      "outputs": []
    },
    {
      "cell_type": "code",
      "metadata": {
        "id": "uT250vrNfgNB"
      },
      "source": [
        "y_plant_train = label_encode(y_plant_train)-1\n",
        "y_ratoon_train = label_encode(y_ratoon_train)-1\n",
        "\n",
        "y_plant_test = label_encode(y_plant_test)-1\n",
        "y_ratoon_test = label_encode(y_ratoon_test)-1"
      ],
      "execution_count": null,
      "outputs": []
    },
    {
      "cell_type": "code",
      "metadata": {
        "colab": {
          "base_uri": "https://localhost:8080/"
        },
        "id": "B2B2m0OWfxZn",
        "outputId": "3b5219a7-a73f-49ea-ff76-285138a9ee9b"
      },
      "source": [
        "print(f'numeric class of y train: {np.unique(y_plant_train)}')\n",
        "print(f'numeric class of y test: {np.unique(y_plant_test)}')"
      ],
      "execution_count": null,
      "outputs": [
        {
          "output_type": "stream",
          "name": "stdout",
          "text": [
            "numeric class of y train: [ 0  1  2  3  4  5  6  7 20 21 22 23]\n",
            "numeric class of y test: [ 0  1  2  3  4  5  6  7 20 22 23]\n"
          ]
        }
      ]
    },
    {
      "cell_type": "markdown",
      "metadata": {
        "id": "Kfmb5m4QqdaC"
      },
      "source": [
        ""
      ]
    },
    {
      "cell_type": "code",
      "metadata": {
        "id": "k2bQ5MW1f92v"
      },
      "source": [
        "from imblearn.over_sampling import RandomOverSampler\n",
        "from imblearn.under_sampling import RandomUnderSampler\n",
        "from collections import Counter"
      ],
      "execution_count": null,
      "outputs": []
    },
    {
      "cell_type": "code",
      "metadata": {
        "colab": {
          "base_uri": "https://localhost:8080/"
        },
        "id": "7XLlUTyLgCw2",
        "outputId": "a19e2541-ded7-4063-a0e3-830da3fc3050"
      },
      "source": [
        "shape_plant = X_plant_train.shape\n",
        "shape_ratoon = X_ratoon_train.shape\n",
        "print(Counter(y_plant_train))\n",
        "print(Counter(y_ratoon_train))"
      ],
      "execution_count": null,
      "outputs": [
        {
          "output_type": "stream",
          "name": "stdout",
          "text": [
            "Counter({3: 980, 4: 938, 5: 725, 2: 721, 1: 435, 0: 256, 6: 192, 23: 85, 7: 57, 22: 43, 21: 41, 20: 16})\n",
            "Counter({4: 1905, 5: 1625, 3: 1307, 2: 1221, 1: 773, 6: 697, 7: 168, 0: 166, 23: 16})\n"
          ]
        }
      ]
    },
    {
      "cell_type": "code",
      "metadata": {
        "colab": {
          "base_uri": "https://localhost:8080/"
        },
        "id": "ZGMTTaA8gII2",
        "outputId": "e563c97d-f353-4cae-c858-79995168a8f3"
      },
      "source": [
        "X_plant_train = X_plant_train.reshape(X_plant_train.shape[0], -1)\n",
        "X_ratoon_train = X_ratoon_train.reshape(X_ratoon_train.shape[0], -1)\n",
        "print(f'X plant train: {X_plant_train.shape}')\n",
        "print(f'X ratoon train: {X_ratoon_train.shape}')"
      ],
      "execution_count": null,
      "outputs": [
        {
          "output_type": "stream",
          "name": "stdout",
          "text": [
            "X plant train: (4489, 72)\n",
            "X ratoon train: (7878, 72)\n"
          ]
        }
      ]
    },
    {
      "cell_type": "code",
      "metadata": {
        "colab": {
          "base_uri": "https://localhost:8080/"
        },
        "id": "uC74_yN1gOlu",
        "outputId": "b2adbcfc-1e15-431c-8a91-84982ad43ec3"
      },
      "source": [
        "# instantiating the random over sampler \n",
        "ros = RandomOverSampler()\n",
        "# resampling X, y\n",
        "X_plant_train, y_plant_train = ros.fit_resample(X_plant_train, y_plant_train)\n",
        "X_ratoon_train, y_ratoon_train = ros.fit_resample(X_ratoon_train, y_ratoon_train)\n",
        "\n",
        "print(f'after oversampled-> X plant shape: {X_plant_train.shape}')\n",
        "print(f'after oversampled-> X ratoon shape: {X_ratoon_train.shape}')"
      ],
      "execution_count": null,
      "outputs": [
        {
          "output_type": "stream",
          "name": "stdout",
          "text": [
            "after oversampled-> X plant shape: (11760, 72)\n",
            "after oversampled-> X ratoon shape: (17145, 72)\n"
          ]
        }
      ]
    },
    {
      "cell_type": "code",
      "metadata": {
        "colab": {
          "base_uri": "https://localhost:8080/"
        },
        "id": "27XA9sgKgbXm",
        "outputId": "2955fdf3-72e3-4e5c-c907-22f8c115f1c5"
      },
      "source": [
        "X_plant_train = X_plant_train.reshape(X_plant_train.shape[0], 24,3)\n",
        "X_ratoon_train = X_ratoon_train.reshape(X_ratoon_train.shape[0], 24,3)\n",
        "\n",
        "print(f'X plant train: {X_plant_train.shape}')\n",
        "print(f'X ratoon train: {X_ratoon_train.shape}')"
      ],
      "execution_count": null,
      "outputs": [
        {
          "output_type": "stream",
          "name": "stdout",
          "text": [
            "X plant train: (11760, 24, 3)\n",
            "X ratoon train: (17145, 24, 3)\n"
          ]
        }
      ]
    },
    {
      "cell_type": "code",
      "metadata": {
        "colab": {
          "base_uri": "https://localhost:8080/"
        },
        "id": "PaFFQu39gkI-",
        "outputId": "2cec6700-67bf-499b-84f0-045d47b62126"
      },
      "source": [
        "print(Counter(y_plant_train))\n",
        "print(Counter(y_ratoon_train))"
      ],
      "execution_count": null,
      "outputs": [
        {
          "output_type": "stream",
          "name": "stdout",
          "text": [
            "Counter({0: 980, 1: 980, 2: 980, 3: 980, 4: 980, 5: 980, 6: 980, 7: 980, 20: 980, 21: 980, 22: 980, 23: 980})\n",
            "Counter({0: 1905, 1: 1905, 2: 1905, 3: 1905, 4: 1905, 5: 1905, 6: 1905, 7: 1905, 23: 1905})\n"
          ]
        }
      ]
    },
    {
      "cell_type": "code",
      "metadata": {
        "id": "j4pjam030iq7"
      },
      "source": [
        "X_plant_train = X_plant_train.transpose(0,2,1)[:, np.newaxis,:,:]\n",
        "X_ratoon_train = X_ratoon_train.transpose(0,2,1)[:, np.newaxis,:,:]"
      ],
      "execution_count": null,
      "outputs": []
    },
    {
      "cell_type": "code",
      "metadata": {
        "colab": {
          "base_uri": "https://localhost:8080/"
        },
        "id": "HK32areE06xV",
        "outputId": "b52c7b63-ac26-4296-d56f-fe7297836166"
      },
      "source": [
        "print(f'X plant train: {X_plant_train.shape}')\n",
        "print(f'X ratoon train: {X_ratoon_train.shape}')"
      ],
      "execution_count": null,
      "outputs": [
        {
          "output_type": "stream",
          "name": "stdout",
          "text": [
            "X plant train: (11760, 1, 3, 24)\n",
            "X ratoon train: (17145, 1, 3, 24)\n"
          ]
        }
      ]
    },
    {
      "cell_type": "code",
      "metadata": {
        "id": "Rom_VvjQgoLv"
      },
      "source": [
        "from torch.utils.data import TensorDataset\n",
        "from torch.utils.data import DataLoader\n",
        "from torch.utils.data.dataset import random_split\n",
        "\n",
        "def Xy_dataloader(X_numpy, y_numpy, batch_size=32):\n",
        "    \n",
        "    X_tensor = torch.tensor(X_numpy).float()\n",
        "    y_tensor = torch.tensor(y_numpy).long()\n",
        "    \n",
        "    dataset = TensorDataset(X_tensor, y_tensor)\n",
        "\n",
        "    loader = DataLoader(dataset, batch_size=batch_size,shuffle=True)\n",
        "    \n",
        "    return loader"
      ],
      "execution_count": null,
      "outputs": []
    },
    {
      "cell_type": "code",
      "metadata": {
        "id": "C6vcXfNEtjLi"
      },
      "source": [
        "from sklearn.model_selection import train_test_split\n",
        "\n",
        "X_plant_train, X_plant_valid, y_plant_train, y_plant_valid = train_test_split(X_plant_train, y_plant_train  , test_size=0.3, stratify=y_plant_train)\n"
      ],
      "execution_count": null,
      "outputs": []
    },
    {
      "cell_type": "code",
      "metadata": {
        "id": "ShpNPH0yuc6P"
      },
      "source": [
        "X_ratoon_train, X_ratoon_valid, y_ratoon_train, y_ratoon_valid = train_test_split(X_ratoon_train, y_ratoon_train, test_size=0.3, stratify=y_ratoon_train)"
      ],
      "execution_count": null,
      "outputs": []
    },
    {
      "cell_type": "code",
      "metadata": {
        "id": "V_XFrdyyt2we"
      },
      "source": [
        ""
      ],
      "execution_count": null,
      "outputs": []
    },
    {
      "cell_type": "code",
      "metadata": {
        "id": "N4-m3S86tjme"
      },
      "source": [
        ""
      ],
      "execution_count": null,
      "outputs": []
    },
    {
      "cell_type": "code",
      "metadata": {
        "id": "TmbOZ_w8gpIO"
      },
      "source": [
        "plant_train_loader = Xy_dataloader(X_plant_train, y_plant_train, 64)\n",
        "plant_valid_loader = Xy_dataloader(X_plant_valid, y_plant_valid, 64)\n",
        "\n",
        "ratoon_train_loader = Xy_dataloader(X_ratoon_train, y_ratoon_train, 64)\n",
        "ratoon_valid_loader = Xy_dataloader(X_ratoon_valid, y_ratoon_valid, 64)"
      ],
      "execution_count": null,
      "outputs": []
    },
    {
      "cell_type": "code",
      "metadata": {
        "id": "QkvWO1Eogz6u"
      },
      "source": [
        ""
      ],
      "execution_count": null,
      "outputs": []
    },
    {
      "cell_type": "code",
      "metadata": {
        "id": "AIfel-xig1s3"
      },
      "source": [
        "import torch\n",
        "from torch import nn"
      ],
      "execution_count": null,
      "outputs": []
    },
    {
      "cell_type": "code",
      "metadata": {
        "id": "SiH5M8JIg2e1"
      },
      "source": [
        "\n",
        "class RNN_lv1(nn.Module):\n",
        "    \n",
        "    def __init__(self, input_dim, hidden_dim, output_dim):\n",
        "        super().__init__()\n",
        "        \n",
        "        self.rnn = nn.LSTM(input_dim, hidden_dim, num_layers=1, batch_first=True)\n",
        "        self.dropout = nn.Dropout(0.5)\n",
        "        self.fc = nn.Linear(hidden_dim, output_dim)\n",
        "        \n",
        "    def forward(self, x):\n",
        "     \n",
        "        \n",
        "        #[batch size, seq len, embed dim]\n",
        "        out, (hn, cn) = self.rnn(x)\n",
        "        x = self.dropout(hn.squeeze(0))\n",
        "        x = self.fc(x)\n",
        "        \n",
        "        return x"
      ],
      "execution_count": null,
      "outputs": []
    },
    {
      "cell_type": "code",
      "metadata": {
        "id": "EpWHXTS70M6F"
      },
      "source": [
        "\n",
        "class CNN_lv2(nn.Module):\n",
        "    \n",
        "    def __init__(self, output_dim):\n",
        "        super().__init__()\n",
        "        \n",
        "        self.conv1 = nn.Sequential(nn.Conv2d(1, 16, (1,3), stride=1, padding='valid'),\n",
        "                                  nn.BatchNorm2d(16),\n",
        "                                  nn.ReLU())\n",
        "        \n",
        "        self.conv2 = nn.Sequential(nn.Conv2d(16, 32, (1,3), stride=1, padding='valid'),\n",
        "                                  nn.BatchNorm2d(32),\n",
        "                                  nn.ReLU(),\n",
        "                                  nn.MaxPool2d(2,2))\n",
        "        \n",
        "        \n",
        "        self.dropout = nn.Dropout(0.5)\n",
        "\n",
        "\n",
        "        self.fc1 = nn.Linear(32*1*10, 1024)\n",
        "        self.fc2 = nn.Linear(1024, output_dim)\n",
        "        \n",
        "    def forward(self, x):\n",
        "     \n",
        "        \n",
        "        #[batch size, seq len, embed dim]\n",
        "        x = self.conv1(x)\n",
        "        x = self.dropout(x)\n",
        "        x = self.conv2(x)\n",
        "        x = self.dropout(x)\n",
        "        # print(x.shape)\n",
        "        x = x.reshape(x.size(0),-1)\n",
        "        x = self.fc1(x)\n",
        "        x = self.fc2(x)\n",
        "\n",
        "        \n",
        "        return x"
      ],
      "execution_count": null,
      "outputs": []
    },
    {
      "cell_type": "code",
      "metadata": {
        "colab": {
          "base_uri": "https://localhost:8080/"
        },
        "id": "641jiCOQg4A-",
        "outputId": "b8a205ac-726a-4611-8513-704d11d928a6"
      },
      "source": [
        "device = torch.device('cuda' if torch.cuda.is_available() else 'cpu')\n",
        "print(device)\n",
        "\n",
        "#make our work comparable if restarted the kernel\n",
        "SEED = 1234\n",
        "torch.manual_seed(SEED)\n",
        "torch.backends.cudnn.deterministic = True"
      ],
      "execution_count": null,
      "outputs": [
        {
          "output_type": "stream",
          "name": "stdout",
          "text": [
            "cuda\n"
          ]
        }
      ]
    },
    {
      "cell_type": "code",
      "metadata": {
        "id": "7T5tfRRWg50O"
      },
      "source": [
        "model_plant = RNN_lv1(3, 512, 24).to(device)\n",
        "model_ratoon = RNN_lv1(3, 512, 24).to(device)"
      ],
      "execution_count": null,
      "outputs": []
    },
    {
      "cell_type": "code",
      "metadata": {
        "id": "6uRhoHdD2x3s"
      },
      "source": [
        "model_plant = CNN_lv2(24).to(device)\n",
        "model_ratoon = CNN_lv2(24).to(device)"
      ],
      "execution_count": null,
      "outputs": []
    },
    {
      "cell_type": "code",
      "metadata": {
        "id": "NukFokYHg6xd"
      },
      "source": [
        "import torch.optim as optim\n",
        "\n",
        "optimizer_plant = optim.Adam(model_plant.parameters(), lr=0.001) #<----changed to Adam\n",
        "criterion_plant = nn.CrossEntropyLoss() #combine sigmoid with binary cross entropy\n",
        "\n",
        "optimizer_ratoon = optim.Adam(model_ratoon.parameters(), lr=0.001) #<----changed to Adam\n",
        "criterion_ratoon = nn.CrossEntropyLoss() #combine sigmoid with binary cross entropy"
      ],
      "execution_count": null,
      "outputs": []
    },
    {
      "cell_type": "code",
      "metadata": {
        "id": "v4wi3Lxyg-Y2"
      },
      "source": [
        "def train_model(model, train_dataloader, valid_dataloader, \n",
        "                epochs, criterion, optimizer, print_epoch=1000):\n",
        "    \n",
        "    loss_train = []\n",
        "    loss_valid = []\n",
        "    acc_train = []\n",
        "    acc_valid = []\n",
        "    \n",
        "    for i in range(1, epochs+1):\n",
        "        \n",
        "        # ===================TRAIN ======================\n",
        "        model.train()\n",
        "        \n",
        "        epoch_loss = 0\n",
        "        correct = 0\n",
        "        \n",
        "        for x, y in train_dataloader:\n",
        "            \n",
        "            x = x.to(device)\n",
        "            y = y.to(device)\n",
        "            \n",
        "            out = model(x)\n",
        "            \n",
        "            loss = criterion(out, y)\n",
        "            \n",
        "            _,pred = torch.max(out, 1)\n",
        "            \n",
        "            correct += (pred == y).to('cpu').float().sum()\n",
        "            \n",
        "            epoch_loss += loss.item()\n",
        "            \n",
        "            #backprop\n",
        "            optimizer.zero_grad()\n",
        "            loss.backward()\n",
        "            optimizer.step()\n",
        "        \n",
        "        acc_train.append(100 * correct / len(train_dataloader.dataset))\n",
        "        loss_train.append(epoch_loss/len(train_dataloader))\n",
        "        # loss_train.append(epoch_loss)\n",
        "        \n",
        "        # ===================VALIDATION =================\n",
        "        model.eval()\n",
        "    \n",
        "        epoch_loss = 0\n",
        "        correct = 0\n",
        "        \n",
        "        for x, y in valid_dataloader:\n",
        "            \n",
        "            x = x.to(device)\n",
        "            y = y.to(device)\n",
        "            \n",
        "            out = model(x)\n",
        "            \n",
        "            loss = criterion(out, y)\n",
        "            \n",
        "            _,pred = torch.max(out, 1)\n",
        "            \n",
        "            correct += (pred == y).to('cpu').float().sum()\n",
        "            \n",
        "            epoch_loss += loss.item()\n",
        "        \n",
        "        acc_valid.append(100 * correct / len(valid_dataloader.dataset))\n",
        "        loss_valid.append(epoch_loss/len(valid_dataloader))\n",
        "        # loss_valid.append(epoch_loss)\n",
        "        \n",
        "        # ================= PRINT ===========================\n",
        "        if i % print_epoch == 0 :\n",
        "            clear_output(wait=True)\n",
        "            print(f'epoch {i}/{epochs} train loss: {np.round(loss_train[-1],5)} train acc: {np.round(acc_train[-1],5)} validation loss: {np.round(loss_valid[-1],5)} validation acc: {np.round(acc_valid[-1],5)}')\n",
        "            plt.plot(loss_train, label='train')\n",
        "            plt.plot(loss_valid, label='test')\n",
        "            plt.title('Loss during Training')\n",
        "            plt.xlabel('epoch')\n",
        "            plt.ylabel('loss')\n",
        "            plt.legend()\n",
        "            plt.show()\n",
        "\n",
        "            plt.plot(acc_train, label='train')\n",
        "            plt.plot(acc_valid, label='test')\n",
        "            plt.title('Accuracy during Training')\n",
        "            plt.xlabel('epoch')\n",
        "            plt.ylabel('accuracy')\n",
        "            plt.legend()\n",
        "            plt.show()    \n",
        "            \n",
        "    return model, loss_train, loss_valid, acc_train, acc_valid\n",
        "            "
      ],
      "execution_count": null,
      "outputs": []
    },
    {
      "cell_type": "code",
      "metadata": {
        "colab": {
          "base_uri": "https://localhost:8080/",
          "height": 610
        },
        "id": "5Ah2JwhFhBum",
        "outputId": "2d5f7daf-fff8-41ff-ee25-2f91bdf93f88"
      },
      "source": [
        "model_plant, loss_train_plant, loss_valid_plant, acc_train_plant, acc_valid_plant = train_model(model_plant, plant_train_loader, plant_valid_loader, 200, criterion_plant, optimizer_plant, 1)"
      ],
      "execution_count": null,
      "outputs": [
        {
          "output_type": "stream",
          "name": "stdout",
          "text": [
            "epoch 200/200 train loss: 1.13984 train acc: 54.68901824951172 validation loss: 1.18687 validation acc: 52.806121826171875\n"
          ]
        },
        {
          "output_type": "display_data",
          "data": {
            "image/png": "[encoded data removed]",
            "text/plain": [
              "<Figure size 432x288 with 1 Axes>"
            ]
          },
          "metadata": {
            "needs_background": "light"
          }
        },
        {
          "output_type": "display_data",
          "data": {
            "image/png": "[encoded data removed]",
            "text/plain": [
              "<Figure size 432x288 with 1 Axes>"
            ]
          },
          "metadata": {
            "needs_background": "light"
          }
        }
      ]
    },
    {
      "cell_type": "code",
      "metadata": {
        "colab": {
          "base_uri": "https://localhost:8080/",
          "height": 610
        },
        "id": "WOGHKTAewhuX",
        "outputId": "3dbc9762-a6d9-41bb-b22a-3ff279a591a9"
      },
      "source": [
        "model_ratoon, loss_train_ratoon, loss_valid_ratoon, acc_train_ratoon, acc_valid_ratoon = train_model(model_ratoon, ratoon_train_loader, ratoon_valid_loader, 200, criterion_ratoon, optimizer_ratoon, 1)"
      ],
      "execution_count": null,
      "outputs": [
        {
          "output_type": "stream",
          "name": "stdout",
          "text": [
            "epoch 200/200 train loss: 1.17309 train acc: 50.0041618347168 validation loss: 1.16544 validation acc: 50.369361877441406\n"
          ]
        },
        {
          "output_type": "display_data",
          "data": {
            "image/png": "[encoded data removed]",
            "text/plain": [
              "<Figure size 432x288 with 1 Axes>"
            ]
          },
          "metadata": {
            "needs_background": "light"
          }
        },
        {
          "output_type": "display_data",
          "data": {
            "image/png": "[encoded data removed]",
            "text/plain": [
              "<Figure size 432x288 with 1 Axes>"
            ]
          },
          "metadata": {
            "needs_background": "light"
          }
        }
      ]
    },
    {
      "cell_type": "code",
      "metadata": {
        "id": "KpIiF6RVvpDA"
      },
      "source": [
        ""
      ],
      "execution_count": null,
      "outputs": []
    },
    {
      "cell_type": "code",
      "metadata": {
        "id": "nBiwzxf_hGa2"
      },
      "source": [
        "def predict_model(model, X_test):\n",
        "    \n",
        "    model.eval()\n",
        "    \n",
        "    x = torch.tensor(X_test).float()\n",
        "    \n",
        "    x = x.to(device)\n",
        "            \n",
        "    out = model(x).to('cpu')\n",
        "    \n",
        "    pred = torch.max(out, 1)[1].numpy()\n",
        "    \n",
        "    return pred"
      ],
      "execution_count": null,
      "outputs": []
    },
    {
      "cell_type": "code",
      "metadata": {
        "id": "FtYp2Eg3i1nm"
      },
      "source": [
        "y_pred_plant = predict_model(model_plant, X_plant_valid)\n",
        "y_pred_ratoon = predict_model(model_ratoon, X_ratoon_valid)"
      ],
      "execution_count": null,
      "outputs": []
    },
    {
      "cell_type": "code",
      "metadata": {
        "colab": {
          "base_uri": "https://localhost:8080/"
        },
        "id": "0HcOktZ4i3HO",
        "outputId": "59d7f960-05ca-42ca-8390-75cb2108fe03"
      },
      "source": [
        "from sklearn.metrics import classification_report\n",
        "\n",
        "print(classification_report(y_ratoon_valid, y_pred_ratoon))\n",
        "print(classification_report(y_plant_valid, y_pred_plant))"
      ],
      "execution_count": null,
      "outputs": [
        {
          "output_type": "stream",
          "name": "stdout",
          "text": [
            "              precision    recall  f1-score   support\n",
            "\n",
            "           0       0.52      0.75      0.61       571\n",
            "           1       0.37      0.58      0.45       571\n",
            "           2       0.42      0.35      0.38       572\n",
            "           3       0.55      0.05      0.09       572\n",
            "           4       0.34      0.32      0.33       571\n",
            "           5       0.36      0.26      0.30       572\n",
            "           6       0.67      0.24      0.35       571\n",
            "           7       0.62      1.00      0.76       572\n",
            "          23       0.70      1.00      0.82       572\n",
            "\n",
            "    accuracy                           0.50      5144\n",
            "   macro avg       0.50      0.50      0.45      5144\n",
            "weighted avg       0.50      0.50      0.45      5144\n",
            "\n",
            "              precision    recall  f1-score   support\n",
            "\n",
            "           0       0.39      0.50      0.44       294\n",
            "           1       0.33      0.49      0.39       294\n",
            "           2       0.25      0.11      0.15       294\n",
            "           3       0.21      0.17      0.19       294\n",
            "           4       0.45      0.03      0.06       294\n",
            "           5       0.31      0.20      0.24       294\n",
            "           6       0.58      0.27      0.37       294\n",
            "           7       0.49      1.00      0.66       294\n",
            "          20       0.98      1.00      0.99       294\n",
            "          21       0.93      0.98      0.96       294\n",
            "          22       0.60      0.98      0.75       294\n",
            "          23       0.56      0.61      0.58       294\n",
            "\n",
            "    accuracy                           0.53      3528\n",
            "   macro avg       0.51      0.53      0.48      3528\n",
            "weighted avg       0.51      0.53      0.48      3528\n",
            "\n"
          ]
        }
      ]
    },
    {
      "cell_type": "code",
      "metadata": {
        "id": "YPz0ENHTi6Hn"
      },
      "source": [
        "from sklearn.metrics import confusion_matrix\n",
        "\n",
        "cf_matrix_plant = confusion_matrix(y_plant_valid, y_pred_plant)\n",
        "cf_matrix_ratoon = confusion_matrix(y_ratoon_valid, y_pred_ratoon)"
      ],
      "execution_count": null,
      "outputs": []
    },
    {
      "cell_type": "code",
      "metadata": {
        "colab": {
          "base_uri": "https://localhost:8080/",
          "height": 282
        },
        "id": "ASwPUp2lyqb0",
        "outputId": "091fbb52-ce0c-46af-878b-a54d2a79e650"
      },
      "source": [
        "import seaborn as sns\n",
        "sns.heatmap(cf_matrix_plant, annot=True)\n"
      ],
      "execution_count": null,
      "outputs": [
        {
          "output_type": "execute_result",
          "data": {
            "text/plain": [
              "<matplotlib.axes._subplots.AxesSubplot at 0x7f74dd9c9910>"
            ]
          },
          "metadata": {},
          "execution_count": 171
        },
        {
          "output_type": "display_data",
          "data": {
            "image/png": "[encoded data removed]",
            "text/plain": [
              "<Figure size 432x288 with 2 Axes>"
            ]
          },
          "metadata": {
            "needs_background": "light"
          }
        }
      ]
    },
    {
      "cell_type": "code",
      "metadata": {
        "colab": {
          "base_uri": "https://localhost:8080/",
          "height": 282
        },
        "id": "QzglZc9JywLb",
        "outputId": "dba6956f-0d38-42bc-b7c5-313bf80346a1"
      },
      "source": [
        "sns.heatmap(cf_matrix_ratoon, annot=True)"
      ],
      "execution_count": null,
      "outputs": [
        {
          "output_type": "execute_result",
          "data": {
            "text/plain": [
              "<matplotlib.axes._subplots.AxesSubplot at 0x7f74de3365d0>"
            ]
          },
          "metadata": {},
          "execution_count": 172
        },
        {
          "output_type": "display_data",
          "data": {
            "image/png": "[encoded data removed]",
            "text/plain": [
              "<Figure size 432x288 with 2 Axes>"
            ]
          },
          "metadata": {
            "needs_background": "light"
          }
        }
      ]
    },
    {
      "cell_type": "code",
      "metadata": {
        "id": "oSUHwU9Hyya8"
      },
      "source": [
        "drive.flush_and_unmount()"
      ],
      "execution_count": null,
      "outputs": []
    },
    {
      "cell_type": "code",
      "metadata": {
        "id": "0UnOfvbbA4HS"
      },
      "source": [
        ""
      ],
      "execution_count": null,
      "outputs": []
    }
  ]
}