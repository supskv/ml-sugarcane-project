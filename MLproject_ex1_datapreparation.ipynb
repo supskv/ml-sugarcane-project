{
 "cells": [
  {
   "cell_type": "markdown",
   "id": "a5d2be82-bff4-429d-8bf0-ee66707ea0a8",
   "metadata": {},
   "source": [
    "# Experiment 1 Data Preparation"
   ]
  },
  {
   "cell_type": "markdown",
   "id": "1e505a4f-7293-4e4b-bc82-34a202c83692",
   "metadata": {},
   "source": [
    "import libraries"
   ]
  },
  {
   "cell_type": "code",
   "execution_count": 1,
   "id": "df108deb-77da-43e9-bf84-ef78d650766c",
   "metadata": {},
   "outputs": [],
   "source": [
    "import pandas as pd\n",
    "import numpy as np\n",
    "from copy import copy"
   ]
  },
  {
   "cell_type": "markdown",
   "id": "db2bc039-0daf-42d2-9fd2-a390f004e751",
   "metadata": {},
   "source": [
    "define function to convert raw data to numpy array as (batch, time len, features)"
   ]
  },
  {
   "cell_type": "code",
   "execution_count": 36,
   "id": "d8eee38e-908e-49cb-b287-6c2224a90f4d",
   "metadata": {},
   "outputs": [],
   "source": [
    "def file_to_data(filename):\n",
    "    \n",
    "    # read file\n",
    "    raw = pd.read_csv(filename)\n",
    "    \n",
    "    # define columns to be extracted\n",
    "    ndvi_col = ['ndvi_mean'+str(i) for i in range(1, 24+1)] # ndvi_mean1, ..., ndvi_mean24\n",
    "    savi_col = ['ndvi_mean'+str(i) for i in range(1, 24+1)] # ndvi_mean1, ..., savi_mean24\n",
    "    evi_col = ['ndvi_mean'+str(i) for i in range(1, 24+1)] # ndvi_mean1, ..., evi_mean24\n",
    "\n",
    "    # extract each feature\n",
    "    ndvi_timeseries = raw[ndvi_col]\n",
    "    savi_timeseries = raw[savi_col]\n",
    "    evi_timeseries = raw[evi_col]\n",
    "    \n",
    "    # dimension stack\n",
    "    data = np.dstack([ndvi_timeseries, savi_timeseries, evi_timeseries])\n",
    "    \n",
    "    # get only label\n",
    "    label = raw.iloc[:, -1]\n",
    "    \n",
    "    return data, label\n",
    "\n",
    "def data_to_lv1_x_y(data, labels):\n",
    "    \n",
    "    # export all X\n",
    "    # but reclass the plant cane -> 100, ratoon cane -> 200\n",
    "    target = copy(labels)\n",
    "    target[target > 200] = 200\n",
    "    target[(target < 200) & (target > 100)] = 100\n",
    "    \n",
    "    return data, target\n",
    "\n",
    "def data_to_lv2_x_y(data, target):\n",
    "    \n",
    "    # export X plant which labels are 100-200\n",
    "    X_plant = data[(target > 100) & (target <200)]\n",
    "    \n",
    "    # export X ratoon which labels are >200\n",
    "    X_ratoon = data[target > 200]\n",
    "    \n",
    "    # export y plant which labels are 100-200\n",
    "    y_plant = target[(target > 100) & (target < 200)]\n",
    "    \n",
    "    # export y ratoon which labels are >200\n",
    "    y_ratoon = target[target > 200]\n",
    "    \n",
    "    return X_plant, y_plant, X_ratoon, y_ratoon\n",
    "\n",
    "def label_encode(y):\n",
    "    \n",
    "    target = copy(y)\n",
    "    # redefine the cane plantation label to be 1 - 24\n",
    "    new_y = [int(str(label)[1:]) for label in target]\n",
    "    \n",
    "    return np.array(new_y)"
   ]
  },
  {
   "cell_type": "markdown",
   "id": "69f4dc8d-dc45-4d80-aaa7-ef97a8e60024",
   "metadata": {},
   "source": [
    "## Preparation step 1 -> raw data extraction\n",
    "\n",
    "from file to data and lebels, use <code>file_to_data</code> function"
   ]
  },
  {
   "cell_type": "code",
   "execution_count": 3,
   "id": "1bb0b5c2-8512-481d-b255-04843b737904",
   "metadata": {},
   "outputs": [],
   "source": [
    "data, labels = file_to_data('training_data_1718.csv')"
   ]
  },
  {
   "cell_type": "markdown",
   "id": "e4cfa21a-915e-4f8a-b1a6-a8d9bcee8f60",
   "metadata": {},
   "source": [
    "Shape of data is (batch, sequence length, features)"
   ]
  },
  {
   "cell_type": "code",
   "execution_count": 47,
   "id": "9471a0a9-a7fa-4e7f-be00-77f9495a32e8",
   "metadata": {},
   "outputs": [
    {
     "data": {
      "text/plain": [
       "(12860, 24, 3)"
      ]
     },
     "execution_count": 47,
     "metadata": {},
     "output_type": "execute_result"
    }
   ],
   "source": [
    "data.shape"
   ]
  },
  {
   "cell_type": "markdown",
   "id": "8d2755b9-7a92-491b-912f-d5b954639502",
   "metadata": {},
   "source": [
    "and labels are"
   ]
  },
  {
   "cell_type": "code",
   "execution_count": 4,
   "id": "66e7ec98-d311-4c67-a2aa-7fe0df9267fa",
   "metadata": {},
   "outputs": [
    {
     "data": {
      "text/plain": [
       "0         70\n",
       "1         70\n",
       "2         70\n",
       "3         70\n",
       "4         70\n",
       "        ... \n",
       "12855    224\n",
       "12856    224\n",
       "12857    224\n",
       "12858    224\n",
       "12859    224\n",
       "Name: code, Length: 12860, dtype: int64"
      ]
     },
     "execution_count": 4,
     "metadata": {},
     "output_type": "execute_result"
    }
   ],
   "source": [
    "labels"
   ]
  },
  {
   "cell_type": "markdown",
   "id": "4c644356-84fb-4699-952f-0000a6276709",
   "metadata": {},
   "source": [
    "## Preparation step 2.1 -> X, y level 1 extraction\n",
    "\n",
    "use <code>data_to_lv1_x_y</code> function to extract X and y"
   ]
  },
  {
   "cell_type": "code",
   "execution_count": 5,
   "id": "5056d42c-6497-42d3-9947-06916537fa20",
   "metadata": {},
   "outputs": [],
   "source": [
    "X, y = data_to_lv1_x_y(data, labels)"
   ]
  },
  {
   "cell_type": "markdown",
   "id": "b01a41f2-54ce-4010-9a24-ac78dc6f4f69",
   "metadata": {},
   "source": [
    "Shape of X is (batch, sequence length, features)"
   ]
  },
  {
   "cell_type": "code",
   "execution_count": 6,
   "id": "56152739-6d2f-474f-9cc7-da038fc68805",
   "metadata": {},
   "outputs": [
    {
     "data": {
      "text/plain": [
       "(12860, 24, 3)"
      ]
     },
     "execution_count": 6,
     "metadata": {},
     "output_type": "execute_result"
    }
   ],
   "source": [
    "X.shape"
   ]
  },
  {
   "cell_type": "markdown",
   "id": "0aca374a-61eb-46c8-95cc-cb3e610788fb",
   "metadata": {},
   "source": [
    "But y still be the identific class"
   ]
  },
  {
   "cell_type": "code",
   "execution_count": 7,
   "id": "04254f68-7fdb-4b97-bd29-9820ada42052",
   "metadata": {},
   "outputs": [
    {
     "data": {
      "text/plain": [
       "array([ 40,  50,  60,  70,  71,  72,  80,  81,  82,  90, 100, 200])"
      ]
     },
     "execution_count": 7,
     "metadata": {},
     "output_type": "execute_result"
    }
   ],
   "source": [
    "np.unique(y)"
   ]
  },
  {
   "cell_type": "markdown",
   "id": "9886cc93-d393-4769-a187-35d0fc84a27b",
   "metadata": {},
   "source": [
    "Encode them "
   ]
  },
  {
   "cell_type": "code",
   "execution_count": 24,
   "id": "0952f9e6-08aa-498f-abcf-fdd3ae88d2f3",
   "metadata": {},
   "outputs": [],
   "source": [
    "from sklearn.preprocessing import LabelEncoder\n",
    "\n",
    "lu_encoder = LabelEncoder()\n",
    "\n",
    "y = lu_encoder.fit_transform(y)"
   ]
  },
  {
   "cell_type": "markdown",
   "id": "bbd2a0a8-9aa3-4a90-8164-c60ced3edac6",
   "metadata": {},
   "source": [
    "From these identific class"
   ]
  },
  {
   "cell_type": "code",
   "execution_count": 25,
   "id": "b887b049-0eda-40f9-812c-945b58c77ef4",
   "metadata": {},
   "outputs": [
    {
     "data": {
      "text/plain": [
       "array([ 40,  50,  60,  70,  71,  72,  80,  81,  82,  90, 100, 200])"
      ]
     },
     "execution_count": 25,
     "metadata": {},
     "output_type": "execute_result"
    }
   ],
   "source": [
    "encoder.classes_"
   ]
  },
  {
   "cell_type": "markdown",
   "id": "ff4e76fb-18b1-48ba-bd00-da0ceedab3da",
   "metadata": {},
   "source": [
    "To be new y"
   ]
  },
  {
   "cell_type": "code",
   "execution_count": 26,
   "id": "d87ada54-8fc6-4172-8044-7a0b3b3e4b63",
   "metadata": {},
   "outputs": [
    {
     "data": {
      "text/plain": [
       "array([ 0,  1,  2,  3,  4,  5,  6,  7,  8,  9, 10, 11])"
      ]
     },
     "execution_count": 26,
     "metadata": {},
     "output_type": "execute_result"
    }
   ],
   "source": [
    "np.unique(y)"
   ]
  },
  {
   "cell_type": "markdown",
   "id": "65356b2c-b051-4f1e-86f4-8c08a374318c",
   "metadata": {},
   "source": [
    "**For level 1 use above code and, use this X, and y directly**"
   ]
  },
  {
   "cell_type": "markdown",
   "id": "fc9e3dcc-6cfc-4f6f-ac51-f536e1e15280",
   "metadata": {},
   "source": [
    "## Preparation step 2.2 -> X, y level 2 extraction\n",
    "\n",
    "Level 2 is separated from lv 1 (not related). we can implement these below code without perform level 1 extraction.\n",
    "\n",
    "After raw extraction, just use <code>data_to_lv2_x_y</code> function"
   ]
  },
  {
   "cell_type": "code",
   "execution_count": 41,
   "id": "ec619327-6a13-48a8-a8d2-a4d9e9e38f18",
   "metadata": {},
   "outputs": [],
   "source": [
    "X_plant, y_plant, X_ratoon, y_ratoon = data_to_lv2_x_y(data, labels)"
   ]
  },
  {
   "cell_type": "markdown",
   "id": "7b384e38-5427-45b1-ae53-07bf6920457a",
   "metadata": {},
   "source": [
    "extracted X for each sugarcane types are"
   ]
  },
  {
   "cell_type": "code",
   "execution_count": 53,
   "id": "0029cb0f-f3db-485b-a2ab-ad08bb843624",
   "metadata": {},
   "outputs": [
    {
     "name": "stdout",
     "output_type": "stream",
     "text": [
      "X plant shape  (4489, 24, 3)\n",
      "X ratoon shape  (7878, 24, 3)\n"
     ]
    }
   ],
   "source": [
    "print('X plant shape ', X_plant.shape)\n",
    "print('X ratoon shape ', X_ratoon.shape)"
   ]
  },
  {
   "cell_type": "markdown",
   "id": "f741282c-6588-45fc-9145-d4d80c94fc24",
   "metadata": {},
   "source": [
    "out y_plant is the labels which are plant cane"
   ]
  },
  {
   "cell_type": "code",
   "execution_count": 42,
   "id": "8bde9055-08f9-468c-8d16-d761fad78dab",
   "metadata": {},
   "outputs": [
    {
     "data": {
      "text/plain": [
       "array([101, 102, 103, 104, 105, 106, 107, 108, 121, 122, 123, 124])"
      ]
     },
     "execution_count": 42,
     "metadata": {},
     "output_type": "execute_result"
    }
   ],
   "source": [
    "np.unique(y_plant)"
   ]
  },
  {
   "cell_type": "markdown",
   "id": "cae964b6-8c3b-43a4-8235-976bc35a9197",
   "metadata": {},
   "source": [
    "out y_plant is the labels which are ratoon cane"
   ]
  },
  {
   "cell_type": "code",
   "execution_count": 43,
   "id": "9f3fd099-eece-4507-b4b8-788c4805339b",
   "metadata": {},
   "outputs": [
    {
     "data": {
      "text/plain": [
       "array([201, 202, 203, 204, 205, 206, 207, 208, 224])"
      ]
     },
     "execution_count": 43,
     "metadata": {},
     "output_type": "execute_result"
    }
   ],
   "source": [
    "np.unique(y_ratoon)"
   ]
  },
  {
   "cell_type": "markdown",
   "id": "4ada7d6c-b3ea-4312-980d-412b5729984a",
   "metadata": {},
   "source": [
    "However, this label is not suitable for feeding to model, encode it to simple "
   ]
  },
  {
   "cell_type": "code",
   "execution_count": 44,
   "id": "3e409c8c-d124-4b20-8037-26d746aa1305",
   "metadata": {},
   "outputs": [],
   "source": [
    "y_plant = label_encode(y_plant)-1\n",
    "y_ratoon = label_encode(y_ratoon)-1"
   ]
  },
  {
   "cell_type": "markdown",
   "id": "ee2b5f63-d591-45cb-b040-547537700ef2",
   "metadata": {},
   "source": [
    "after encoding, the new y will be the date identification and interpretable"
   ]
  },
  {
   "cell_type": "code",
   "execution_count": 45,
   "id": "ae6ac59c-a338-4cab-9372-873abd19940f",
   "metadata": {},
   "outputs": [
    {
     "data": {
      "text/plain": [
       "array([ 0,  1,  2,  3,  4,  5,  6,  7, 20, 21, 22, 23])"
      ]
     },
     "execution_count": 45,
     "metadata": {},
     "output_type": "execute_result"
    }
   ],
   "source": [
    "np.unique(y_plant)"
   ]
  },
  {
   "cell_type": "code",
   "execution_count": 46,
   "id": "33d2794d-4c45-490e-a504-8c1bf584a11e",
   "metadata": {},
   "outputs": [
    {
     "data": {
      "text/plain": [
       "array([ 0,  1,  2,  3,  4,  5,  6,  7, 23])"
      ]
     },
     "execution_count": 46,
     "metadata": {},
     "output_type": "execute_result"
    }
   ],
   "source": [
    "np.unique(y_ratoon)"
   ]
  },
  {
   "cell_type": "markdown",
   "id": "a0af760c-a871-4f33-aaa3-181981029bed",
   "metadata": {},
   "source": [
    "For Level 2, implement above code and use \n",
    "\n",
    "- Plant date classification: **X_plant, y_plant**\n",
    "- Ratoon date classification: **X_ratoon, y_ratoon**"
   ]
  },
  {
   "cell_type": "code",
   "execution_count": null,
   "id": "079a550a-d830-4784-857c-72149fc21e2d",
   "metadata": {},
   "outputs": [],
   "source": []
  }
 ],
 "metadata": {
  "kernelspec": {
   "display_name": "Python 3 (ipykernel)",
   "language": "python",
   "name": "python3"
  },
  "language_info": {
   "codemirror_mode": {
    "name": "ipython",
    "version": 3
   },
   "file_extension": ".py",
   "mimetype": "text/x-python",
   "name": "python",
   "nbconvert_exporter": "python",
   "pygments_lexer": "ipython3",
   "version": "3.9.7"
  }
 },
 "nbformat": 4,
 "nbformat_minor": 5
}
