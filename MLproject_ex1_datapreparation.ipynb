{
 "cells": [
  {
   "cell_type": "markdown",
   "id": "a5d2be82-bff4-429d-8bf0-ee66707ea0a8",
   "metadata": {},
   "source": [
    "# Experiment 1 Data Preparation"
   ]
  },
  {
   "cell_type": "markdown",
   "id": "1e505a4f-7293-4e4b-bc82-34a202c83692",
   "metadata": {},
   "source": [
    "import 2 library"
   ]
  },
  {
   "cell_type": "code",
   "execution_count": 3,
   "id": "df108deb-77da-43e9-bf84-ef78d650766c",
   "metadata": {},
   "outputs": [],
   "source": [
    "import pandas as pd\n",
    "import numpy as np"
   ]
  },
  {
   "cell_type": "markdown",
   "id": "db2bc039-0daf-42d2-9fd2-a390f004e751",
   "metadata": {},
   "source": [
    "define function to convert raw data to numpy array as (batch, time len, features)"
   ]
  },
  {
   "cell_type": "code",
   "execution_count": 4,
   "id": "d8eee38e-908e-49cb-b287-6c2224a90f4d",
   "metadata": {},
   "outputs": [],
   "source": [
    "def file_to_data(filename):\n",
    "    \n",
    "    # read file\n",
    "    raw = pd.read_csv(filename)\n",
    "    \n",
    "    # define columns to be extracted\n",
    "    ndvi_col = ['ndvi_mean'+str(i) for i in range(1, 24+1)] # ndvi_mean1, ..., ndvi_mean24\n",
    "    savi_col = ['ndvi_mean'+str(i) for i in range(1, 24+1)] # ndvi_mean1, ..., savi_mean24\n",
    "    evi_col = ['ndvi_mean'+str(i) for i in range(1, 24+1)] # ndvi_mean1, ..., evi_mean24\n",
    "\n",
    "    # extract each feature\n",
    "    ndvi_timeseries = raw[ndvi_col]\n",
    "    savi_timeseries = raw[savi_col]\n",
    "    evi_timeseries = raw[evi_col]\n",
    "    \n",
    "    # dimension stack\n",
    "    data = np.dstack([ndvi_timeseries, savi_timeseries, evi_timeseries])\n",
    "    \n",
    "    return data"
   ]
  },
  {
   "cell_type": "code",
   "execution_count": 5,
   "id": "1bb0b5c2-8512-481d-b255-04843b737904",
   "metadata": {},
   "outputs": [],
   "source": [
    "data = file_to_data('training_data_1718.csv')"
   ]
  },
  {
   "cell_type": "code",
   "execution_count": 6,
   "id": "5056d42c-6497-42d3-9947-06916537fa20",
   "metadata": {},
   "outputs": [
    {
     "data": {
      "text/plain": [
       "(12860, 24, 3)"
      ]
     },
     "execution_count": 6,
     "metadata": {},
     "output_type": "execute_result"
    }
   ],
   "source": [
    "data.shape"
   ]
  },
  {
   "cell_type": "code",
   "execution_count": null,
   "id": "475745d2-4c5d-44c6-a624-6dcaa334b25e",
   "metadata": {},
   "outputs": [],
   "source": []
  }
 ],
 "metadata": {
  "kernelspec": {
   "display_name": "Python 3 (ipykernel)",
   "language": "python",
   "name": "python3"
  },
  "language_info": {
   "codemirror_mode": {
    "name": "ipython",
    "version": 3
   },
   "file_extension": ".py",
   "mimetype": "text/x-python",
   "name": "python",
   "nbconvert_exporter": "python",
   "pygments_lexer": "ipython3",
   "version": "3.9.7"
  }
 },
 "nbformat": 4,
 "nbformat_minor": 5
}
